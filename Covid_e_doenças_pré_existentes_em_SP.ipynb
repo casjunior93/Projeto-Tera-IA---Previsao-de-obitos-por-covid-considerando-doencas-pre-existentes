{
  "nbformat": 4,
  "nbformat_minor": 0,
  "metadata": {
    "colab": {
      "name": "Covid e doenças pré-existentes em SP.ipynb",
      "provenance": [],
      "collapsed_sections": [],
      "authorship_tag": "ABX9TyPyrBluYHEVlfHJDur5b/sp",
      "include_colab_link": true
    },
    "kernelspec": {
      "name": "python3",
      "display_name": "Python 3"
    },
    "language_info": {
      "name": "python"
    }
  },
  "cells": [
    {
      "cell_type": "markdown",
      "metadata": {
        "id": "view-in-github",
        "colab_type": "text"
      },
      "source": [
        "<a href=\"https://colab.research.google.com/github/casjunior93/Projeto-Tera-IA---Previsao-de-obitos-por-covid-considerando-doencas-pre-existentes/blob/main/Covid_e_doen%C3%A7as_pr%C3%A9_existentes_em_SP.ipynb\" target=\"_parent\"><img src=\"https://colab.research.google.com/assets/colab-badge.svg\" alt=\"Open In Colab\"/></a>"
      ]
    },
    {
      "cell_type": "markdown",
      "source": [
        "Habilitando o acesso ao Google Drive no Colab."
      ],
      "metadata": {
        "id": "Nmh82hbX_HFq"
      }
    },
    {
      "cell_type": "code",
      "source": [
        "from google.colab import drive\n",
        "drive.mount('/content/drive')"
      ],
      "metadata": {
        "colab": {
          "base_uri": "https://localhost:8080/"
        },
        "id": "JcRGzXey3iEO",
        "outputId": "7e80d553-95a8-4ffb-86d2-3ff54ff81bc8"
      },
      "execution_count": 1,
      "outputs": [
        {
          "output_type": "stream",
          "name": "stdout",
          "text": [
            "Drive already mounted at /content/drive; to attempt to forcibly remount, call drive.mount(\"/content/drive\", force_remount=True).\n"
          ]
        }
      ]
    },
    {
      "cell_type": "markdown",
      "source": [
        "# Bibliotecas fundamentais"
      ],
      "metadata": {
        "id": "Kf61C8dy_BTS"
      }
    },
    {
      "cell_type": "code",
      "source": [
        "import numpy as np\n",
        "import pandas as pd\n",
        "import seaborn as sns\n",
        "import matplotlib.pyplot as plt\n",
        "import warnings\n",
        "warnings.filterwarnings('ignore')\n",
        "\n",
        "#Configura o pandas para não exibir resultados em notação científica\n",
        "pd.options.display.float_format = '{:.2f}'.format"
      ],
      "metadata": {
        "id": "cCZGdIar32a-"
      },
      "execution_count": 2,
      "outputs": []
    },
    {
      "cell_type": "markdown",
      "source": [
        "# Roteiro do Projeto\n",
        "\n",
        "O livro [Mãos à Obra: Aprendizado de Máquina com Scikit-Learn, Keras & TensorFlow](https://www.oreilly.com/library/view/maos-a-obra/9788550803814/) traz uma sugestão de roteiro para orientar um projeto de aprendizado de máquina. Os passos gerais são:\n",
        "\n",
        "1.   Abordar o problema e analisar o panorama em geral\n",
        "2.   Obter os dados\n",
        "3.   Explorar os dados para obter informações úteis\n",
        "4.   Preparar os dados para expor melhor os padrões de dados subjacentes aos algoritmos de aprendizado de máquina.\n",
        "5.   Explorar modelos diferentes e selecionar os melhores.\n",
        "6.   Aperfeiçoar os modelos e os combinar em uma solução ideal.\n",
        "7.   Apresentar a solução.\n",
        "8.   Implementar, monitorar e fazer a manutenção de seu sistema.\n",
        "\n"
      ],
      "metadata": {
        "id": "NLVZvukM4Ita"
      }
    },
    {
      "cell_type": "markdown",
      "source": [
        "# Passo 1: Abordar o problema e analisar o panorama em geral"
      ],
      "metadata": {
        "id": "kL7wHNre6_jb"
      }
    },
    {
      "cell_type": "markdown",
      "source": [
        "A COVID-19 é uma doença causada pelo coronavírus SARS-CoV-2. Seus principais sintomas são febre, cansaço e tosse seca. [(1)](https://www.paho.org/pt/covid19) O crescimento rápido de casos e óbitos por COVID-19 causou uma grande sobrecarga do sistema de saúde no Brasil. [(2)](http://cadernos.ensp.fiocruz.br/csp/artigo/1451/mortalidade-por-covid-19-padronizada-por-idade-nas-capitais-das-diferentes-regioes-do-brasil) Várias cidades brasileiras sofreram com a falta de leitos de UTI para casos graves de COVID-19, o que trouxe um dado alarmante: em 2021, 38% das mortes por covid ocorreram por falta de atendimento médico. [(3)](https://oglobo.globo.com/brasil/em-2021-38-dos-mortos-por-covid-em-hospitais-nao-chegaram-uti-1-24944189)\n",
        "\n",
        "O objetivo desse modelo é prever se uma pessoa pode vir a óbito por covid-19 levando em consideração as doenças pré-existentes desta. Este modelo poderia ser útil para fazer a triagem de pacientes e o gerenciamento de leitos. Além disso, pode ser uma boa ferramenta para a prevenção de casos graves de COVID-19, gerando recomendações de vacinação, por exemplo, tendo em vista as diversas variantes do vírus que estão aparecendo e ao relaxamento das medidas de isolamento."
      ],
      "metadata": {
        "id": "09EXKCELDZSm"
      }
    },
    {
      "cell_type": "markdown",
      "source": [
        "# Passo 2: Obter os dados"
      ],
      "metadata": {
        "id": "YhfU4qNh9ojM"
      }
    },
    {
      "cell_type": "markdown",
      "source": [
        "Os dados utilizados são referentes à população do estado de São Paulo e serão obtidos através da página [do site](https://www.seade.gov.br/coronavirus/) da Fundação SEADE - Sistema Estadual de Análise de Dados. Eles foram obtidos no dia 20 de julho de 2022 e apresentam dados recolhidos de 04 de fevereiro de 2020 até o dia 18 de julho de 2022."
      ],
      "metadata": {
        "id": "OFlnA_na9w5K"
      }
    },
    {
      "cell_type": "markdown",
      "source": [
        "Dicionário: https://github.com/seade-R/dados-covid-sp#dicion%C3%A1rio-para-o-arquivo-de-casos-%C3%B3bitos-e-doen%C3%A7as-pr%C3%A9-existentes\n",
        "\n",
        "Dados: https://raw.githubusercontent.com/seade-R/dados-covid-sp/master/data/casos_obitos_doencas_preexistentes.csv.zip"
      ],
      "metadata": {
        "id": "DiSsSyvxCs3z"
      }
    },
    {
      "cell_type": "markdown",
      "source": [
        "## Dicionário\n",
        "\n",
        "`codigo_ibge`\tCódigo do município no IBGE (7 dígitos) de residência do paciente\n",
        "\n",
        "`nome_munic`\tNome do município de residência do paciente\n",
        "\n",
        "`idade`\tIdade do paciente\n",
        "\n",
        "`cs_sexo`\tSexo do paciente\n",
        "\n",
        "`diagnostico_covid19`\tConfirmação de COVID-19\n",
        "\n",
        "`data_inicio_sintomas`\tData de início dos sintomas\n",
        "\n",
        "`obito`\tIndica se o paciente veio a óbito por COVID-19\n",
        "\n",
        "`asma`\tPaciente apresenta esse fator de risco (asma)\n",
        "\n",
        "`cardiopatia`\tPaciente apresenta esse fator de risco (cardiopatia)\n",
        "\n",
        "`diabetes`\tPaciente apresenta esse fator de risco (diabetes)\n",
        "\n",
        "`doenca_hematologica`\tPaciente apresenta esse fator de risco (doença hematológica)\n",
        "\n",
        "`doenca_hepatica`\tPaciente apresenta esse fator de risco (doença hepática)\n",
        "\n",
        "`doenca_neurologica`\tPaciente apresenta esse fator de risco (doença neurológica)\n",
        "\n",
        "`doenca_renal`\tPaciente apresenta esse fator de risco (doença renal)\n",
        "\n",
        "`imunodepressao`\tPaciente apresenta esse fator de risco (imunodepressão)\n",
        "\n",
        "`obesidade`\tPaciente apresenta esse fator de risco (obesidade)\n",
        "\n",
        "`outros_fatores_de_risco`\tPaciente apresenta outros fatores de risco\n",
        "\n",
        "`pneumopatia`\tPaciente apresenta esse fator de risco (pneumopatia)\n",
        "\n",
        "`puerpera`\tPaciente se encontra nesse estágio (puérpera)\n",
        "\n",
        "`sindrome_de_down`\tPaciente apresenta esse fator de risco (síndrome de down)"
      ],
      "metadata": {
        "id": "L0wP5kmH9109"
      }
    },
    {
      "cell_type": "markdown",
      "source": [
        "## Importação dos dados"
      ],
      "metadata": {
        "id": "o4QLxEAU_ScS"
      }
    },
    {
      "cell_type": "code",
      "source": [
        "%%time\n",
        "df_completo = pd.read_csv('/content/drive/MyDrive/ANÁLISES DE DADOS/Covid/casos_obitos_doencas_preexistentes.csv',\n",
        "                          sep=';', encoding='utf-8', parse_dates=['data_inicio_sintomas'])"
      ],
      "metadata": {
        "id": "PFVt0NbYqhVd",
        "outputId": "62c92339-7a27-4c30-d85f-fd6e828e5279",
        "colab": {
          "base_uri": "https://localhost:8080/"
        }
      },
      "execution_count": 3,
      "outputs": [
        {
          "output_type": "stream",
          "name": "stdout",
          "text": [
            "CPU times: user 43.2 s, sys: 6.1 s, total: 49.3 s\n",
            "Wall time: 57.5 s\n"
          ]
        }
      ]
    },
    {
      "cell_type": "code",
      "source": [
        "df_completo.head(5)"
      ],
      "metadata": {
        "colab": {
          "base_uri": "https://localhost:8080/",
          "height": 444
        },
        "id": "_lLGHd54BtBd",
        "outputId": "1eaf5f81-faee-44b3-876e-6e92a0a21282"
      },
      "execution_count": 4,
      "outputs": [
        {
          "output_type": "execute_result",
          "data": {
            "text/plain": [
              "                nome_munic  codigo_ibge  idade    cs_sexo diagnostico_covid19  \\\n",
              "0  Santa Cruz do Rio Pardo      3546405  42.00  MASCULINO          CONFIRMADO   \n",
              "1  Santa Cruz do Rio Pardo      3546405  26.00   FEMININO          CONFIRMADO   \n",
              "2  Santa Cruz do Rio Pardo      3546405  51.00  MASCULINO          CONFIRMADO   \n",
              "3  Santa Cruz do Rio Pardo      3546405  57.00  MASCULINO          CONFIRMADO   \n",
              "4  Santa Cruz do Rio Pardo      3546405  25.00  MASCULINO          CONFIRMADO   \n",
              "\n",
              "       data_inicio_sintomas  obito      asma cardiopatia  diabetes  \\\n",
              "0 2022-01-23 00:00:00+00:00      0  IGNORADO    IGNORADO  IGNORADO   \n",
              "1 2022-01-24 00:00:00+00:00      0  IGNORADO    IGNORADO  IGNORADO   \n",
              "2 2022-01-24 00:00:00+00:00      0  IGNORADO         SIM  IGNORADO   \n",
              "3 2022-01-24 00:00:00+00:00      0  IGNORADO    IGNORADO  IGNORADO   \n",
              "4 2022-01-24 00:00:00+00:00      0  IGNORADO    IGNORADO  IGNORADO   \n",
              "\n",
              "  doenca_hematologica doenca_hepatica doenca_neurologica doenca_renal  \\\n",
              "0            IGNORADO        IGNORADO           IGNORADO     IGNORADO   \n",
              "1            IGNORADO        IGNORADO           IGNORADO     IGNORADO   \n",
              "2            IGNORADO        IGNORADO           IGNORADO     IGNORADO   \n",
              "3            IGNORADO        IGNORADO           IGNORADO     IGNORADO   \n",
              "4            IGNORADO        IGNORADO           IGNORADO     IGNORADO   \n",
              "\n",
              "  imunodepressao obesidade outros_fatores_de_risco pneumopatia  puerpera  \\\n",
              "0       IGNORADO  IGNORADO                IGNORADO    IGNORADO  IGNORADO   \n",
              "1       IGNORADO  IGNORADO                IGNORADO    IGNORADO  IGNORADO   \n",
              "2       IGNORADO  IGNORADO                IGNORADO    IGNORADO  IGNORADO   \n",
              "3       IGNORADO  IGNORADO                IGNORADO    IGNORADO  IGNORADO   \n",
              "4       IGNORADO  IGNORADO                IGNORADO    IGNORADO  IGNORADO   \n",
              "\n",
              "  sindrome_de_down  \n",
              "0         IGNORADO  \n",
              "1         IGNORADO  \n",
              "2         IGNORADO  \n",
              "3         IGNORADO  \n",
              "4         IGNORADO  "
            ],
            "text/html": [
              "\n",
              "  <div id=\"df-d33ebf72-037e-4cb0-a6d9-669eb8322b8b\">\n",
              "    <div class=\"colab-df-container\">\n",
              "      <div>\n",
              "<style scoped>\n",
              "    .dataframe tbody tr th:only-of-type {\n",
              "        vertical-align: middle;\n",
              "    }\n",
              "\n",
              "    .dataframe tbody tr th {\n",
              "        vertical-align: top;\n",
              "    }\n",
              "\n",
              "    .dataframe thead th {\n",
              "        text-align: right;\n",
              "    }\n",
              "</style>\n",
              "<table border=\"1\" class=\"dataframe\">\n",
              "  <thead>\n",
              "    <tr style=\"text-align: right;\">\n",
              "      <th></th>\n",
              "      <th>nome_munic</th>\n",
              "      <th>codigo_ibge</th>\n",
              "      <th>idade</th>\n",
              "      <th>cs_sexo</th>\n",
              "      <th>diagnostico_covid19</th>\n",
              "      <th>data_inicio_sintomas</th>\n",
              "      <th>obito</th>\n",
              "      <th>asma</th>\n",
              "      <th>cardiopatia</th>\n",
              "      <th>diabetes</th>\n",
              "      <th>doenca_hematologica</th>\n",
              "      <th>doenca_hepatica</th>\n",
              "      <th>doenca_neurologica</th>\n",
              "      <th>doenca_renal</th>\n",
              "      <th>imunodepressao</th>\n",
              "      <th>obesidade</th>\n",
              "      <th>outros_fatores_de_risco</th>\n",
              "      <th>pneumopatia</th>\n",
              "      <th>puerpera</th>\n",
              "      <th>sindrome_de_down</th>\n",
              "    </tr>\n",
              "  </thead>\n",
              "  <tbody>\n",
              "    <tr>\n",
              "      <th>0</th>\n",
              "      <td>Santa Cruz do Rio Pardo</td>\n",
              "      <td>3546405</td>\n",
              "      <td>42.00</td>\n",
              "      <td>MASCULINO</td>\n",
              "      <td>CONFIRMADO</td>\n",
              "      <td>2022-01-23 00:00:00+00:00</td>\n",
              "      <td>0</td>\n",
              "      <td>IGNORADO</td>\n",
              "      <td>IGNORADO</td>\n",
              "      <td>IGNORADO</td>\n",
              "      <td>IGNORADO</td>\n",
              "      <td>IGNORADO</td>\n",
              "      <td>IGNORADO</td>\n",
              "      <td>IGNORADO</td>\n",
              "      <td>IGNORADO</td>\n",
              "      <td>IGNORADO</td>\n",
              "      <td>IGNORADO</td>\n",
              "      <td>IGNORADO</td>\n",
              "      <td>IGNORADO</td>\n",
              "      <td>IGNORADO</td>\n",
              "    </tr>\n",
              "    <tr>\n",
              "      <th>1</th>\n",
              "      <td>Santa Cruz do Rio Pardo</td>\n",
              "      <td>3546405</td>\n",
              "      <td>26.00</td>\n",
              "      <td>FEMININO</td>\n",
              "      <td>CONFIRMADO</td>\n",
              "      <td>2022-01-24 00:00:00+00:00</td>\n",
              "      <td>0</td>\n",
              "      <td>IGNORADO</td>\n",
              "      <td>IGNORADO</td>\n",
              "      <td>IGNORADO</td>\n",
              "      <td>IGNORADO</td>\n",
              "      <td>IGNORADO</td>\n",
              "      <td>IGNORADO</td>\n",
              "      <td>IGNORADO</td>\n",
              "      <td>IGNORADO</td>\n",
              "      <td>IGNORADO</td>\n",
              "      <td>IGNORADO</td>\n",
              "      <td>IGNORADO</td>\n",
              "      <td>IGNORADO</td>\n",
              "      <td>IGNORADO</td>\n",
              "    </tr>\n",
              "    <tr>\n",
              "      <th>2</th>\n",
              "      <td>Santa Cruz do Rio Pardo</td>\n",
              "      <td>3546405</td>\n",
              "      <td>51.00</td>\n",
              "      <td>MASCULINO</td>\n",
              "      <td>CONFIRMADO</td>\n",
              "      <td>2022-01-24 00:00:00+00:00</td>\n",
              "      <td>0</td>\n",
              "      <td>IGNORADO</td>\n",
              "      <td>SIM</td>\n",
              "      <td>IGNORADO</td>\n",
              "      <td>IGNORADO</td>\n",
              "      <td>IGNORADO</td>\n",
              "      <td>IGNORADO</td>\n",
              "      <td>IGNORADO</td>\n",
              "      <td>IGNORADO</td>\n",
              "      <td>IGNORADO</td>\n",
              "      <td>IGNORADO</td>\n",
              "      <td>IGNORADO</td>\n",
              "      <td>IGNORADO</td>\n",
              "      <td>IGNORADO</td>\n",
              "    </tr>\n",
              "    <tr>\n",
              "      <th>3</th>\n",
              "      <td>Santa Cruz do Rio Pardo</td>\n",
              "      <td>3546405</td>\n",
              "      <td>57.00</td>\n",
              "      <td>MASCULINO</td>\n",
              "      <td>CONFIRMADO</td>\n",
              "      <td>2022-01-24 00:00:00+00:00</td>\n",
              "      <td>0</td>\n",
              "      <td>IGNORADO</td>\n",
              "      <td>IGNORADO</td>\n",
              "      <td>IGNORADO</td>\n",
              "      <td>IGNORADO</td>\n",
              "      <td>IGNORADO</td>\n",
              "      <td>IGNORADO</td>\n",
              "      <td>IGNORADO</td>\n",
              "      <td>IGNORADO</td>\n",
              "      <td>IGNORADO</td>\n",
              "      <td>IGNORADO</td>\n",
              "      <td>IGNORADO</td>\n",
              "      <td>IGNORADO</td>\n",
              "      <td>IGNORADO</td>\n",
              "    </tr>\n",
              "    <tr>\n",
              "      <th>4</th>\n",
              "      <td>Santa Cruz do Rio Pardo</td>\n",
              "      <td>3546405</td>\n",
              "      <td>25.00</td>\n",
              "      <td>MASCULINO</td>\n",
              "      <td>CONFIRMADO</td>\n",
              "      <td>2022-01-24 00:00:00+00:00</td>\n",
              "      <td>0</td>\n",
              "      <td>IGNORADO</td>\n",
              "      <td>IGNORADO</td>\n",
              "      <td>IGNORADO</td>\n",
              "      <td>IGNORADO</td>\n",
              "      <td>IGNORADO</td>\n",
              "      <td>IGNORADO</td>\n",
              "      <td>IGNORADO</td>\n",
              "      <td>IGNORADO</td>\n",
              "      <td>IGNORADO</td>\n",
              "      <td>IGNORADO</td>\n",
              "      <td>IGNORADO</td>\n",
              "      <td>IGNORADO</td>\n",
              "      <td>IGNORADO</td>\n",
              "    </tr>\n",
              "  </tbody>\n",
              "</table>\n",
              "</div>\n",
              "      <button class=\"colab-df-convert\" onclick=\"convertToInteractive('df-d33ebf72-037e-4cb0-a6d9-669eb8322b8b')\"\n",
              "              title=\"Convert this dataframe to an interactive table.\"\n",
              "              style=\"display:none;\">\n",
              "        \n",
              "  <svg xmlns=\"http://www.w3.org/2000/svg\" height=\"24px\"viewBox=\"0 0 24 24\"\n",
              "       width=\"24px\">\n",
              "    <path d=\"M0 0h24v24H0V0z\" fill=\"none\"/>\n",
              "    <path d=\"M18.56 5.44l.94 2.06.94-2.06 2.06-.94-2.06-.94-.94-2.06-.94 2.06-2.06.94zm-11 1L8.5 8.5l.94-2.06 2.06-.94-2.06-.94L8.5 2.5l-.94 2.06-2.06.94zm10 10l.94 2.06.94-2.06 2.06-.94-2.06-.94-.94-2.06-.94 2.06-2.06.94z\"/><path d=\"M17.41 7.96l-1.37-1.37c-.4-.4-.92-.59-1.43-.59-.52 0-1.04.2-1.43.59L10.3 9.45l-7.72 7.72c-.78.78-.78 2.05 0 2.83L4 21.41c.39.39.9.59 1.41.59.51 0 1.02-.2 1.41-.59l7.78-7.78 2.81-2.81c.8-.78.8-2.07 0-2.86zM5.41 20L4 18.59l7.72-7.72 1.47 1.35L5.41 20z\"/>\n",
              "  </svg>\n",
              "      </button>\n",
              "      \n",
              "  <style>\n",
              "    .colab-df-container {\n",
              "      display:flex;\n",
              "      flex-wrap:wrap;\n",
              "      gap: 12px;\n",
              "    }\n",
              "\n",
              "    .colab-df-convert {\n",
              "      background-color: #E8F0FE;\n",
              "      border: none;\n",
              "      border-radius: 50%;\n",
              "      cursor: pointer;\n",
              "      display: none;\n",
              "      fill: #1967D2;\n",
              "      height: 32px;\n",
              "      padding: 0 0 0 0;\n",
              "      width: 32px;\n",
              "    }\n",
              "\n",
              "    .colab-df-convert:hover {\n",
              "      background-color: #E2EBFA;\n",
              "      box-shadow: 0px 1px 2px rgba(60, 64, 67, 0.3), 0px 1px 3px 1px rgba(60, 64, 67, 0.15);\n",
              "      fill: #174EA6;\n",
              "    }\n",
              "\n",
              "    [theme=dark] .colab-df-convert {\n",
              "      background-color: #3B4455;\n",
              "      fill: #D2E3FC;\n",
              "    }\n",
              "\n",
              "    [theme=dark] .colab-df-convert:hover {\n",
              "      background-color: #434B5C;\n",
              "      box-shadow: 0px 1px 3px 1px rgba(0, 0, 0, 0.15);\n",
              "      filter: drop-shadow(0px 1px 2px rgba(0, 0, 0, 0.3));\n",
              "      fill: #FFFFFF;\n",
              "    }\n",
              "  </style>\n",
              "\n",
              "      <script>\n",
              "        const buttonEl =\n",
              "          document.querySelector('#df-d33ebf72-037e-4cb0-a6d9-669eb8322b8b button.colab-df-convert');\n",
              "        buttonEl.style.display =\n",
              "          google.colab.kernel.accessAllowed ? 'block' : 'none';\n",
              "\n",
              "        async function convertToInteractive(key) {\n",
              "          const element = document.querySelector('#df-d33ebf72-037e-4cb0-a6d9-669eb8322b8b');\n",
              "          const dataTable =\n",
              "            await google.colab.kernel.invokeFunction('convertToInteractive',\n",
              "                                                     [key], {});\n",
              "          if (!dataTable) return;\n",
              "\n",
              "          const docLinkHtml = 'Like what you see? Visit the ' +\n",
              "            '<a target=\"_blank\" href=https://colab.research.google.com/notebooks/data_table.ipynb>data table notebook</a>'\n",
              "            + ' to learn more about interactive tables.';\n",
              "          element.innerHTML = '';\n",
              "          dataTable['output_type'] = 'display_data';\n",
              "          await google.colab.output.renderOutput(dataTable, element);\n",
              "          const docLink = document.createElement('div');\n",
              "          docLink.innerHTML = docLinkHtml;\n",
              "          element.appendChild(docLink);\n",
              "        }\n",
              "      </script>\n",
              "    </div>\n",
              "  </div>\n",
              "  "
            ]
          },
          "metadata": {},
          "execution_count": 4
        }
      ]
    },
    {
      "cell_type": "code",
      "source": [
        "df_completo.shape"
      ],
      "metadata": {
        "colab": {
          "base_uri": "https://localhost:8080/"
        },
        "id": "DNjh5Gm6ubgV",
        "outputId": "10bce5fb-dfbf-4974-a7bd-7da7146225aa"
      },
      "execution_count": 5,
      "outputs": [
        {
          "output_type": "execute_result",
          "data": {
            "text/plain": [
              "(5852960, 20)"
            ]
          },
          "metadata": {},
          "execution_count": 5
        }
      ]
    },
    {
      "cell_type": "markdown",
      "source": [
        "Os registros com valores 'IGNORADO' correspondem a dados que não foram informados.\n",
        "\n",
        "Dataframe sem os dados com os campos com valor 'IGNORADO':"
      ],
      "metadata": {
        "id": "repzLbKIB6YS"
      }
    },
    {
      "cell_type": "code",
      "source": [
        "%%time\n",
        "colunas = df_completo.columns\n",
        "df_sem_ignorados = df_completo.copy()\n",
        "\n",
        "for c in colunas:\n",
        "  df_sem_ignorados.drop(df_sem_ignorados.loc[df_sem_ignorados[c]=='IGNORADO'].index, inplace=True)\n",
        "\n",
        "df_sem_ignorados.shape\n"
      ],
      "metadata": {
        "colab": {
          "base_uri": "https://localhost:8080/"
        },
        "id": "k2d38bB-bsY_",
        "outputId": "c0735b31-24e9-4ffc-cc95-c418808f0ade"
      },
      "execution_count": 6,
      "outputs": [
        {
          "output_type": "stream",
          "name": "stdout",
          "text": [
            "CPU times: user 16.2 s, sys: 1.83 s, total: 18.1 s\n",
            "Wall time: 17.7 s\n"
          ]
        }
      ]
    },
    {
      "cell_type": "markdown",
      "source": [
        "Salvando registros completos em csv:"
      ],
      "metadata": {
        "id": "XfqZAHY_Chow"
      }
    },
    {
      "cell_type": "code",
      "source": [
        "import os  \n",
        "os.makedirs('/content/drive/MyDrive/ANÁLISES DE DADOS/Covid', exist_ok=True)  \n",
        "df_sem_ignorados.to_csv('/content/drive/MyDrive/ANÁLISES DE DADOS/Covid/casos_obitos_doencas_preexistentes_sem_ignorados.csv') "
      ],
      "metadata": {
        "id": "-Qcvhew1CptH"
      },
      "execution_count": 7,
      "outputs": []
    },
    {
      "cell_type": "code",
      "source": [
        "df_sem_ignorados.head()"
      ],
      "metadata": {
        "colab": {
          "base_uri": "https://localhost:8080/",
          "height": 444
        },
        "id": "F-RoEYRLGeJZ",
        "outputId": "afcb4ee4-c2fc-459b-bc05-0366f943b4f0"
      },
      "execution_count": 8,
      "outputs": [
        {
          "output_type": "execute_result",
          "data": {
            "text/plain": [
              "                 nome_munic  codigo_ibge  idade    cs_sexo  \\\n",
              "7   Santa Cruz do Rio Pardo      3546405  68.00   FEMININO   \n",
              "28  Santa Cruz do Rio Pardo      3546405  77.00   FEMININO   \n",
              "31    Santa Bárbara d'Oeste      3545803  22.00  MASCULINO   \n",
              "91  Santa Cruz do Rio Pardo      3546405  71.00  MASCULINO   \n",
              "93  Santa Cruz do Rio Pardo      3546405 102.00  MASCULINO   \n",
              "\n",
              "   diagnostico_covid19      data_inicio_sintomas  obito asma cardiopatia  \\\n",
              "7           CONFIRMADO 2022-01-24 00:00:00+00:00      0  NÃO         SIM   \n",
              "28          CONFIRMADO 2022-01-18 00:00:00+00:00      1  NÃO         SIM   \n",
              "31          CONFIRMADO 2020-10-22 00:00:00+00:00      0  NÃO         SIM   \n",
              "91          CONFIRMADO 2022-01-24 00:00:00+00:00      0  NÃO         SIM   \n",
              "93          CONFIRMADO 2022-01-24 00:00:00+00:00      1  NÃO         SIM   \n",
              "\n",
              "   diabetes doenca_hematologica doenca_hepatica doenca_neurologica  \\\n",
              "7       SIM                 NÃO             NÃO                NÃO   \n",
              "28      NÃO                 NÃO             NÃO                NÃO   \n",
              "31      SIM                 NÃO             NÃO                SIM   \n",
              "91      NÃO                 NÃO             NÃO                NÃO   \n",
              "93      SIM                 NÃO             NÃO                NÃO   \n",
              "\n",
              "   doenca_renal imunodepressao obesidade outros_fatores_de_risco pneumopatia  \\\n",
              "7           SIM            NÃO       NÃO                     SIM         NÃO   \n",
              "28          NÃO            NÃO       NÃO                     NÃO         NÃO   \n",
              "31          NÃO            NÃO       NÃO                     NÃO         NÃO   \n",
              "91          NÃO            NÃO       NÃO                     NÃO         SIM   \n",
              "93          NÃO            NÃO       NÃO                     NÃO         NÃO   \n",
              "\n",
              "   puerpera sindrome_de_down  \n",
              "7       NÃO              NÃO  \n",
              "28      NÃO              NÃO  \n",
              "31      NÃO              NÃO  \n",
              "91      NÃO              NÃO  \n",
              "93      NÃO              NÃO  "
            ],
            "text/html": [
              "\n",
              "  <div id=\"df-3e44912b-697d-401d-9dce-9d0d1048cbaa\">\n",
              "    <div class=\"colab-df-container\">\n",
              "      <div>\n",
              "<style scoped>\n",
              "    .dataframe tbody tr th:only-of-type {\n",
              "        vertical-align: middle;\n",
              "    }\n",
              "\n",
              "    .dataframe tbody tr th {\n",
              "        vertical-align: top;\n",
              "    }\n",
              "\n",
              "    .dataframe thead th {\n",
              "        text-align: right;\n",
              "    }\n",
              "</style>\n",
              "<table border=\"1\" class=\"dataframe\">\n",
              "  <thead>\n",
              "    <tr style=\"text-align: right;\">\n",
              "      <th></th>\n",
              "      <th>nome_munic</th>\n",
              "      <th>codigo_ibge</th>\n",
              "      <th>idade</th>\n",
              "      <th>cs_sexo</th>\n",
              "      <th>diagnostico_covid19</th>\n",
              "      <th>data_inicio_sintomas</th>\n",
              "      <th>obito</th>\n",
              "      <th>asma</th>\n",
              "      <th>cardiopatia</th>\n",
              "      <th>diabetes</th>\n",
              "      <th>doenca_hematologica</th>\n",
              "      <th>doenca_hepatica</th>\n",
              "      <th>doenca_neurologica</th>\n",
              "      <th>doenca_renal</th>\n",
              "      <th>imunodepressao</th>\n",
              "      <th>obesidade</th>\n",
              "      <th>outros_fatores_de_risco</th>\n",
              "      <th>pneumopatia</th>\n",
              "      <th>puerpera</th>\n",
              "      <th>sindrome_de_down</th>\n",
              "    </tr>\n",
              "  </thead>\n",
              "  <tbody>\n",
              "    <tr>\n",
              "      <th>7</th>\n",
              "      <td>Santa Cruz do Rio Pardo</td>\n",
              "      <td>3546405</td>\n",
              "      <td>68.00</td>\n",
              "      <td>FEMININO</td>\n",
              "      <td>CONFIRMADO</td>\n",
              "      <td>2022-01-24 00:00:00+00:00</td>\n",
              "      <td>0</td>\n",
              "      <td>NÃO</td>\n",
              "      <td>SIM</td>\n",
              "      <td>SIM</td>\n",
              "      <td>NÃO</td>\n",
              "      <td>NÃO</td>\n",
              "      <td>NÃO</td>\n",
              "      <td>SIM</td>\n",
              "      <td>NÃO</td>\n",
              "      <td>NÃO</td>\n",
              "      <td>SIM</td>\n",
              "      <td>NÃO</td>\n",
              "      <td>NÃO</td>\n",
              "      <td>NÃO</td>\n",
              "    </tr>\n",
              "    <tr>\n",
              "      <th>28</th>\n",
              "      <td>Santa Cruz do Rio Pardo</td>\n",
              "      <td>3546405</td>\n",
              "      <td>77.00</td>\n",
              "      <td>FEMININO</td>\n",
              "      <td>CONFIRMADO</td>\n",
              "      <td>2022-01-18 00:00:00+00:00</td>\n",
              "      <td>1</td>\n",
              "      <td>NÃO</td>\n",
              "      <td>SIM</td>\n",
              "      <td>NÃO</td>\n",
              "      <td>NÃO</td>\n",
              "      <td>NÃO</td>\n",
              "      <td>NÃO</td>\n",
              "      <td>NÃO</td>\n",
              "      <td>NÃO</td>\n",
              "      <td>NÃO</td>\n",
              "      <td>NÃO</td>\n",
              "      <td>NÃO</td>\n",
              "      <td>NÃO</td>\n",
              "      <td>NÃO</td>\n",
              "    </tr>\n",
              "    <tr>\n",
              "      <th>31</th>\n",
              "      <td>Santa Bárbara d'Oeste</td>\n",
              "      <td>3545803</td>\n",
              "      <td>22.00</td>\n",
              "      <td>MASCULINO</td>\n",
              "      <td>CONFIRMADO</td>\n",
              "      <td>2020-10-22 00:00:00+00:00</td>\n",
              "      <td>0</td>\n",
              "      <td>NÃO</td>\n",
              "      <td>SIM</td>\n",
              "      <td>SIM</td>\n",
              "      <td>NÃO</td>\n",
              "      <td>NÃO</td>\n",
              "      <td>SIM</td>\n",
              "      <td>NÃO</td>\n",
              "      <td>NÃO</td>\n",
              "      <td>NÃO</td>\n",
              "      <td>NÃO</td>\n",
              "      <td>NÃO</td>\n",
              "      <td>NÃO</td>\n",
              "      <td>NÃO</td>\n",
              "    </tr>\n",
              "    <tr>\n",
              "      <th>91</th>\n",
              "      <td>Santa Cruz do Rio Pardo</td>\n",
              "      <td>3546405</td>\n",
              "      <td>71.00</td>\n",
              "      <td>MASCULINO</td>\n",
              "      <td>CONFIRMADO</td>\n",
              "      <td>2022-01-24 00:00:00+00:00</td>\n",
              "      <td>0</td>\n",
              "      <td>NÃO</td>\n",
              "      <td>SIM</td>\n",
              "      <td>NÃO</td>\n",
              "      <td>NÃO</td>\n",
              "      <td>NÃO</td>\n",
              "      <td>NÃO</td>\n",
              "      <td>NÃO</td>\n",
              "      <td>NÃO</td>\n",
              "      <td>NÃO</td>\n",
              "      <td>NÃO</td>\n",
              "      <td>SIM</td>\n",
              "      <td>NÃO</td>\n",
              "      <td>NÃO</td>\n",
              "    </tr>\n",
              "    <tr>\n",
              "      <th>93</th>\n",
              "      <td>Santa Cruz do Rio Pardo</td>\n",
              "      <td>3546405</td>\n",
              "      <td>102.00</td>\n",
              "      <td>MASCULINO</td>\n",
              "      <td>CONFIRMADO</td>\n",
              "      <td>2022-01-24 00:00:00+00:00</td>\n",
              "      <td>1</td>\n",
              "      <td>NÃO</td>\n",
              "      <td>SIM</td>\n",
              "      <td>SIM</td>\n",
              "      <td>NÃO</td>\n",
              "      <td>NÃO</td>\n",
              "      <td>NÃO</td>\n",
              "      <td>NÃO</td>\n",
              "      <td>NÃO</td>\n",
              "      <td>NÃO</td>\n",
              "      <td>NÃO</td>\n",
              "      <td>NÃO</td>\n",
              "      <td>NÃO</td>\n",
              "      <td>NÃO</td>\n",
              "    </tr>\n",
              "  </tbody>\n",
              "</table>\n",
              "</div>\n",
              "      <button class=\"colab-df-convert\" onclick=\"convertToInteractive('df-3e44912b-697d-401d-9dce-9d0d1048cbaa')\"\n",
              "              title=\"Convert this dataframe to an interactive table.\"\n",
              "              style=\"display:none;\">\n",
              "        \n",
              "  <svg xmlns=\"http://www.w3.org/2000/svg\" height=\"24px\"viewBox=\"0 0 24 24\"\n",
              "       width=\"24px\">\n",
              "    <path d=\"M0 0h24v24H0V0z\" fill=\"none\"/>\n",
              "    <path d=\"M18.56 5.44l.94 2.06.94-2.06 2.06-.94-2.06-.94-.94-2.06-.94 2.06-2.06.94zm-11 1L8.5 8.5l.94-2.06 2.06-.94-2.06-.94L8.5 2.5l-.94 2.06-2.06.94zm10 10l.94 2.06.94-2.06 2.06-.94-2.06-.94-.94-2.06-.94 2.06-2.06.94z\"/><path d=\"M17.41 7.96l-1.37-1.37c-.4-.4-.92-.59-1.43-.59-.52 0-1.04.2-1.43.59L10.3 9.45l-7.72 7.72c-.78.78-.78 2.05 0 2.83L4 21.41c.39.39.9.59 1.41.59.51 0 1.02-.2 1.41-.59l7.78-7.78 2.81-2.81c.8-.78.8-2.07 0-2.86zM5.41 20L4 18.59l7.72-7.72 1.47 1.35L5.41 20z\"/>\n",
              "  </svg>\n",
              "      </button>\n",
              "      \n",
              "  <style>\n",
              "    .colab-df-container {\n",
              "      display:flex;\n",
              "      flex-wrap:wrap;\n",
              "      gap: 12px;\n",
              "    }\n",
              "\n",
              "    .colab-df-convert {\n",
              "      background-color: #E8F0FE;\n",
              "      border: none;\n",
              "      border-radius: 50%;\n",
              "      cursor: pointer;\n",
              "      display: none;\n",
              "      fill: #1967D2;\n",
              "      height: 32px;\n",
              "      padding: 0 0 0 0;\n",
              "      width: 32px;\n",
              "    }\n",
              "\n",
              "    .colab-df-convert:hover {\n",
              "      background-color: #E2EBFA;\n",
              "      box-shadow: 0px 1px 2px rgba(60, 64, 67, 0.3), 0px 1px 3px 1px rgba(60, 64, 67, 0.15);\n",
              "      fill: #174EA6;\n",
              "    }\n",
              "\n",
              "    [theme=dark] .colab-df-convert {\n",
              "      background-color: #3B4455;\n",
              "      fill: #D2E3FC;\n",
              "    }\n",
              "\n",
              "    [theme=dark] .colab-df-convert:hover {\n",
              "      background-color: #434B5C;\n",
              "      box-shadow: 0px 1px 3px 1px rgba(0, 0, 0, 0.15);\n",
              "      filter: drop-shadow(0px 1px 2px rgba(0, 0, 0, 0.3));\n",
              "      fill: #FFFFFF;\n",
              "    }\n",
              "  </style>\n",
              "\n",
              "      <script>\n",
              "        const buttonEl =\n",
              "          document.querySelector('#df-3e44912b-697d-401d-9dce-9d0d1048cbaa button.colab-df-convert');\n",
              "        buttonEl.style.display =\n",
              "          google.colab.kernel.accessAllowed ? 'block' : 'none';\n",
              "\n",
              "        async function convertToInteractive(key) {\n",
              "          const element = document.querySelector('#df-3e44912b-697d-401d-9dce-9d0d1048cbaa');\n",
              "          const dataTable =\n",
              "            await google.colab.kernel.invokeFunction('convertToInteractive',\n",
              "                                                     [key], {});\n",
              "          if (!dataTable) return;\n",
              "\n",
              "          const docLinkHtml = 'Like what you see? Visit the ' +\n",
              "            '<a target=\"_blank\" href=https://colab.research.google.com/notebooks/data_table.ipynb>data table notebook</a>'\n",
              "            + ' to learn more about interactive tables.';\n",
              "          element.innerHTML = '';\n",
              "          dataTable['output_type'] = 'display_data';\n",
              "          await google.colab.output.renderOutput(dataTable, element);\n",
              "          const docLink = document.createElement('div');\n",
              "          docLink.innerHTML = docLinkHtml;\n",
              "          element.appendChild(docLink);\n",
              "        }\n",
              "      </script>\n",
              "    </div>\n",
              "  </div>\n",
              "  "
            ]
          },
          "metadata": {},
          "execution_count": 8
        }
      ]
    },
    {
      "cell_type": "code",
      "source": [
        "print(f'Nosso conjunto de dados tem {df_sem_ignorados.shape[0]} registros.')"
      ],
      "metadata": {
        "id": "rrHQwEm-Tutq",
        "outputId": "3a27d1f3-e6e2-439d-e476-23b5fe27746c",
        "colab": {
          "base_uri": "https://localhost:8080/"
        }
      },
      "execution_count": 9,
      "outputs": [
        {
          "output_type": "stream",
          "name": "stdout",
          "text": [
            "Nosso conjunto de dados tem 185800 registros.\n"
          ]
        }
      ]
    },
    {
      "cell_type": "markdown",
      "source": [
        "# Passo3: Explorar os dados para obter informações úteis"
      ],
      "metadata": {
        "id": "vBeMHUTdyKau"
      }
    },
    {
      "cell_type": "code",
      "source": [
        "#df = pd.read_csv('/content/drive/MyDrive/ANÁLISES DE DADOS/Covid/casos_obitos_doencas_preexistentes_sem_ignorados.csv', sep=',')\n",
        "df = df_completo"
      ],
      "metadata": {
        "id": "t0KFdUi-yOsb"
      },
      "execution_count": 10,
      "outputs": []
    },
    {
      "cell_type": "markdown",
      "source": [
        "## Análise descritiva"
      ],
      "metadata": {
        "id": "34lTxhlkyWl1"
      }
    },
    {
      "cell_type": "code",
      "source": [
        "%%time\n",
        "df.describe(include='all')"
      ],
      "metadata": {
        "colab": {
          "base_uri": "https://localhost:8080/",
          "height": 608
        },
        "id": "3o7z28wpyT_D",
        "outputId": "bc5a36f6-ae96-4591-ba96-273d9578b31a"
      },
      "execution_count": 11,
      "outputs": [
        {
          "output_type": "stream",
          "name": "stdout",
          "text": [
            "CPU times: user 11.8 s, sys: 76 ms, total: 11.9 s\n",
            "Wall time: 11.9 s\n"
          ]
        },
        {
          "output_type": "execute_result",
          "data": {
            "text/plain": [
              "       nome_munic  codigo_ibge      idade   cs_sexo diagnostico_covid19  \\\n",
              "count     5852960   5852960.00 5702058.00   5852959             5852960   \n",
              "unique        646          NaN        NaN         4                   1   \n",
              "top     São Paulo          NaN        NaN  FEMININO          CONFIRMADO   \n",
              "freq      1098422          NaN        NaN   3163499             5852960   \n",
              "first         NaN          NaN        NaN       NaN                 NaN   \n",
              "last          NaN          NaN        NaN       NaN                 NaN   \n",
              "mean          NaN   3533289.47      40.72       NaN                 NaN   \n",
              "std           NaN     17490.41      18.14       NaN                 NaN   \n",
              "min           NaN   3500105.00       0.00       NaN                 NaN   \n",
              "25%           NaN   3518107.00      28.00       NaN                 NaN   \n",
              "50%           NaN   3538006.00      39.00       NaN                 NaN   \n",
              "75%           NaN   3550308.00      53.00       NaN                 NaN   \n",
              "max           NaN   3599999.00    2188.00       NaN                 NaN   \n",
              "\n",
              "             data_inicio_sintomas      obito      asma cardiopatia  diabetes  \\\n",
              "count                     5678115 5852960.00   5852960     5852960   5852960   \n",
              "unique                        896        NaN         3           3         3   \n",
              "top     2022-01-10 00:00:00+00:00        NaN  IGNORADO    IGNORADO  IGNORADO   \n",
              "freq                        37172        NaN   5635971     5332172   5438090   \n",
              "first   2020-02-04 00:00:00+00:00        NaN       NaN         NaN       NaN   \n",
              "last    2022-07-18 00:00:00+00:00        NaN       NaN         NaN       NaN   \n",
              "mean                          NaN       0.03       NaN         NaN       NaN   \n",
              "std                           NaN       0.17       NaN         NaN       NaN   \n",
              "min                           NaN       0.00       NaN         NaN       NaN   \n",
              "25%                           NaN       0.00       NaN         NaN       NaN   \n",
              "50%                           NaN       0.00       NaN         NaN       NaN   \n",
              "75%                           NaN       0.00       NaN         NaN       NaN   \n",
              "max                           NaN       1.00       NaN         NaN       NaN   \n",
              "\n",
              "       doenca_hematologica doenca_hepatica doenca_neurologica doenca_renal  \\\n",
              "count              5852960         5852960            5852960      5852960   \n",
              "unique                   3               3                  3            3   \n",
              "top               IGNORADO        IGNORADO           IGNORADO     IGNORADO   \n",
              "freq               5639374         5640104            5633508      5624350   \n",
              "first                  NaN             NaN                NaN          NaN   \n",
              "last                   NaN             NaN                NaN          NaN   \n",
              "mean                   NaN             NaN                NaN          NaN   \n",
              "std                    NaN             NaN                NaN          NaN   \n",
              "min                    NaN             NaN                NaN          NaN   \n",
              "25%                    NaN             NaN                NaN          NaN   \n",
              "50%                    NaN             NaN                NaN          NaN   \n",
              "75%                    NaN             NaN                NaN          NaN   \n",
              "max                    NaN             NaN                NaN          NaN   \n",
              "\n",
              "       imunodepressao obesidade outros_fatores_de_risco pneumopatia  puerpera  \\\n",
              "count         5852960   5852960                 5852960     5852960   5852960   \n",
              "unique              3         3                       3           3         3   \n",
              "top          IGNORADO  IGNORADO                IGNORADO    IGNORADO  IGNORADO   \n",
              "freq          5615602   5628820                 5592614     5633961   5641449   \n",
              "first             NaN       NaN                     NaN         NaN       NaN   \n",
              "last              NaN       NaN                     NaN         NaN       NaN   \n",
              "mean              NaN       NaN                     NaN         NaN       NaN   \n",
              "std               NaN       NaN                     NaN         NaN       NaN   \n",
              "min               NaN       NaN                     NaN         NaN       NaN   \n",
              "25%               NaN       NaN                     NaN         NaN       NaN   \n",
              "50%               NaN       NaN                     NaN         NaN       NaN   \n",
              "75%               NaN       NaN                     NaN         NaN       NaN   \n",
              "max               NaN       NaN                     NaN         NaN       NaN   \n",
              "\n",
              "       sindrome_de_down  \n",
              "count           5852960  \n",
              "unique                3  \n",
              "top            IGNORADO  \n",
              "freq            5639787  \n",
              "first               NaN  \n",
              "last                NaN  \n",
              "mean                NaN  \n",
              "std                 NaN  \n",
              "min                 NaN  \n",
              "25%                 NaN  \n",
              "50%                 NaN  \n",
              "75%                 NaN  \n",
              "max                 NaN  "
            ],
            "text/html": [
              "\n",
              "  <div id=\"df-b6373546-2b82-4aef-8b12-18b4b78ad17b\">\n",
              "    <div class=\"colab-df-container\">\n",
              "      <div>\n",
              "<style scoped>\n",
              "    .dataframe tbody tr th:only-of-type {\n",
              "        vertical-align: middle;\n",
              "    }\n",
              "\n",
              "    .dataframe tbody tr th {\n",
              "        vertical-align: top;\n",
              "    }\n",
              "\n",
              "    .dataframe thead th {\n",
              "        text-align: right;\n",
              "    }\n",
              "</style>\n",
              "<table border=\"1\" class=\"dataframe\">\n",
              "  <thead>\n",
              "    <tr style=\"text-align: right;\">\n",
              "      <th></th>\n",
              "      <th>nome_munic</th>\n",
              "      <th>codigo_ibge</th>\n",
              "      <th>idade</th>\n",
              "      <th>cs_sexo</th>\n",
              "      <th>diagnostico_covid19</th>\n",
              "      <th>data_inicio_sintomas</th>\n",
              "      <th>obito</th>\n",
              "      <th>asma</th>\n",
              "      <th>cardiopatia</th>\n",
              "      <th>diabetes</th>\n",
              "      <th>doenca_hematologica</th>\n",
              "      <th>doenca_hepatica</th>\n",
              "      <th>doenca_neurologica</th>\n",
              "      <th>doenca_renal</th>\n",
              "      <th>imunodepressao</th>\n",
              "      <th>obesidade</th>\n",
              "      <th>outros_fatores_de_risco</th>\n",
              "      <th>pneumopatia</th>\n",
              "      <th>puerpera</th>\n",
              "      <th>sindrome_de_down</th>\n",
              "    </tr>\n",
              "  </thead>\n",
              "  <tbody>\n",
              "    <tr>\n",
              "      <th>count</th>\n",
              "      <td>5852960</td>\n",
              "      <td>5852960.00</td>\n",
              "      <td>5702058.00</td>\n",
              "      <td>5852959</td>\n",
              "      <td>5852960</td>\n",
              "      <td>5678115</td>\n",
              "      <td>5852960.00</td>\n",
              "      <td>5852960</td>\n",
              "      <td>5852960</td>\n",
              "      <td>5852960</td>\n",
              "      <td>5852960</td>\n",
              "      <td>5852960</td>\n",
              "      <td>5852960</td>\n",
              "      <td>5852960</td>\n",
              "      <td>5852960</td>\n",
              "      <td>5852960</td>\n",
              "      <td>5852960</td>\n",
              "      <td>5852960</td>\n",
              "      <td>5852960</td>\n",
              "      <td>5852960</td>\n",
              "    </tr>\n",
              "    <tr>\n",
              "      <th>unique</th>\n",
              "      <td>646</td>\n",
              "      <td>NaN</td>\n",
              "      <td>NaN</td>\n",
              "      <td>4</td>\n",
              "      <td>1</td>\n",
              "      <td>896</td>\n",
              "      <td>NaN</td>\n",
              "      <td>3</td>\n",
              "      <td>3</td>\n",
              "      <td>3</td>\n",
              "      <td>3</td>\n",
              "      <td>3</td>\n",
              "      <td>3</td>\n",
              "      <td>3</td>\n",
              "      <td>3</td>\n",
              "      <td>3</td>\n",
              "      <td>3</td>\n",
              "      <td>3</td>\n",
              "      <td>3</td>\n",
              "      <td>3</td>\n",
              "    </tr>\n",
              "    <tr>\n",
              "      <th>top</th>\n",
              "      <td>São Paulo</td>\n",
              "      <td>NaN</td>\n",
              "      <td>NaN</td>\n",
              "      <td>FEMININO</td>\n",
              "      <td>CONFIRMADO</td>\n",
              "      <td>2022-01-10 00:00:00+00:00</td>\n",
              "      <td>NaN</td>\n",
              "      <td>IGNORADO</td>\n",
              "      <td>IGNORADO</td>\n",
              "      <td>IGNORADO</td>\n",
              "      <td>IGNORADO</td>\n",
              "      <td>IGNORADO</td>\n",
              "      <td>IGNORADO</td>\n",
              "      <td>IGNORADO</td>\n",
              "      <td>IGNORADO</td>\n",
              "      <td>IGNORADO</td>\n",
              "      <td>IGNORADO</td>\n",
              "      <td>IGNORADO</td>\n",
              "      <td>IGNORADO</td>\n",
              "      <td>IGNORADO</td>\n",
              "    </tr>\n",
              "    <tr>\n",
              "      <th>freq</th>\n",
              "      <td>1098422</td>\n",
              "      <td>NaN</td>\n",
              "      <td>NaN</td>\n",
              "      <td>3163499</td>\n",
              "      <td>5852960</td>\n",
              "      <td>37172</td>\n",
              "      <td>NaN</td>\n",
              "      <td>5635971</td>\n",
              "      <td>5332172</td>\n",
              "      <td>5438090</td>\n",
              "      <td>5639374</td>\n",
              "      <td>5640104</td>\n",
              "      <td>5633508</td>\n",
              "      <td>5624350</td>\n",
              "      <td>5615602</td>\n",
              "      <td>5628820</td>\n",
              "      <td>5592614</td>\n",
              "      <td>5633961</td>\n",
              "      <td>5641449</td>\n",
              "      <td>5639787</td>\n",
              "    </tr>\n",
              "    <tr>\n",
              "      <th>first</th>\n",
              "      <td>NaN</td>\n",
              "      <td>NaN</td>\n",
              "      <td>NaN</td>\n",
              "      <td>NaN</td>\n",
              "      <td>NaN</td>\n",
              "      <td>2020-02-04 00:00:00+00:00</td>\n",
              "      <td>NaN</td>\n",
              "      <td>NaN</td>\n",
              "      <td>NaN</td>\n",
              "      <td>NaN</td>\n",
              "      <td>NaN</td>\n",
              "      <td>NaN</td>\n",
              "      <td>NaN</td>\n",
              "      <td>NaN</td>\n",
              "      <td>NaN</td>\n",
              "      <td>NaN</td>\n",
              "      <td>NaN</td>\n",
              "      <td>NaN</td>\n",
              "      <td>NaN</td>\n",
              "      <td>NaN</td>\n",
              "    </tr>\n",
              "    <tr>\n",
              "      <th>last</th>\n",
              "      <td>NaN</td>\n",
              "      <td>NaN</td>\n",
              "      <td>NaN</td>\n",
              "      <td>NaN</td>\n",
              "      <td>NaN</td>\n",
              "      <td>2022-07-18 00:00:00+00:00</td>\n",
              "      <td>NaN</td>\n",
              "      <td>NaN</td>\n",
              "      <td>NaN</td>\n",
              "      <td>NaN</td>\n",
              "      <td>NaN</td>\n",
              "      <td>NaN</td>\n",
              "      <td>NaN</td>\n",
              "      <td>NaN</td>\n",
              "      <td>NaN</td>\n",
              "      <td>NaN</td>\n",
              "      <td>NaN</td>\n",
              "      <td>NaN</td>\n",
              "      <td>NaN</td>\n",
              "      <td>NaN</td>\n",
              "    </tr>\n",
              "    <tr>\n",
              "      <th>mean</th>\n",
              "      <td>NaN</td>\n",
              "      <td>3533289.47</td>\n",
              "      <td>40.72</td>\n",
              "      <td>NaN</td>\n",
              "      <td>NaN</td>\n",
              "      <td>NaN</td>\n",
              "      <td>0.03</td>\n",
              "      <td>NaN</td>\n",
              "      <td>NaN</td>\n",
              "      <td>NaN</td>\n",
              "      <td>NaN</td>\n",
              "      <td>NaN</td>\n",
              "      <td>NaN</td>\n",
              "      <td>NaN</td>\n",
              "      <td>NaN</td>\n",
              "      <td>NaN</td>\n",
              "      <td>NaN</td>\n",
              "      <td>NaN</td>\n",
              "      <td>NaN</td>\n",
              "      <td>NaN</td>\n",
              "    </tr>\n",
              "    <tr>\n",
              "      <th>std</th>\n",
              "      <td>NaN</td>\n",
              "      <td>17490.41</td>\n",
              "      <td>18.14</td>\n",
              "      <td>NaN</td>\n",
              "      <td>NaN</td>\n",
              "      <td>NaN</td>\n",
              "      <td>0.17</td>\n",
              "      <td>NaN</td>\n",
              "      <td>NaN</td>\n",
              "      <td>NaN</td>\n",
              "      <td>NaN</td>\n",
              "      <td>NaN</td>\n",
              "      <td>NaN</td>\n",
              "      <td>NaN</td>\n",
              "      <td>NaN</td>\n",
              "      <td>NaN</td>\n",
              "      <td>NaN</td>\n",
              "      <td>NaN</td>\n",
              "      <td>NaN</td>\n",
              "      <td>NaN</td>\n",
              "    </tr>\n",
              "    <tr>\n",
              "      <th>min</th>\n",
              "      <td>NaN</td>\n",
              "      <td>3500105.00</td>\n",
              "      <td>0.00</td>\n",
              "      <td>NaN</td>\n",
              "      <td>NaN</td>\n",
              "      <td>NaN</td>\n",
              "      <td>0.00</td>\n",
              "      <td>NaN</td>\n",
              "      <td>NaN</td>\n",
              "      <td>NaN</td>\n",
              "      <td>NaN</td>\n",
              "      <td>NaN</td>\n",
              "      <td>NaN</td>\n",
              "      <td>NaN</td>\n",
              "      <td>NaN</td>\n",
              "      <td>NaN</td>\n",
              "      <td>NaN</td>\n",
              "      <td>NaN</td>\n",
              "      <td>NaN</td>\n",
              "      <td>NaN</td>\n",
              "    </tr>\n",
              "    <tr>\n",
              "      <th>25%</th>\n",
              "      <td>NaN</td>\n",
              "      <td>3518107.00</td>\n",
              "      <td>28.00</td>\n",
              "      <td>NaN</td>\n",
              "      <td>NaN</td>\n",
              "      <td>NaN</td>\n",
              "      <td>0.00</td>\n",
              "      <td>NaN</td>\n",
              "      <td>NaN</td>\n",
              "      <td>NaN</td>\n",
              "      <td>NaN</td>\n",
              "      <td>NaN</td>\n",
              "      <td>NaN</td>\n",
              "      <td>NaN</td>\n",
              "      <td>NaN</td>\n",
              "      <td>NaN</td>\n",
              "      <td>NaN</td>\n",
              "      <td>NaN</td>\n",
              "      <td>NaN</td>\n",
              "      <td>NaN</td>\n",
              "    </tr>\n",
              "    <tr>\n",
              "      <th>50%</th>\n",
              "      <td>NaN</td>\n",
              "      <td>3538006.00</td>\n",
              "      <td>39.00</td>\n",
              "      <td>NaN</td>\n",
              "      <td>NaN</td>\n",
              "      <td>NaN</td>\n",
              "      <td>0.00</td>\n",
              "      <td>NaN</td>\n",
              "      <td>NaN</td>\n",
              "      <td>NaN</td>\n",
              "      <td>NaN</td>\n",
              "      <td>NaN</td>\n",
              "      <td>NaN</td>\n",
              "      <td>NaN</td>\n",
              "      <td>NaN</td>\n",
              "      <td>NaN</td>\n",
              "      <td>NaN</td>\n",
              "      <td>NaN</td>\n",
              "      <td>NaN</td>\n",
              "      <td>NaN</td>\n",
              "    </tr>\n",
              "    <tr>\n",
              "      <th>75%</th>\n",
              "      <td>NaN</td>\n",
              "      <td>3550308.00</td>\n",
              "      <td>53.00</td>\n",
              "      <td>NaN</td>\n",
              "      <td>NaN</td>\n",
              "      <td>NaN</td>\n",
              "      <td>0.00</td>\n",
              "      <td>NaN</td>\n",
              "      <td>NaN</td>\n",
              "      <td>NaN</td>\n",
              "      <td>NaN</td>\n",
              "      <td>NaN</td>\n",
              "      <td>NaN</td>\n",
              "      <td>NaN</td>\n",
              "      <td>NaN</td>\n",
              "      <td>NaN</td>\n",
              "      <td>NaN</td>\n",
              "      <td>NaN</td>\n",
              "      <td>NaN</td>\n",
              "      <td>NaN</td>\n",
              "    </tr>\n",
              "    <tr>\n",
              "      <th>max</th>\n",
              "      <td>NaN</td>\n",
              "      <td>3599999.00</td>\n",
              "      <td>2188.00</td>\n",
              "      <td>NaN</td>\n",
              "      <td>NaN</td>\n",
              "      <td>NaN</td>\n",
              "      <td>1.00</td>\n",
              "      <td>NaN</td>\n",
              "      <td>NaN</td>\n",
              "      <td>NaN</td>\n",
              "      <td>NaN</td>\n",
              "      <td>NaN</td>\n",
              "      <td>NaN</td>\n",
              "      <td>NaN</td>\n",
              "      <td>NaN</td>\n",
              "      <td>NaN</td>\n",
              "      <td>NaN</td>\n",
              "      <td>NaN</td>\n",
              "      <td>NaN</td>\n",
              "      <td>NaN</td>\n",
              "    </tr>\n",
              "  </tbody>\n",
              "</table>\n",
              "</div>\n",
              "      <button class=\"colab-df-convert\" onclick=\"convertToInteractive('df-b6373546-2b82-4aef-8b12-18b4b78ad17b')\"\n",
              "              title=\"Convert this dataframe to an interactive table.\"\n",
              "              style=\"display:none;\">\n",
              "        \n",
              "  <svg xmlns=\"http://www.w3.org/2000/svg\" height=\"24px\"viewBox=\"0 0 24 24\"\n",
              "       width=\"24px\">\n",
              "    <path d=\"M0 0h24v24H0V0z\" fill=\"none\"/>\n",
              "    <path d=\"M18.56 5.44l.94 2.06.94-2.06 2.06-.94-2.06-.94-.94-2.06-.94 2.06-2.06.94zm-11 1L8.5 8.5l.94-2.06 2.06-.94-2.06-.94L8.5 2.5l-.94 2.06-2.06.94zm10 10l.94 2.06.94-2.06 2.06-.94-2.06-.94-.94-2.06-.94 2.06-2.06.94z\"/><path d=\"M17.41 7.96l-1.37-1.37c-.4-.4-.92-.59-1.43-.59-.52 0-1.04.2-1.43.59L10.3 9.45l-7.72 7.72c-.78.78-.78 2.05 0 2.83L4 21.41c.39.39.9.59 1.41.59.51 0 1.02-.2 1.41-.59l7.78-7.78 2.81-2.81c.8-.78.8-2.07 0-2.86zM5.41 20L4 18.59l7.72-7.72 1.47 1.35L5.41 20z\"/>\n",
              "  </svg>\n",
              "      </button>\n",
              "      \n",
              "  <style>\n",
              "    .colab-df-container {\n",
              "      display:flex;\n",
              "      flex-wrap:wrap;\n",
              "      gap: 12px;\n",
              "    }\n",
              "\n",
              "    .colab-df-convert {\n",
              "      background-color: #E8F0FE;\n",
              "      border: none;\n",
              "      border-radius: 50%;\n",
              "      cursor: pointer;\n",
              "      display: none;\n",
              "      fill: #1967D2;\n",
              "      height: 32px;\n",
              "      padding: 0 0 0 0;\n",
              "      width: 32px;\n",
              "    }\n",
              "\n",
              "    .colab-df-convert:hover {\n",
              "      background-color: #E2EBFA;\n",
              "      box-shadow: 0px 1px 2px rgba(60, 64, 67, 0.3), 0px 1px 3px 1px rgba(60, 64, 67, 0.15);\n",
              "      fill: #174EA6;\n",
              "    }\n",
              "\n",
              "    [theme=dark] .colab-df-convert {\n",
              "      background-color: #3B4455;\n",
              "      fill: #D2E3FC;\n",
              "    }\n",
              "\n",
              "    [theme=dark] .colab-df-convert:hover {\n",
              "      background-color: #434B5C;\n",
              "      box-shadow: 0px 1px 3px 1px rgba(0, 0, 0, 0.15);\n",
              "      filter: drop-shadow(0px 1px 2px rgba(0, 0, 0, 0.3));\n",
              "      fill: #FFFFFF;\n",
              "    }\n",
              "  </style>\n",
              "\n",
              "      <script>\n",
              "        const buttonEl =\n",
              "          document.querySelector('#df-b6373546-2b82-4aef-8b12-18b4b78ad17b button.colab-df-convert');\n",
              "        buttonEl.style.display =\n",
              "          google.colab.kernel.accessAllowed ? 'block' : 'none';\n",
              "\n",
              "        async function convertToInteractive(key) {\n",
              "          const element = document.querySelector('#df-b6373546-2b82-4aef-8b12-18b4b78ad17b');\n",
              "          const dataTable =\n",
              "            await google.colab.kernel.invokeFunction('convertToInteractive',\n",
              "                                                     [key], {});\n",
              "          if (!dataTable) return;\n",
              "\n",
              "          const docLinkHtml = 'Like what you see? Visit the ' +\n",
              "            '<a target=\"_blank\" href=https://colab.research.google.com/notebooks/data_table.ipynb>data table notebook</a>'\n",
              "            + ' to learn more about interactive tables.';\n",
              "          element.innerHTML = '';\n",
              "          dataTable['output_type'] = 'display_data';\n",
              "          await google.colab.output.renderOutput(dataTable, element);\n",
              "          const docLink = document.createElement('div');\n",
              "          docLink.innerHTML = docLinkHtml;\n",
              "          element.appendChild(docLink);\n",
              "        }\n",
              "      </script>\n",
              "    </div>\n",
              "  </div>\n",
              "  "
            ]
          },
          "metadata": {},
          "execution_count": 11
        }
      ]
    },
    {
      "cell_type": "markdown",
      "source": [
        "Informações obtidas através do método describe():\n",
        "\n",
        "* O conjunto tem 5.852.960 regitros.\n",
        "* Houve mais casos de COVID-19 confirmados na cidade de São Paulo.\n",
        "* As mulheres são a maioria dos casos.\n",
        "* A média de óbitos dá uma indicação de que a maioria das pessoas da amostra não morreram."
      ],
      "metadata": {
        "id": "HN0tRmdAzo3a"
      }
    },
    {
      "cell_type": "markdown",
      "source": [
        "Vou verificar a idade máxima de 2188 anos. Com certeza é um erro."
      ],
      "metadata": {
        "id": "4CL5yG-CtNpb"
      }
    },
    {
      "cell_type": "code",
      "source": [
        "df.shape"
      ],
      "metadata": {
        "id": "jyzKleImt3z8",
        "outputId": "7a4acdf6-8046-4b62-a413-f4b606555d57",
        "colab": {
          "base_uri": "https://localhost:8080/"
        }
      },
      "execution_count": 12,
      "outputs": [
        {
          "output_type": "execute_result",
          "data": {
            "text/plain": [
              "(5852960, 20)"
            ]
          },
          "metadata": {},
          "execution_count": 12
        }
      ]
    },
    {
      "cell_type": "code",
      "source": [
        "df.loc[df['idade'] == 2188]"
      ],
      "metadata": {
        "id": "RQvDt3Z9tUSr",
        "outputId": "3de5a781-017e-4ddb-f6c7-bac558f49348",
        "colab": {
          "base_uri": "https://localhost:8080/",
          "height": 145
        }
      },
      "execution_count": 13,
      "outputs": [
        {
          "output_type": "execute_result",
          "data": {
            "text/plain": [
              "        nome_munic  codigo_ibge   idade    cs_sexo diagnostico_covid19  \\\n",
              "3194160      Assis      3504008 2188.00  MASCULINO          CONFIRMADO   \n",
              "\n",
              "        data_inicio_sintomas  obito      asma cardiopatia  diabetes  \\\n",
              "3194160                  NaT      0  IGNORADO    IGNORADO  IGNORADO   \n",
              "\n",
              "        doenca_hematologica doenca_hepatica doenca_neurologica doenca_renal  \\\n",
              "3194160            IGNORADO        IGNORADO           IGNORADO     IGNORADO   \n",
              "\n",
              "        imunodepressao obesidade outros_fatores_de_risco pneumopatia  \\\n",
              "3194160       IGNORADO  IGNORADO                IGNORADO    IGNORADO   \n",
              "\n",
              "         puerpera sindrome_de_down  \n",
              "3194160  IGNORADO         IGNORADO  "
            ],
            "text/html": [
              "\n",
              "  <div id=\"df-2d9aebaa-e50a-43f4-99da-2ef19455de65\">\n",
              "    <div class=\"colab-df-container\">\n",
              "      <div>\n",
              "<style scoped>\n",
              "    .dataframe tbody tr th:only-of-type {\n",
              "        vertical-align: middle;\n",
              "    }\n",
              "\n",
              "    .dataframe tbody tr th {\n",
              "        vertical-align: top;\n",
              "    }\n",
              "\n",
              "    .dataframe thead th {\n",
              "        text-align: right;\n",
              "    }\n",
              "</style>\n",
              "<table border=\"1\" class=\"dataframe\">\n",
              "  <thead>\n",
              "    <tr style=\"text-align: right;\">\n",
              "      <th></th>\n",
              "      <th>nome_munic</th>\n",
              "      <th>codigo_ibge</th>\n",
              "      <th>idade</th>\n",
              "      <th>cs_sexo</th>\n",
              "      <th>diagnostico_covid19</th>\n",
              "      <th>data_inicio_sintomas</th>\n",
              "      <th>obito</th>\n",
              "      <th>asma</th>\n",
              "      <th>cardiopatia</th>\n",
              "      <th>diabetes</th>\n",
              "      <th>doenca_hematologica</th>\n",
              "      <th>doenca_hepatica</th>\n",
              "      <th>doenca_neurologica</th>\n",
              "      <th>doenca_renal</th>\n",
              "      <th>imunodepressao</th>\n",
              "      <th>obesidade</th>\n",
              "      <th>outros_fatores_de_risco</th>\n",
              "      <th>pneumopatia</th>\n",
              "      <th>puerpera</th>\n",
              "      <th>sindrome_de_down</th>\n",
              "    </tr>\n",
              "  </thead>\n",
              "  <tbody>\n",
              "    <tr>\n",
              "      <th>3194160</th>\n",
              "      <td>Assis</td>\n",
              "      <td>3504008</td>\n",
              "      <td>2188.00</td>\n",
              "      <td>MASCULINO</td>\n",
              "      <td>CONFIRMADO</td>\n",
              "      <td>NaT</td>\n",
              "      <td>0</td>\n",
              "      <td>IGNORADO</td>\n",
              "      <td>IGNORADO</td>\n",
              "      <td>IGNORADO</td>\n",
              "      <td>IGNORADO</td>\n",
              "      <td>IGNORADO</td>\n",
              "      <td>IGNORADO</td>\n",
              "      <td>IGNORADO</td>\n",
              "      <td>IGNORADO</td>\n",
              "      <td>IGNORADO</td>\n",
              "      <td>IGNORADO</td>\n",
              "      <td>IGNORADO</td>\n",
              "      <td>IGNORADO</td>\n",
              "      <td>IGNORADO</td>\n",
              "    </tr>\n",
              "  </tbody>\n",
              "</table>\n",
              "</div>\n",
              "      <button class=\"colab-df-convert\" onclick=\"convertToInteractive('df-2d9aebaa-e50a-43f4-99da-2ef19455de65')\"\n",
              "              title=\"Convert this dataframe to an interactive table.\"\n",
              "              style=\"display:none;\">\n",
              "        \n",
              "  <svg xmlns=\"http://www.w3.org/2000/svg\" height=\"24px\"viewBox=\"0 0 24 24\"\n",
              "       width=\"24px\">\n",
              "    <path d=\"M0 0h24v24H0V0z\" fill=\"none\"/>\n",
              "    <path d=\"M18.56 5.44l.94 2.06.94-2.06 2.06-.94-2.06-.94-.94-2.06-.94 2.06-2.06.94zm-11 1L8.5 8.5l.94-2.06 2.06-.94-2.06-.94L8.5 2.5l-.94 2.06-2.06.94zm10 10l.94 2.06.94-2.06 2.06-.94-2.06-.94-.94-2.06-.94 2.06-2.06.94z\"/><path d=\"M17.41 7.96l-1.37-1.37c-.4-.4-.92-.59-1.43-.59-.52 0-1.04.2-1.43.59L10.3 9.45l-7.72 7.72c-.78.78-.78 2.05 0 2.83L4 21.41c.39.39.9.59 1.41.59.51 0 1.02-.2 1.41-.59l7.78-7.78 2.81-2.81c.8-.78.8-2.07 0-2.86zM5.41 20L4 18.59l7.72-7.72 1.47 1.35L5.41 20z\"/>\n",
              "  </svg>\n",
              "      </button>\n",
              "      \n",
              "  <style>\n",
              "    .colab-df-container {\n",
              "      display:flex;\n",
              "      flex-wrap:wrap;\n",
              "      gap: 12px;\n",
              "    }\n",
              "\n",
              "    .colab-df-convert {\n",
              "      background-color: #E8F0FE;\n",
              "      border: none;\n",
              "      border-radius: 50%;\n",
              "      cursor: pointer;\n",
              "      display: none;\n",
              "      fill: #1967D2;\n",
              "      height: 32px;\n",
              "      padding: 0 0 0 0;\n",
              "      width: 32px;\n",
              "    }\n",
              "\n",
              "    .colab-df-convert:hover {\n",
              "      background-color: #E2EBFA;\n",
              "      box-shadow: 0px 1px 2px rgba(60, 64, 67, 0.3), 0px 1px 3px 1px rgba(60, 64, 67, 0.15);\n",
              "      fill: #174EA6;\n",
              "    }\n",
              "\n",
              "    [theme=dark] .colab-df-convert {\n",
              "      background-color: #3B4455;\n",
              "      fill: #D2E3FC;\n",
              "    }\n",
              "\n",
              "    [theme=dark] .colab-df-convert:hover {\n",
              "      background-color: #434B5C;\n",
              "      box-shadow: 0px 1px 3px 1px rgba(0, 0, 0, 0.15);\n",
              "      filter: drop-shadow(0px 1px 2px rgba(0, 0, 0, 0.3));\n",
              "      fill: #FFFFFF;\n",
              "    }\n",
              "  </style>\n",
              "\n",
              "      <script>\n",
              "        const buttonEl =\n",
              "          document.querySelector('#df-2d9aebaa-e50a-43f4-99da-2ef19455de65 button.colab-df-convert');\n",
              "        buttonEl.style.display =\n",
              "          google.colab.kernel.accessAllowed ? 'block' : 'none';\n",
              "\n",
              "        async function convertToInteractive(key) {\n",
              "          const element = document.querySelector('#df-2d9aebaa-e50a-43f4-99da-2ef19455de65');\n",
              "          const dataTable =\n",
              "            await google.colab.kernel.invokeFunction('convertToInteractive',\n",
              "                                                     [key], {});\n",
              "          if (!dataTable) return;\n",
              "\n",
              "          const docLinkHtml = 'Like what you see? Visit the ' +\n",
              "            '<a target=\"_blank\" href=https://colab.research.google.com/notebooks/data_table.ipynb>data table notebook</a>'\n",
              "            + ' to learn more about interactive tables.';\n",
              "          element.innerHTML = '';\n",
              "          dataTable['output_type'] = 'display_data';\n",
              "          await google.colab.output.renderOutput(dataTable, element);\n",
              "          const docLink = document.createElement('div');\n",
              "          docLink.innerHTML = docLinkHtml;\n",
              "          element.appendChild(docLink);\n",
              "        }\n",
              "      </script>\n",
              "    </div>\n",
              "  </div>\n",
              "  "
            ]
          },
          "metadata": {},
          "execution_count": 13
        }
      ]
    },
    {
      "cell_type": "markdown",
      "source": [
        "Vou excluir esse dado."
      ],
      "metadata": {
        "id": "GfcSOOEJtoKr"
      }
    },
    {
      "cell_type": "code",
      "source": [
        "indexes = df[ df['idade'] == 2188 ].index\n",
        "df.drop(indexes , inplace=True)"
      ],
      "metadata": {
        "id": "QTFevnfEtuvL"
      },
      "execution_count": 14,
      "outputs": []
    },
    {
      "cell_type": "code",
      "source": [
        "df.shape"
      ],
      "metadata": {
        "id": "W_wdfamKtnDe",
        "outputId": "0caea61e-c792-431a-c257-9fac69396dc1",
        "colab": {
          "base_uri": "https://localhost:8080/"
        }
      },
      "execution_count": 15,
      "outputs": [
        {
          "output_type": "execute_result",
          "data": {
            "text/plain": [
              "(5852959, 20)"
            ]
          },
          "metadata": {},
          "execution_count": 15
        }
      ]
    },
    {
      "cell_type": "markdown",
      "source": [
        "## Tipo dos dados"
      ],
      "metadata": {
        "id": "8N_xlSVX4Fnr"
      }
    },
    {
      "cell_type": "code",
      "source": [
        "df.info()"
      ],
      "metadata": {
        "colab": {
          "base_uri": "https://localhost:8080/"
        },
        "id": "If1ER9pQ2H42",
        "outputId": "72de84a6-b209-4540-c469-11247e3dbb4a"
      },
      "execution_count": 16,
      "outputs": [
        {
          "output_type": "stream",
          "name": "stdout",
          "text": [
            "<class 'pandas.core.frame.DataFrame'>\n",
            "Int64Index: 5852959 entries, 0 to 5852959\n",
            "Data columns (total 20 columns):\n",
            " #   Column                   Dtype              \n",
            "---  ------                   -----              \n",
            " 0   nome_munic               object             \n",
            " 1   codigo_ibge              int64              \n",
            " 2   idade                    float64            \n",
            " 3   cs_sexo                  object             \n",
            " 4   diagnostico_covid19      object             \n",
            " 5   data_inicio_sintomas     datetime64[ns, UTC]\n",
            " 6   obito                    int64              \n",
            " 7   asma                     object             \n",
            " 8   cardiopatia              object             \n",
            " 9   diabetes                 object             \n",
            " 10  doenca_hematologica      object             \n",
            " 11  doenca_hepatica          object             \n",
            " 12  doenca_neurologica       object             \n",
            " 13  doenca_renal             object             \n",
            " 14  imunodepressao           object             \n",
            " 15  obesidade                object             \n",
            " 16  outros_fatores_de_risco  object             \n",
            " 17  pneumopatia              object             \n",
            " 18  puerpera                 object             \n",
            " 19  sindrome_de_down         object             \n",
            "dtypes: datetime64[ns, UTC](1), float64(1), int64(2), object(16)\n",
            "memory usage: 937.7+ MB\n"
          ]
        }
      ]
    },
    {
      "cell_type": "markdown",
      "source": [
        "## Idade"
      ],
      "metadata": {
        "id": "kx2NHaNDhXl-"
      }
    },
    {
      "cell_type": "markdown",
      "source": [
        "### Visualização da feature idade"
      ],
      "metadata": {
        "id": "cWHyIrEaEx8i"
      }
    },
    {
      "cell_type": "code",
      "source": [
        "%%time\n",
        "import scipy.stats as stats\n",
        "stat,p = stats.shapiro(df['idade'].to_numpy())\n",
        "\n",
        "fig, axes = plt.subplots(4, 1, figsize = (20,20))\n",
        "fig.subplots_adjust(hspace=0.5, wspace=0.125)\n",
        "fig.suptitle('Distribuição da feature idade')\n",
        "\n",
        "#Idade\n",
        "sns.histplot(ax=axes[0],x=df['idade'], kde=True, bins=40)\n",
        "axes[0].tick_params(axis='x', rotation=90)\n",
        "axes[0].set(xlabel='Idades\\n Média: ' + str(df['idade'].mean()) + ' Mediana: ' + str(df['idade'].median()) + '\\nTeste de Shapiro (p-valor): ' \n",
        "            + str(p) + '\\nAssimetria: ' + str(df.idade.skew()), ylabel='Frequência')\n",
        "\n",
        "#Idade - Boxplot\n",
        "sns.boxplot(ax=axes[1],x=df['idade'])\n",
        "axes[1].tick_params(axis='x', rotation=90)\n",
        "axes[1].set(xlabel='Idades no geral\\n Média: ' + str(df['idade'].mean()) + '; Mediana: ' + str(df['idade'].median()))\n",
        "\n",
        "#Idade - Boxplot\n",
        "sns.boxplot(ax=axes[2],x=df['obito'], y=df['idade'])\n",
        "axes[2].tick_params(axis='x', rotation=90)\n",
        "axes[2].set(xlabel='Idades por Sobrevivência\\n Mediana de sobreviventes: ' + str(df.loc[df['obito'] == 0]['idade'].median()) + '\\n Mediana de óbitos: ' + str(df.loc[df['obito'] == 1]['idade'].median()))\n",
        "\n",
        "#Idade vs Óbito\n",
        "sns.scatterplot(ax=axes[3], data=df, x=\"obito\", y=\"idade\", hue=\"obito\")\n",
        "\n",
        "plt.show();"
      ],
      "metadata": {
        "id": "M5wVF4Qs4Ih8",
        "colab": {
          "base_uri": "https://localhost:8080/",
          "height": 1000
        },
        "outputId": "535476ea-d63c-4542-b482-42321c2938e4"
      },
      "execution_count": 17,
      "outputs": [
        {
          "output_type": "display_data",
          "data": {
            "text/plain": [
              "<Figure size 1440x1440 with 4 Axes>"
            ],
            "image/png": "[encoded data removed]"
          },
          "metadata": {
            "needs_background": "light"
          }
        },
        {
          "output_type": "stream",
          "name": "stdout",
          "text": [
            "CPU times: user 3min 6s, sys: 19.8 s, total: 3min 26s\n",
            "Wall time: 3min 10s\n"
          ]
        }
      ]
    },
    {
      "cell_type": "markdown",
      "source": [
        "* Há outliers acima de 90 anos muito estranhos."
      ],
      "metadata": {
        "id": "-jjouSrqHu5n"
      }
    },
    {
      "cell_type": "markdown",
      "source": [
        "Como há dados de idade muito fora do normal, como 140 anos, e outliers acima de 90 anos, vou verificar se posso considerar somente dados abaixo ou igual à 100 anos."
      ],
      "metadata": {
        "id": "0yqU-QcHwhiN"
      }
    },
    {
      "cell_type": "code",
      "source": [
        "total_casos_maior_100 = df[ df['idade'] > 100].shape[0]\n",
        "total_registros = df.shape[0]\n",
        "porcentagem = (total_casos_maior_100/total_registros) * 100\n",
        "print(f'{porcentagem}%')"
      ],
      "metadata": {
        "id": "fi5d4CtNw1kE",
        "outputId": "99d84596-963b-472a-f939-6cf2237ab02f",
        "colab": {
          "base_uri": "https://localhost:8080/"
        }
      },
      "execution_count": 18,
      "outputs": [
        {
          "output_type": "stream",
          "name": "stdout",
          "text": [
            "0.027097404919460395%\n"
          ]
        }
      ]
    },
    {
      "cell_type": "markdown",
      "source": [
        "Como representam apenas 0.027% dos dados, vou excluir registros com mais de 100 anos."
      ],
      "metadata": {
        "id": "Cp07LLf6xgcV"
      }
    },
    {
      "cell_type": "code",
      "source": [
        "df.shape"
      ],
      "metadata": {
        "id": "Rj5pU02exs5e",
        "outputId": "4631d58a-d437-4f88-f170-c0159e832d8c",
        "colab": {
          "base_uri": "https://localhost:8080/"
        }
      },
      "execution_count": 19,
      "outputs": [
        {
          "output_type": "execute_result",
          "data": {
            "text/plain": [
              "(5852959, 20)"
            ]
          },
          "metadata": {},
          "execution_count": 19
        }
      ]
    },
    {
      "cell_type": "code",
      "source": [
        "indexes2 = df[ df['idade'] > 100].index\n",
        "df.drop(indexes2 , inplace=True)"
      ],
      "metadata": {
        "id": "9OgdzI6wxnGN"
      },
      "execution_count": 20,
      "outputs": []
    },
    {
      "cell_type": "code",
      "source": [
        "df.shape"
      ],
      "metadata": {
        "id": "D46d9v1pxx_n",
        "outputId": "1350411a-90ec-4e0e-bd94-84ffbb4b56e7",
        "colab": {
          "base_uri": "https://localhost:8080/"
        }
      },
      "execution_count": 21,
      "outputs": [
        {
          "output_type": "execute_result",
          "data": {
            "text/plain": [
              "(5851373, 20)"
            ]
          },
          "metadata": {},
          "execution_count": 21
        }
      ]
    },
    {
      "cell_type": "markdown",
      "source": [
        "Refazendo os gráficos:"
      ],
      "metadata": {
        "id": "Ktl9x3j5yEbb"
      }
    },
    {
      "cell_type": "code",
      "source": [
        "%%time\n",
        "import scipy.stats as stats\n",
        "stat,p = stats.shapiro(df['idade'].to_numpy())\n",
        "\n",
        "fig, axes = plt.subplots(4, 1, figsize = (20,20))\n",
        "fig.subplots_adjust(hspace=0.5, wspace=0.125)\n",
        "fig.suptitle('Distribuição da feature idade')\n",
        "\n",
        "#Idade\n",
        "sns.histplot(ax=axes[0],x=df['idade'], kde=True, bins=40)\n",
        "axes[0].tick_params(axis='x', rotation=90)\n",
        "axes[0].set(xlabel='Idades\\n Média: ' + str(df['idade'].mean()) + ' Mediana: ' + str(df['idade'].median()) + '\\nTeste de Shapiro (p-valor): ' \n",
        "            + str(p) + '\\nAssimetria: ' + str(df.idade.skew()), ylabel='Frequência')\n",
        "\n",
        "#Idade - Boxplot\n",
        "sns.boxplot(ax=axes[1],x=df['idade'])\n",
        "axes[1].tick_params(axis='x', rotation=90)\n",
        "axes[1].set(xlabel='Idades no geral\\n Média: ' + str(df['idade'].mean()) + '; Mediana: ' + str(df['idade'].median()))\n",
        "\n",
        "#Idade - Boxplot\n",
        "sns.boxplot(ax=axes[2],x=df['obito'], y=df['idade'])\n",
        "axes[2].tick_params(axis='x', rotation=90)\n",
        "axes[2].set(xlabel='Idades por Sobrevivência\\n Mediana de sobreviventes: ' + str(df.loc[df['obito'] == 0]['idade'].median()) + '\\n Mediana de óbitos: ' + str(df.loc[df['obito'] == 1]['idade'].median()))\n",
        "\n",
        "#Idade vs Óbito\n",
        "sns.scatterplot(ax=axes[3], data=df, x=\"obito\", y=\"idade\", hue=\"obito\")\n",
        "\n",
        "plt.show();"
      ],
      "metadata": {
        "id": "-SltqdXEyHhb",
        "outputId": "17192766-eb11-4f5c-fcea-0e17f23ec95a",
        "colab": {
          "base_uri": "https://localhost:8080/",
          "height": 1000
        }
      },
      "execution_count": 22,
      "outputs": [
        {
          "output_type": "display_data",
          "data": {
            "text/plain": [
              "<Figure size 1440x1440 with 4 Axes>"
            ],
            "image/png": "[encoded data removed]"
          },
          "metadata": {
            "needs_background": "light"
          }
        },
        {
          "output_type": "stream",
          "name": "stdout",
          "text": [
            "CPU times: user 3min 7s, sys: 19.4 s, total: 3min 26s\n",
            "Wall time: 3min 9s\n"
          ]
        }
      ]
    },
    {
      "cell_type": "markdown",
      "source": [
        "* A média das idades no geral é de aproximadamente 40 anos e a mediana é 39.\n",
        "* O teste de Shapiro-Wilk indica que a distribuição é normal, pois p-value > 0.5.\n",
        "* A assimetria positiva indica que existe uma maior concentração de valores na zona de idades mais baixas da amostra.\n",
        "* Os boxplots indicam que o grupo de sobreviventes tem mediana de 39 anos, e o grupo de óbitos tem mediana de 67 anos, o que indica mortalidade maior em pessoas com maior idade.\n",
        "* A dispersão dos dados indicam que os dados tem pouca variabilidade, tanto no grupos de sobreviventes quanto no de óbitos."
      ],
      "metadata": {
        "id": "YV5qmSMg7z-a"
      }
    },
    {
      "cell_type": "markdown",
      "source": [
        "### Teste de hipótese sobre a feature"
      ],
      "metadata": {
        "id": "n9flUkZJhpEV"
      }
    },
    {
      "cell_type": "markdown",
      "source": [
        "Como visto anteriormente, a feature idade tem distribuição normal."
      ],
      "metadata": {
        "id": "VbFNNvIrh6pl"
      }
    },
    {
      "cell_type": "code",
      "source": [
        ""
      ],
      "metadata": {
        "id": "DF9Bx-xb9XNs"
      },
      "execution_count": 22,
      "outputs": []
    }
  ]
}