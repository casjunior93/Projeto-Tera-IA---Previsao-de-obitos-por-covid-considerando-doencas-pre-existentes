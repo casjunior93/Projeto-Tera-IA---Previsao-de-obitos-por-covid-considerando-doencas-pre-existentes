{
  "nbformat": 4,
  "nbformat_minor": 0,
  "metadata": {
    "colab": {
      "name": "Covid e doenças pré-existentes em SP.ipynb",
      "provenance": [],
      "collapsed_sections": [],
      "authorship_tag": "ABX9TyMCEXJlD0/ctYdkwtDh4/ba",
      "include_colab_link": true
    },
    "kernelspec": {
      "name": "python3",
      "display_name": "Python 3"
    },
    "language_info": {
      "name": "python"
    }
  },
  "cells": [
    {
      "cell_type": "markdown",
      "metadata": {
        "id": "view-in-github",
        "colab_type": "text"
      },
      "source": [
        "<a href=\"https://colab.research.google.com/github/casjunior93/Projeto-Tera-IA---Previsao-de-obitos-por-covid-considerando-doencas-pre-existentes/blob/main/Covid_e_doen%C3%A7as_pr%C3%A9_existentes_em_SP.ipynb\" target=\"_parent\"><img src=\"https://colab.research.google.com/assets/colab-badge.svg\" alt=\"Open In Colab\"/></a>"
      ]
    },
    {
      "cell_type": "markdown",
      "source": [
        "Habilitando o acesso ao Google Drive no Colab."
      ],
      "metadata": {
        "id": "Nmh82hbX_HFq"
      }
    },
    {
      "cell_type": "code",
      "source": [
        "from google.colab import drive\n",
        "drive.mount('/content/drive')"
      ],
      "metadata": {
        "colab": {
          "base_uri": "https://localhost:8080/"
        },
        "id": "JcRGzXey3iEO",
        "outputId": "9669a4b0-0001-48f7-990f-c4e6f5e132e7"
      },
      "execution_count": 1,
      "outputs": [
        {
          "output_type": "stream",
          "name": "stdout",
          "text": [
            "Drive already mounted at /content/drive; to attempt to forcibly remount, call drive.mount(\"/content/drive\", force_remount=True).\n"
          ]
        }
      ]
    },
    {
      "cell_type": "markdown",
      "source": [
        "# Bibliotecas fundamentais"
      ],
      "metadata": {
        "id": "Kf61C8dy_BTS"
      }
    },
    {
      "cell_type": "code",
      "source": [
        "import numpy as np\n",
        "import pandas as pd\n",
        "import seaborn as sns\n",
        "import matplotlib.pyplot as plt\n",
        "import warnings\n",
        "import scipy.stats as stats\n",
        "warnings.filterwarnings('ignore')\n",
        "import os \n",
        "import missingno as msno\n",
        "\n",
        "#Configura o pandas para não exibir resultados em notação científica\n",
        "pd.options.display.float_format = '{:.5f}'.format"
      ],
      "metadata": {
        "id": "cCZGdIar32a-"
      },
      "execution_count": 47,
      "outputs": []
    },
    {
      "cell_type": "markdown",
      "source": [
        "# Roteiro do Projeto\n",
        "\n",
        "O livro [Mãos à Obra: Aprendizado de Máquina com Scikit-Learn, Keras & TensorFlow](https://www.oreilly.com/library/view/maos-a-obra/9788550803814/) traz uma sugestão de roteiro para orientar um projeto de aprendizado de máquina. Os passos gerais são:\n",
        "\n",
        "1.   Abordar o problema e analisar o panorama em geral\n",
        "2.   Obter os dados\n",
        "3.   Explorar os dados para obter informações úteis\n",
        "4.   Preparar os dados para expor melhor os padrões de dados subjacentes aos algoritmos de aprendizado de máquina.\n",
        "5.   Explorar modelos diferentes e selecionar os melhores.\n",
        "6.   Aperfeiçoar os modelos e os combinar em uma solução ideal.\n",
        "7.   Apresentar a solução.\n",
        "8.   Implementar, monitorar e fazer a manutenção de seu sistema.\n",
        "\n"
      ],
      "metadata": {
        "id": "NLVZvukM4Ita"
      }
    },
    {
      "cell_type": "markdown",
      "source": [
        "# Passo 1: Abordar o problema e analisar o panorama em geral"
      ],
      "metadata": {
        "id": "kL7wHNre6_jb"
      }
    },
    {
      "cell_type": "markdown",
      "source": [
        "A COVID-19 é uma doença causada pelo coronavírus SARS-CoV-2. Seus principais sintomas são febre, cansaço e tosse seca. [(1)](https://www.paho.org/pt/covid19) O crescimento rápido de casos e óbitos por COVID-19 causou uma grande sobrecarga do sistema de saúde no Brasil. [(2)](http://cadernos.ensp.fiocruz.br/csp/artigo/1451/mortalidade-por-covid-19-padronizada-por-idade-nas-capitais-das-diferentes-regioes-do-brasil) Várias cidades brasileiras sofreram com a falta de leitos de UTI para casos graves de COVID-19, o que trouxe um dado alarmante: em 2021, 38% das mortes por covid ocorreram por falta de atendimento médico. [(3)](https://oglobo.globo.com/brasil/em-2021-38-dos-mortos-por-covid-em-hospitais-nao-chegaram-uti-1-24944189)\n",
        "\n",
        "O objetivo desse modelo é prever se uma pessoa pode vir a óbito por covid-19 levando em consideração as doenças pré-existentes desta. Este modelo poderia ser útil para fazer a triagem de pacientes e o gerenciamento de leitos. Além disso, pode ser uma boa ferramenta para a prevenção de casos graves de COVID-19, gerando recomendações de vacinação, por exemplo, tendo em vista as diversas variantes do vírus que estão aparecendo e ao relaxamento das medidas de isolamento."
      ],
      "metadata": {
        "id": "09EXKCELDZSm"
      }
    },
    {
      "cell_type": "markdown",
      "source": [
        "# Passo 2: Obter os dados"
      ],
      "metadata": {
        "id": "YhfU4qNh9ojM"
      }
    },
    {
      "cell_type": "markdown",
      "source": [
        "Os dados utilizados são referentes à população do estado de São Paulo e serão obtidos através da página [do site](https://www.seade.gov.br/coronavirus/) da Fundação SEADE - Sistema Estadual de Análise de Dados. Eles foram obtidos no dia 20 de julho de 2022 e apresentam dados recolhidos de 04 de fevereiro de 2020 até o dia 18 de julho de 2022."
      ],
      "metadata": {
        "id": "OFlnA_na9w5K"
      }
    },
    {
      "cell_type": "markdown",
      "source": [
        "Dicionário: https://github.com/seade-R/dados-covid-sp#dicion%C3%A1rio-para-o-arquivo-de-casos-%C3%B3bitos-e-doen%C3%A7as-pr%C3%A9-existentes\n",
        "\n",
        "Dados: https://raw.githubusercontent.com/seade-R/dados-covid-sp/master/data/casos_obitos_doencas_preexistentes.csv.zip"
      ],
      "metadata": {
        "id": "DiSsSyvxCs3z"
      }
    },
    {
      "cell_type": "markdown",
      "source": [
        "## Dicionário\n",
        "\n",
        "`codigo_ibge`\tCódigo do município no IBGE (7 dígitos) de residência do paciente\n",
        "\n",
        "`nome_munic`\tNome do município de residência do paciente\n",
        "\n",
        "`idade`\tIdade do paciente\n",
        "\n",
        "`cs_sexo`\tSexo do paciente\n",
        "\n",
        "`diagnostico_covid19`\tConfirmação de COVID-19\n",
        "\n",
        "`data_inicio_sintomas`\tData de início dos sintomas\n",
        "\n",
        "`obito`\tIndica se o paciente veio a óbito por COVID-19\n",
        "\n",
        "`asma`\tPaciente apresenta esse fator de risco (asma)\n",
        "\n",
        "`cardiopatia`\tPaciente apresenta esse fator de risco (cardiopatia)\n",
        "\n",
        "`diabetes`\tPaciente apresenta esse fator de risco (diabetes)\n",
        "\n",
        "`doenca_hematologica`\tPaciente apresenta esse fator de risco (doença hematológica)\n",
        "\n",
        "`doenca_hepatica`\tPaciente apresenta esse fator de risco (doença hepática)\n",
        "\n",
        "`doenca_neurologica`\tPaciente apresenta esse fator de risco (doença neurológica)\n",
        "\n",
        "`doenca_renal`\tPaciente apresenta esse fator de risco (doença renal)\n",
        "\n",
        "`imunodepressao`\tPaciente apresenta esse fator de risco (imunodepressão)\n",
        "\n",
        "`obesidade`\tPaciente apresenta esse fator de risco (obesidade)\n",
        "\n",
        "`outros_fatores_de_risco`\tPaciente apresenta outros fatores de risco\n",
        "\n",
        "`pneumopatia`\tPaciente apresenta esse fator de risco (pneumopatia)\n",
        "\n",
        "`puerpera`\tPaciente se encontra nesse estágio (puérpera)\n",
        "\n",
        "`sindrome_de_down`\tPaciente apresenta esse fator de risco (síndrome de down)"
      ],
      "metadata": {
        "id": "L0wP5kmH9109"
      }
    },
    {
      "cell_type": "markdown",
      "source": [
        "## Importação dos dados"
      ],
      "metadata": {
        "id": "o4QLxEAU_ScS"
      }
    },
    {
      "cell_type": "code",
      "source": [
        "%%time\n",
        "df_completo = pd.read_csv('/content/drive/MyDrive/ANÁLISES DE DADOS/Covid/casos_obitos_doencas_preexistentes.csv',\n",
        "                          sep=';', encoding='utf-8', parse_dates=['data_inicio_sintomas'])"
      ],
      "metadata": {
        "id": "PFVt0NbYqhVd",
        "outputId": "d11f19f3-d67c-459d-c25a-2c3fce4ece9a",
        "colab": {
          "base_uri": "https://localhost:8080/"
        }
      },
      "execution_count": 3,
      "outputs": [
        {
          "output_type": "stream",
          "name": "stdout",
          "text": [
            "CPU times: user 35.3 s, sys: 5.04 s, total: 40.4 s\n",
            "Wall time: 51.3 s\n"
          ]
        }
      ]
    },
    {
      "cell_type": "code",
      "source": [
        "df_completo.head(5)"
      ],
      "metadata": {
        "colab": {
          "base_uri": "https://localhost:8080/",
          "height": 444
        },
        "id": "_lLGHd54BtBd",
        "outputId": "040cf9d8-580e-4b74-8817-674dd90af7df"
      },
      "execution_count": 4,
      "outputs": [
        {
          "output_type": "execute_result",
          "data": {
            "text/plain": [
              "                nome_munic  codigo_ibge  idade    cs_sexo diagnostico_covid19  \\\n",
              "0  Santa Cruz do Rio Pardo      3546405  42.00  MASCULINO          CONFIRMADO   \n",
              "1  Santa Cruz do Rio Pardo      3546405  26.00   FEMININO          CONFIRMADO   \n",
              "2  Santa Cruz do Rio Pardo      3546405  51.00  MASCULINO          CONFIRMADO   \n",
              "3  Santa Cruz do Rio Pardo      3546405  57.00  MASCULINO          CONFIRMADO   \n",
              "4  Santa Cruz do Rio Pardo      3546405  25.00  MASCULINO          CONFIRMADO   \n",
              "\n",
              "       data_inicio_sintomas  obito      asma cardiopatia  diabetes  \\\n",
              "0 2022-01-23 00:00:00+00:00      0  IGNORADO    IGNORADO  IGNORADO   \n",
              "1 2022-01-24 00:00:00+00:00      0  IGNORADO    IGNORADO  IGNORADO   \n",
              "2 2022-01-24 00:00:00+00:00      0  IGNORADO         SIM  IGNORADO   \n",
              "3 2022-01-24 00:00:00+00:00      0  IGNORADO    IGNORADO  IGNORADO   \n",
              "4 2022-01-24 00:00:00+00:00      0  IGNORADO    IGNORADO  IGNORADO   \n",
              "\n",
              "  doenca_hematologica doenca_hepatica doenca_neurologica doenca_renal  \\\n",
              "0            IGNORADO        IGNORADO           IGNORADO     IGNORADO   \n",
              "1            IGNORADO        IGNORADO           IGNORADO     IGNORADO   \n",
              "2            IGNORADO        IGNORADO           IGNORADO     IGNORADO   \n",
              "3            IGNORADO        IGNORADO           IGNORADO     IGNORADO   \n",
              "4            IGNORADO        IGNORADO           IGNORADO     IGNORADO   \n",
              "\n",
              "  imunodepressao obesidade outros_fatores_de_risco pneumopatia  puerpera  \\\n",
              "0       IGNORADO  IGNORADO                IGNORADO    IGNORADO  IGNORADO   \n",
              "1       IGNORADO  IGNORADO                IGNORADO    IGNORADO  IGNORADO   \n",
              "2       IGNORADO  IGNORADO                IGNORADO    IGNORADO  IGNORADO   \n",
              "3       IGNORADO  IGNORADO                IGNORADO    IGNORADO  IGNORADO   \n",
              "4       IGNORADO  IGNORADO                IGNORADO    IGNORADO  IGNORADO   \n",
              "\n",
              "  sindrome_de_down  \n",
              "0         IGNORADO  \n",
              "1         IGNORADO  \n",
              "2         IGNORADO  \n",
              "3         IGNORADO  \n",
              "4         IGNORADO  "
            ],
            "text/html": [
              "\n",
              "  <div id=\"df-1797de8f-bfbd-4cab-a5a3-1cb3a2fb05be\">\n",
              "    <div class=\"colab-df-container\">\n",
              "      <div>\n",
              "<style scoped>\n",
              "    .dataframe tbody tr th:only-of-type {\n",
              "        vertical-align: middle;\n",
              "    }\n",
              "\n",
              "    .dataframe tbody tr th {\n",
              "        vertical-align: top;\n",
              "    }\n",
              "\n",
              "    .dataframe thead th {\n",
              "        text-align: right;\n",
              "    }\n",
              "</style>\n",
              "<table border=\"1\" class=\"dataframe\">\n",
              "  <thead>\n",
              "    <tr style=\"text-align: right;\">\n",
              "      <th></th>\n",
              "      <th>nome_munic</th>\n",
              "      <th>codigo_ibge</th>\n",
              "      <th>idade</th>\n",
              "      <th>cs_sexo</th>\n",
              "      <th>diagnostico_covid19</th>\n",
              "      <th>data_inicio_sintomas</th>\n",
              "      <th>obito</th>\n",
              "      <th>asma</th>\n",
              "      <th>cardiopatia</th>\n",
              "      <th>diabetes</th>\n",
              "      <th>doenca_hematologica</th>\n",
              "      <th>doenca_hepatica</th>\n",
              "      <th>doenca_neurologica</th>\n",
              "      <th>doenca_renal</th>\n",
              "      <th>imunodepressao</th>\n",
              "      <th>obesidade</th>\n",
              "      <th>outros_fatores_de_risco</th>\n",
              "      <th>pneumopatia</th>\n",
              "      <th>puerpera</th>\n",
              "      <th>sindrome_de_down</th>\n",
              "    </tr>\n",
              "  </thead>\n",
              "  <tbody>\n",
              "    <tr>\n",
              "      <th>0</th>\n",
              "      <td>Santa Cruz do Rio Pardo</td>\n",
              "      <td>3546405</td>\n",
              "      <td>42.00</td>\n",
              "      <td>MASCULINO</td>\n",
              "      <td>CONFIRMADO</td>\n",
              "      <td>2022-01-23 00:00:00+00:00</td>\n",
              "      <td>0</td>\n",
              "      <td>IGNORADO</td>\n",
              "      <td>IGNORADO</td>\n",
              "      <td>IGNORADO</td>\n",
              "      <td>IGNORADO</td>\n",
              "      <td>IGNORADO</td>\n",
              "      <td>IGNORADO</td>\n",
              "      <td>IGNORADO</td>\n",
              "      <td>IGNORADO</td>\n",
              "      <td>IGNORADO</td>\n",
              "      <td>IGNORADO</td>\n",
              "      <td>IGNORADO</td>\n",
              "      <td>IGNORADO</td>\n",
              "      <td>IGNORADO</td>\n",
              "    </tr>\n",
              "    <tr>\n",
              "      <th>1</th>\n",
              "      <td>Santa Cruz do Rio Pardo</td>\n",
              "      <td>3546405</td>\n",
              "      <td>26.00</td>\n",
              "      <td>FEMININO</td>\n",
              "      <td>CONFIRMADO</td>\n",
              "      <td>2022-01-24 00:00:00+00:00</td>\n",
              "      <td>0</td>\n",
              "      <td>IGNORADO</td>\n",
              "      <td>IGNORADO</td>\n",
              "      <td>IGNORADO</td>\n",
              "      <td>IGNORADO</td>\n",
              "      <td>IGNORADO</td>\n",
              "      <td>IGNORADO</td>\n",
              "      <td>IGNORADO</td>\n",
              "      <td>IGNORADO</td>\n",
              "      <td>IGNORADO</td>\n",
              "      <td>IGNORADO</td>\n",
              "      <td>IGNORADO</td>\n",
              "      <td>IGNORADO</td>\n",
              "      <td>IGNORADO</td>\n",
              "    </tr>\n",
              "    <tr>\n",
              "      <th>2</th>\n",
              "      <td>Santa Cruz do Rio Pardo</td>\n",
              "      <td>3546405</td>\n",
              "      <td>51.00</td>\n",
              "      <td>MASCULINO</td>\n",
              "      <td>CONFIRMADO</td>\n",
              "      <td>2022-01-24 00:00:00+00:00</td>\n",
              "      <td>0</td>\n",
              "      <td>IGNORADO</td>\n",
              "      <td>SIM</td>\n",
              "      <td>IGNORADO</td>\n",
              "      <td>IGNORADO</td>\n",
              "      <td>IGNORADO</td>\n",
              "      <td>IGNORADO</td>\n",
              "      <td>IGNORADO</td>\n",
              "      <td>IGNORADO</td>\n",
              "      <td>IGNORADO</td>\n",
              "      <td>IGNORADO</td>\n",
              "      <td>IGNORADO</td>\n",
              "      <td>IGNORADO</td>\n",
              "      <td>IGNORADO</td>\n",
              "    </tr>\n",
              "    <tr>\n",
              "      <th>3</th>\n",
              "      <td>Santa Cruz do Rio Pardo</td>\n",
              "      <td>3546405</td>\n",
              "      <td>57.00</td>\n",
              "      <td>MASCULINO</td>\n",
              "      <td>CONFIRMADO</td>\n",
              "      <td>2022-01-24 00:00:00+00:00</td>\n",
              "      <td>0</td>\n",
              "      <td>IGNORADO</td>\n",
              "      <td>IGNORADO</td>\n",
              "      <td>IGNORADO</td>\n",
              "      <td>IGNORADO</td>\n",
              "      <td>IGNORADO</td>\n",
              "      <td>IGNORADO</td>\n",
              "      <td>IGNORADO</td>\n",
              "      <td>IGNORADO</td>\n",
              "      <td>IGNORADO</td>\n",
              "      <td>IGNORADO</td>\n",
              "      <td>IGNORADO</td>\n",
              "      <td>IGNORADO</td>\n",
              "      <td>IGNORADO</td>\n",
              "    </tr>\n",
              "    <tr>\n",
              "      <th>4</th>\n",
              "      <td>Santa Cruz do Rio Pardo</td>\n",
              "      <td>3546405</td>\n",
              "      <td>25.00</td>\n",
              "      <td>MASCULINO</td>\n",
              "      <td>CONFIRMADO</td>\n",
              "      <td>2022-01-24 00:00:00+00:00</td>\n",
              "      <td>0</td>\n",
              "      <td>IGNORADO</td>\n",
              "      <td>IGNORADO</td>\n",
              "      <td>IGNORADO</td>\n",
              "      <td>IGNORADO</td>\n",
              "      <td>IGNORADO</td>\n",
              "      <td>IGNORADO</td>\n",
              "      <td>IGNORADO</td>\n",
              "      <td>IGNORADO</td>\n",
              "      <td>IGNORADO</td>\n",
              "      <td>IGNORADO</td>\n",
              "      <td>IGNORADO</td>\n",
              "      <td>IGNORADO</td>\n",
              "      <td>IGNORADO</td>\n",
              "    </tr>\n",
              "  </tbody>\n",
              "</table>\n",
              "</div>\n",
              "      <button class=\"colab-df-convert\" onclick=\"convertToInteractive('df-1797de8f-bfbd-4cab-a5a3-1cb3a2fb05be')\"\n",
              "              title=\"Convert this dataframe to an interactive table.\"\n",
              "              style=\"display:none;\">\n",
              "        \n",
              "  <svg xmlns=\"http://www.w3.org/2000/svg\" height=\"24px\"viewBox=\"0 0 24 24\"\n",
              "       width=\"24px\">\n",
              "    <path d=\"M0 0h24v24H0V0z\" fill=\"none\"/>\n",
              "    <path d=\"M18.56 5.44l.94 2.06.94-2.06 2.06-.94-2.06-.94-.94-2.06-.94 2.06-2.06.94zm-11 1L8.5 8.5l.94-2.06 2.06-.94-2.06-.94L8.5 2.5l-.94 2.06-2.06.94zm10 10l.94 2.06.94-2.06 2.06-.94-2.06-.94-.94-2.06-.94 2.06-2.06.94z\"/><path d=\"M17.41 7.96l-1.37-1.37c-.4-.4-.92-.59-1.43-.59-.52 0-1.04.2-1.43.59L10.3 9.45l-7.72 7.72c-.78.78-.78 2.05 0 2.83L4 21.41c.39.39.9.59 1.41.59.51 0 1.02-.2 1.41-.59l7.78-7.78 2.81-2.81c.8-.78.8-2.07 0-2.86zM5.41 20L4 18.59l7.72-7.72 1.47 1.35L5.41 20z\"/>\n",
              "  </svg>\n",
              "      </button>\n",
              "      \n",
              "  <style>\n",
              "    .colab-df-container {\n",
              "      display:flex;\n",
              "      flex-wrap:wrap;\n",
              "      gap: 12px;\n",
              "    }\n",
              "\n",
              "    .colab-df-convert {\n",
              "      background-color: #E8F0FE;\n",
              "      border: none;\n",
              "      border-radius: 50%;\n",
              "      cursor: pointer;\n",
              "      display: none;\n",
              "      fill: #1967D2;\n",
              "      height: 32px;\n",
              "      padding: 0 0 0 0;\n",
              "      width: 32px;\n",
              "    }\n",
              "\n",
              "    .colab-df-convert:hover {\n",
              "      background-color: #E2EBFA;\n",
              "      box-shadow: 0px 1px 2px rgba(60, 64, 67, 0.3), 0px 1px 3px 1px rgba(60, 64, 67, 0.15);\n",
              "      fill: #174EA6;\n",
              "    }\n",
              "\n",
              "    [theme=dark] .colab-df-convert {\n",
              "      background-color: #3B4455;\n",
              "      fill: #D2E3FC;\n",
              "    }\n",
              "\n",
              "    [theme=dark] .colab-df-convert:hover {\n",
              "      background-color: #434B5C;\n",
              "      box-shadow: 0px 1px 3px 1px rgba(0, 0, 0, 0.15);\n",
              "      filter: drop-shadow(0px 1px 2px rgba(0, 0, 0, 0.3));\n",
              "      fill: #FFFFFF;\n",
              "    }\n",
              "  </style>\n",
              "\n",
              "      <script>\n",
              "        const buttonEl =\n",
              "          document.querySelector('#df-1797de8f-bfbd-4cab-a5a3-1cb3a2fb05be button.colab-df-convert');\n",
              "        buttonEl.style.display =\n",
              "          google.colab.kernel.accessAllowed ? 'block' : 'none';\n",
              "\n",
              "        async function convertToInteractive(key) {\n",
              "          const element = document.querySelector('#df-1797de8f-bfbd-4cab-a5a3-1cb3a2fb05be');\n",
              "          const dataTable =\n",
              "            await google.colab.kernel.invokeFunction('convertToInteractive',\n",
              "                                                     [key], {});\n",
              "          if (!dataTable) return;\n",
              "\n",
              "          const docLinkHtml = 'Like what you see? Visit the ' +\n",
              "            '<a target=\"_blank\" href=https://colab.research.google.com/notebooks/data_table.ipynb>data table notebook</a>'\n",
              "            + ' to learn more about interactive tables.';\n",
              "          element.innerHTML = '';\n",
              "          dataTable['output_type'] = 'display_data';\n",
              "          await google.colab.output.renderOutput(dataTable, element);\n",
              "          const docLink = document.createElement('div');\n",
              "          docLink.innerHTML = docLinkHtml;\n",
              "          element.appendChild(docLink);\n",
              "        }\n",
              "      </script>\n",
              "    </div>\n",
              "  </div>\n",
              "  "
            ]
          },
          "metadata": {},
          "execution_count": 4
        }
      ]
    },
    {
      "cell_type": "code",
      "source": [
        "df_completo.shape"
      ],
      "metadata": {
        "colab": {
          "base_uri": "https://localhost:8080/"
        },
        "id": "DNjh5Gm6ubgV",
        "outputId": "e4956182-1109-4e48-8aeb-ed1c63b7e110"
      },
      "execution_count": 5,
      "outputs": [
        {
          "output_type": "execute_result",
          "data": {
            "text/plain": [
              "(5852960, 20)"
            ]
          },
          "metadata": {},
          "execution_count": 5
        }
      ]
    },
    {
      "cell_type": "markdown",
      "source": [
        "Os registros com valores 'IGNORADO' correspondem a dados que não foram informados.\n",
        "\n",
        "Dataframe sem os dados com os campos com valor 'IGNORADO':"
      ],
      "metadata": {
        "id": "repzLbKIB6YS"
      }
    },
    {
      "cell_type": "code",
      "source": [
        "%%time\n",
        "colunas = df_completo.columns\n",
        "df_sem_ignorados = df_completo.copy()\n",
        "\n",
        "for c in colunas:\n",
        "  df_sem_ignorados.drop(df_sem_ignorados.loc[df_sem_ignorados[c]=='IGNORADO'].index, inplace=True)\n",
        "\n",
        "df_sem_ignorados.shape\n"
      ],
      "metadata": {
        "colab": {
          "base_uri": "https://localhost:8080/"
        },
        "id": "k2d38bB-bsY_",
        "outputId": "9026eed0-3728-45ea-af12-4697eaefaa00"
      },
      "execution_count": 6,
      "outputs": [
        {
          "output_type": "stream",
          "name": "stdout",
          "text": [
            "CPU times: user 15.5 s, sys: 1.41 s, total: 17 s\n",
            "Wall time: 16.7 s\n"
          ]
        }
      ]
    },
    {
      "cell_type": "markdown",
      "source": [
        "Salvando registros sem ignorados em csv:"
      ],
      "metadata": {
        "id": "XfqZAHY_Chow"
      }
    },
    {
      "cell_type": "code",
      "source": [
        "%%time\n",
        "os.makedirs('/content/drive/MyDrive/ANÁLISES DE DADOS/Covid', exist_ok=True)  \n",
        "df_sem_ignorados.to_csv('/content/drive/MyDrive/ANÁLISES DE DADOS/Covid/casos_obitos_doencas_preexistentes_sem_ignorados.csv') "
      ],
      "metadata": {
        "id": "-Qcvhew1CptH",
        "colab": {
          "base_uri": "https://localhost:8080/"
        },
        "outputId": "82d2d65f-9caa-414e-a38a-4e4ca6140d7d"
      },
      "execution_count": 7,
      "outputs": [
        {
          "output_type": "stream",
          "name": "stdout",
          "text": [
            "CPU times: user 2.02 s, sys: 47.1 ms, total: 2.06 s\n",
            "Wall time: 2.19 s\n"
          ]
        }
      ]
    },
    {
      "cell_type": "code",
      "source": [
        "df_sem_ignorados.head()"
      ],
      "metadata": {
        "colab": {
          "base_uri": "https://localhost:8080/",
          "height": 444
        },
        "id": "F-RoEYRLGeJZ",
        "outputId": "4adc9dfe-7f16-4888-eee0-a268f8e0d3b5"
      },
      "execution_count": 8,
      "outputs": [
        {
          "output_type": "execute_result",
          "data": {
            "text/plain": [
              "                 nome_munic  codigo_ibge  idade    cs_sexo  \\\n",
              "7   Santa Cruz do Rio Pardo      3546405  68.00   FEMININO   \n",
              "28  Santa Cruz do Rio Pardo      3546405  77.00   FEMININO   \n",
              "31    Santa Bárbara d'Oeste      3545803  22.00  MASCULINO   \n",
              "91  Santa Cruz do Rio Pardo      3546405  71.00  MASCULINO   \n",
              "93  Santa Cruz do Rio Pardo      3546405 102.00  MASCULINO   \n",
              "\n",
              "   diagnostico_covid19      data_inicio_sintomas  obito asma cardiopatia  \\\n",
              "7           CONFIRMADO 2022-01-24 00:00:00+00:00      0  NÃO         SIM   \n",
              "28          CONFIRMADO 2022-01-18 00:00:00+00:00      1  NÃO         SIM   \n",
              "31          CONFIRMADO 2020-10-22 00:00:00+00:00      0  NÃO         SIM   \n",
              "91          CONFIRMADO 2022-01-24 00:00:00+00:00      0  NÃO         SIM   \n",
              "93          CONFIRMADO 2022-01-24 00:00:00+00:00      1  NÃO         SIM   \n",
              "\n",
              "   diabetes doenca_hematologica doenca_hepatica doenca_neurologica  \\\n",
              "7       SIM                 NÃO             NÃO                NÃO   \n",
              "28      NÃO                 NÃO             NÃO                NÃO   \n",
              "31      SIM                 NÃO             NÃO                SIM   \n",
              "91      NÃO                 NÃO             NÃO                NÃO   \n",
              "93      SIM                 NÃO             NÃO                NÃO   \n",
              "\n",
              "   doenca_renal imunodepressao obesidade outros_fatores_de_risco pneumopatia  \\\n",
              "7           SIM            NÃO       NÃO                     SIM         NÃO   \n",
              "28          NÃO            NÃO       NÃO                     NÃO         NÃO   \n",
              "31          NÃO            NÃO       NÃO                     NÃO         NÃO   \n",
              "91          NÃO            NÃO       NÃO                     NÃO         SIM   \n",
              "93          NÃO            NÃO       NÃO                     NÃO         NÃO   \n",
              "\n",
              "   puerpera sindrome_de_down  \n",
              "7       NÃO              NÃO  \n",
              "28      NÃO              NÃO  \n",
              "31      NÃO              NÃO  \n",
              "91      NÃO              NÃO  \n",
              "93      NÃO              NÃO  "
            ],
            "text/html": [
              "\n",
              "  <div id=\"df-35e92fb4-19b9-4160-aa30-2081454ff2e0\">\n",
              "    <div class=\"colab-df-container\">\n",
              "      <div>\n",
              "<style scoped>\n",
              "    .dataframe tbody tr th:only-of-type {\n",
              "        vertical-align: middle;\n",
              "    }\n",
              "\n",
              "    .dataframe tbody tr th {\n",
              "        vertical-align: top;\n",
              "    }\n",
              "\n",
              "    .dataframe thead th {\n",
              "        text-align: right;\n",
              "    }\n",
              "</style>\n",
              "<table border=\"1\" class=\"dataframe\">\n",
              "  <thead>\n",
              "    <tr style=\"text-align: right;\">\n",
              "      <th></th>\n",
              "      <th>nome_munic</th>\n",
              "      <th>codigo_ibge</th>\n",
              "      <th>idade</th>\n",
              "      <th>cs_sexo</th>\n",
              "      <th>diagnostico_covid19</th>\n",
              "      <th>data_inicio_sintomas</th>\n",
              "      <th>obito</th>\n",
              "      <th>asma</th>\n",
              "      <th>cardiopatia</th>\n",
              "      <th>diabetes</th>\n",
              "      <th>doenca_hematologica</th>\n",
              "      <th>doenca_hepatica</th>\n",
              "      <th>doenca_neurologica</th>\n",
              "      <th>doenca_renal</th>\n",
              "      <th>imunodepressao</th>\n",
              "      <th>obesidade</th>\n",
              "      <th>outros_fatores_de_risco</th>\n",
              "      <th>pneumopatia</th>\n",
              "      <th>puerpera</th>\n",
              "      <th>sindrome_de_down</th>\n",
              "    </tr>\n",
              "  </thead>\n",
              "  <tbody>\n",
              "    <tr>\n",
              "      <th>7</th>\n",
              "      <td>Santa Cruz do Rio Pardo</td>\n",
              "      <td>3546405</td>\n",
              "      <td>68.00</td>\n",
              "      <td>FEMININO</td>\n",
              "      <td>CONFIRMADO</td>\n",
              "      <td>2022-01-24 00:00:00+00:00</td>\n",
              "      <td>0</td>\n",
              "      <td>NÃO</td>\n",
              "      <td>SIM</td>\n",
              "      <td>SIM</td>\n",
              "      <td>NÃO</td>\n",
              "      <td>NÃO</td>\n",
              "      <td>NÃO</td>\n",
              "      <td>SIM</td>\n",
              "      <td>NÃO</td>\n",
              "      <td>NÃO</td>\n",
              "      <td>SIM</td>\n",
              "      <td>NÃO</td>\n",
              "      <td>NÃO</td>\n",
              "      <td>NÃO</td>\n",
              "    </tr>\n",
              "    <tr>\n",
              "      <th>28</th>\n",
              "      <td>Santa Cruz do Rio Pardo</td>\n",
              "      <td>3546405</td>\n",
              "      <td>77.00</td>\n",
              "      <td>FEMININO</td>\n",
              "      <td>CONFIRMADO</td>\n",
              "      <td>2022-01-18 00:00:00+00:00</td>\n",
              "      <td>1</td>\n",
              "      <td>NÃO</td>\n",
              "      <td>SIM</td>\n",
              "      <td>NÃO</td>\n",
              "      <td>NÃO</td>\n",
              "      <td>NÃO</td>\n",
              "      <td>NÃO</td>\n",
              "      <td>NÃO</td>\n",
              "      <td>NÃO</td>\n",
              "      <td>NÃO</td>\n",
              "      <td>NÃO</td>\n",
              "      <td>NÃO</td>\n",
              "      <td>NÃO</td>\n",
              "      <td>NÃO</td>\n",
              "    </tr>\n",
              "    <tr>\n",
              "      <th>31</th>\n",
              "      <td>Santa Bárbara d'Oeste</td>\n",
              "      <td>3545803</td>\n",
              "      <td>22.00</td>\n",
              "      <td>MASCULINO</td>\n",
              "      <td>CONFIRMADO</td>\n",
              "      <td>2020-10-22 00:00:00+00:00</td>\n",
              "      <td>0</td>\n",
              "      <td>NÃO</td>\n",
              "      <td>SIM</td>\n",
              "      <td>SIM</td>\n",
              "      <td>NÃO</td>\n",
              "      <td>NÃO</td>\n",
              "      <td>SIM</td>\n",
              "      <td>NÃO</td>\n",
              "      <td>NÃO</td>\n",
              "      <td>NÃO</td>\n",
              "      <td>NÃO</td>\n",
              "      <td>NÃO</td>\n",
              "      <td>NÃO</td>\n",
              "      <td>NÃO</td>\n",
              "    </tr>\n",
              "    <tr>\n",
              "      <th>91</th>\n",
              "      <td>Santa Cruz do Rio Pardo</td>\n",
              "      <td>3546405</td>\n",
              "      <td>71.00</td>\n",
              "      <td>MASCULINO</td>\n",
              "      <td>CONFIRMADO</td>\n",
              "      <td>2022-01-24 00:00:00+00:00</td>\n",
              "      <td>0</td>\n",
              "      <td>NÃO</td>\n",
              "      <td>SIM</td>\n",
              "      <td>NÃO</td>\n",
              "      <td>NÃO</td>\n",
              "      <td>NÃO</td>\n",
              "      <td>NÃO</td>\n",
              "      <td>NÃO</td>\n",
              "      <td>NÃO</td>\n",
              "      <td>NÃO</td>\n",
              "      <td>NÃO</td>\n",
              "      <td>SIM</td>\n",
              "      <td>NÃO</td>\n",
              "      <td>NÃO</td>\n",
              "    </tr>\n",
              "    <tr>\n",
              "      <th>93</th>\n",
              "      <td>Santa Cruz do Rio Pardo</td>\n",
              "      <td>3546405</td>\n",
              "      <td>102.00</td>\n",
              "      <td>MASCULINO</td>\n",
              "      <td>CONFIRMADO</td>\n",
              "      <td>2022-01-24 00:00:00+00:00</td>\n",
              "      <td>1</td>\n",
              "      <td>NÃO</td>\n",
              "      <td>SIM</td>\n",
              "      <td>SIM</td>\n",
              "      <td>NÃO</td>\n",
              "      <td>NÃO</td>\n",
              "      <td>NÃO</td>\n",
              "      <td>NÃO</td>\n",
              "      <td>NÃO</td>\n",
              "      <td>NÃO</td>\n",
              "      <td>NÃO</td>\n",
              "      <td>NÃO</td>\n",
              "      <td>NÃO</td>\n",
              "      <td>NÃO</td>\n",
              "    </tr>\n",
              "  </tbody>\n",
              "</table>\n",
              "</div>\n",
              "      <button class=\"colab-df-convert\" onclick=\"convertToInteractive('df-35e92fb4-19b9-4160-aa30-2081454ff2e0')\"\n",
              "              title=\"Convert this dataframe to an interactive table.\"\n",
              "              style=\"display:none;\">\n",
              "        \n",
              "  <svg xmlns=\"http://www.w3.org/2000/svg\" height=\"24px\"viewBox=\"0 0 24 24\"\n",
              "       width=\"24px\">\n",
              "    <path d=\"M0 0h24v24H0V0z\" fill=\"none\"/>\n",
              "    <path d=\"M18.56 5.44l.94 2.06.94-2.06 2.06-.94-2.06-.94-.94-2.06-.94 2.06-2.06.94zm-11 1L8.5 8.5l.94-2.06 2.06-.94-2.06-.94L8.5 2.5l-.94 2.06-2.06.94zm10 10l.94 2.06.94-2.06 2.06-.94-2.06-.94-.94-2.06-.94 2.06-2.06.94z\"/><path d=\"M17.41 7.96l-1.37-1.37c-.4-.4-.92-.59-1.43-.59-.52 0-1.04.2-1.43.59L10.3 9.45l-7.72 7.72c-.78.78-.78 2.05 0 2.83L4 21.41c.39.39.9.59 1.41.59.51 0 1.02-.2 1.41-.59l7.78-7.78 2.81-2.81c.8-.78.8-2.07 0-2.86zM5.41 20L4 18.59l7.72-7.72 1.47 1.35L5.41 20z\"/>\n",
              "  </svg>\n",
              "      </button>\n",
              "      \n",
              "  <style>\n",
              "    .colab-df-container {\n",
              "      display:flex;\n",
              "      flex-wrap:wrap;\n",
              "      gap: 12px;\n",
              "    }\n",
              "\n",
              "    .colab-df-convert {\n",
              "      background-color: #E8F0FE;\n",
              "      border: none;\n",
              "      border-radius: 50%;\n",
              "      cursor: pointer;\n",
              "      display: none;\n",
              "      fill: #1967D2;\n",
              "      height: 32px;\n",
              "      padding: 0 0 0 0;\n",
              "      width: 32px;\n",
              "    }\n",
              "\n",
              "    .colab-df-convert:hover {\n",
              "      background-color: #E2EBFA;\n",
              "      box-shadow: 0px 1px 2px rgba(60, 64, 67, 0.3), 0px 1px 3px 1px rgba(60, 64, 67, 0.15);\n",
              "      fill: #174EA6;\n",
              "    }\n",
              "\n",
              "    [theme=dark] .colab-df-convert {\n",
              "      background-color: #3B4455;\n",
              "      fill: #D2E3FC;\n",
              "    }\n",
              "\n",
              "    [theme=dark] .colab-df-convert:hover {\n",
              "      background-color: #434B5C;\n",
              "      box-shadow: 0px 1px 3px 1px rgba(0, 0, 0, 0.15);\n",
              "      filter: drop-shadow(0px 1px 2px rgba(0, 0, 0, 0.3));\n",
              "      fill: #FFFFFF;\n",
              "    }\n",
              "  </style>\n",
              "\n",
              "      <script>\n",
              "        const buttonEl =\n",
              "          document.querySelector('#df-35e92fb4-19b9-4160-aa30-2081454ff2e0 button.colab-df-convert');\n",
              "        buttonEl.style.display =\n",
              "          google.colab.kernel.accessAllowed ? 'block' : 'none';\n",
              "\n",
              "        async function convertToInteractive(key) {\n",
              "          const element = document.querySelector('#df-35e92fb4-19b9-4160-aa30-2081454ff2e0');\n",
              "          const dataTable =\n",
              "            await google.colab.kernel.invokeFunction('convertToInteractive',\n",
              "                                                     [key], {});\n",
              "          if (!dataTable) return;\n",
              "\n",
              "          const docLinkHtml = 'Like what you see? Visit the ' +\n",
              "            '<a target=\"_blank\" href=https://colab.research.google.com/notebooks/data_table.ipynb>data table notebook</a>'\n",
              "            + ' to learn more about interactive tables.';\n",
              "          element.innerHTML = '';\n",
              "          dataTable['output_type'] = 'display_data';\n",
              "          await google.colab.output.renderOutput(dataTable, element);\n",
              "          const docLink = document.createElement('div');\n",
              "          docLink.innerHTML = docLinkHtml;\n",
              "          element.appendChild(docLink);\n",
              "        }\n",
              "      </script>\n",
              "    </div>\n",
              "  </div>\n",
              "  "
            ]
          },
          "metadata": {},
          "execution_count": 8
        }
      ]
    },
    {
      "cell_type": "code",
      "source": [
        "print(f'O conjunto de dados sem ignorados tem {df_sem_ignorados.shape[0]} registros.')"
      ],
      "metadata": {
        "id": "rrHQwEm-Tutq",
        "outputId": "ab2f1403-0059-4094-ba28-c385dafcb830",
        "colab": {
          "base_uri": "https://localhost:8080/"
        }
      },
      "execution_count": 9,
      "outputs": [
        {
          "output_type": "stream",
          "name": "stdout",
          "text": [
            "O conjunto de dados sem ignorados tem 185800 registros.\n"
          ]
        }
      ]
    },
    {
      "cell_type": "markdown",
      "source": [
        "# Passo3: Explorar os dados para obter informações úteis"
      ],
      "metadata": {
        "id": "vBeMHUTdyKau"
      }
    },
    {
      "cell_type": "code",
      "source": [
        "#df = pd.read_csv('/content/drive/MyDrive/ANÁLISES DE DADOS/Covid/casos_obitos_doencas_preexistentes_sem_ignorados.csv', sep=',')\n",
        "#df = pd.read_csv('/content/drive/MyDrive/ANÁLISES DE DADOS/Covid/casos_obitos_doencas_preexistentes.csv', sep=',')\n",
        "df = df_completo"
      ],
      "metadata": {
        "id": "t0KFdUi-yOsb"
      },
      "execution_count": 10,
      "outputs": []
    },
    {
      "cell_type": "markdown",
      "source": [
        "## Análise descritiva"
      ],
      "metadata": {
        "id": "34lTxhlkyWl1"
      }
    },
    {
      "cell_type": "markdown",
      "source": [
        "Achamos interessante analisar primeiramente o período anterior ao início da vacinação no Estada de São Paulo, que começou em 17 de janeiro de 2021 com a vacinação da enfermeira Mônica Calazans. [(4)](https://vejasp.abril.com.br/saude/ato-simbolico-de-doria-marca-inicio-da-vacinacao-em-sao-paulo/)"
      ],
      "metadata": {
        "id": "6-RXtVTzNHFD"
      }
    },
    {
      "cell_type": "markdown",
      "source": [
        "Obtendo dados anteriores à 17 de janeiro de 2021."
      ],
      "metadata": {
        "id": "WYO4XHTNN71V"
      }
    },
    {
      "cell_type": "code",
      "source": [
        "df = df.loc[df['data_inicio_sintomas'] < '2021-01-17']"
      ],
      "metadata": {
        "id": "oIOA5IHcOA19"
      },
      "execution_count": 11,
      "outputs": []
    },
    {
      "cell_type": "code",
      "source": [
        "min_data = df.loc[df['data_inicio_sintomas'] < '2021-01-17']['data_inicio_sintomas'].min()\n",
        "max_data = df.loc[df['data_inicio_sintomas'] < '2021-01-17']['data_inicio_sintomas'].max()"
      ],
      "metadata": {
        "id": "x-GecK7yPVmV"
      },
      "execution_count": 12,
      "outputs": []
    },
    {
      "cell_type": "code",
      "source": [
        "print(f'Novo tamanho do dataframe: {df.shape[0]}')\n",
        "print(f'Data mínima: {min_data}')\n",
        "print(f'Data mínima: {max_data}')"
      ],
      "metadata": {
        "colab": {
          "base_uri": "https://localhost:8080/"
        },
        "id": "tABLVjAHOjXM",
        "outputId": "002f6316-b859-4a11-bd52-bc3346c39049"
      },
      "execution_count": 13,
      "outputs": [
        {
          "output_type": "stream",
          "name": "stdout",
          "text": [
            "Novo tamanho do dataframe: 1844188\n",
            "Data mínima: 2020-02-04 00:00:00+00:00\n",
            "Data mínima: 2021-01-16 00:00:00+00:00\n"
          ]
        }
      ]
    },
    {
      "cell_type": "code",
      "source": [
        "%%time\n",
        "df.describe(include='all')"
      ],
      "metadata": {
        "colab": {
          "base_uri": "https://localhost:8080/",
          "height": 608
        },
        "id": "3o7z28wpyT_D",
        "outputId": "448e6d75-d3bb-478f-e289-b44412ec2b58"
      },
      "execution_count": 14,
      "outputs": [
        {
          "output_type": "stream",
          "name": "stdout",
          "text": [
            "CPU times: user 3.13 s, sys: 23 ms, total: 3.15 s\n",
            "Wall time: 3.17 s\n"
          ]
        },
        {
          "output_type": "execute_result",
          "data": {
            "text/plain": [
              "       nome_munic  codigo_ibge      idade   cs_sexo diagnostico_covid19  \\\n",
              "count     1844188   1844188.00 1843023.00   1844188             1844188   \n",
              "unique        646          NaN        NaN         4                   1   \n",
              "top     São Paulo          NaN        NaN  FEMININO          CONFIRMADO   \n",
              "freq       498959          NaN        NaN    994117             1844188   \n",
              "first         NaN          NaN        NaN       NaN                 NaN   \n",
              "last          NaN          NaN        NaN       NaN                 NaN   \n",
              "mean          NaN   3535903.37      41.63       NaN                 NaN   \n",
              "std           NaN     17025.66      17.43       NaN                 NaN   \n",
              "min           NaN   3500105.00       0.00       NaN                 NaN   \n",
              "25%           NaN   3520400.00      29.00       NaN                 NaN   \n",
              "50%           NaN   3544004.00      40.00       NaN                 NaN   \n",
              "75%           NaN   3550308.00      53.00       NaN                 NaN   \n",
              "max           NaN   3599999.00     136.00       NaN                 NaN   \n",
              "\n",
              "             data_inicio_sintomas      obito      asma cardiopatia  diabetes  \\\n",
              "count                     1844188 1844188.00   1844188     1844188   1844188   \n",
              "unique                        348        NaN         3           3         3   \n",
              "top     2021-01-04 00:00:00+00:00        NaN  IGNORADO    IGNORADO  IGNORADO   \n",
              "freq                        17636        NaN   1756856     1635133   1679126   \n",
              "first   2020-02-04 00:00:00+00:00        NaN       NaN         NaN       NaN   \n",
              "last    2021-01-16 00:00:00+00:00        NaN       NaN         NaN       NaN   \n",
              "mean                          NaN       0.03       NaN         NaN       NaN   \n",
              "std                           NaN       0.18       NaN         NaN       NaN   \n",
              "min                           NaN       0.00       NaN         NaN       NaN   \n",
              "25%                           NaN       0.00       NaN         NaN       NaN   \n",
              "50%                           NaN       0.00       NaN         NaN       NaN   \n",
              "75%                           NaN       0.00       NaN         NaN       NaN   \n",
              "max                           NaN       1.00       NaN         NaN       NaN   \n",
              "\n",
              "       doenca_hematologica doenca_hepatica doenca_neurologica doenca_renal  \\\n",
              "count              1844188         1844188            1844188      1844188   \n",
              "unique                   3               3                  3            3   \n",
              "top               IGNORADO        IGNORADO           IGNORADO     IGNORADO   \n",
              "freq               1758235         1758544            1755748      1752060   \n",
              "first                  NaN             NaN                NaN          NaN   \n",
              "last                   NaN             NaN                NaN          NaN   \n",
              "mean                   NaN             NaN                NaN          NaN   \n",
              "std                    NaN             NaN                NaN          NaN   \n",
              "min                    NaN             NaN                NaN          NaN   \n",
              "25%                    NaN             NaN                NaN          NaN   \n",
              "50%                    NaN             NaN                NaN          NaN   \n",
              "75%                    NaN             NaN                NaN          NaN   \n",
              "max                    NaN             NaN                NaN          NaN   \n",
              "\n",
              "       imunodepressao obesidade outros_fatores_de_risco pneumopatia  puerpera  \\\n",
              "count         1844188   1844188                 1844188     1844188   1844188   \n",
              "unique              3         3                       3           3         3   \n",
              "top          IGNORADO  IGNORADO                IGNORADO    IGNORADO  IGNORADO   \n",
              "freq          1747838   1756630                 1741887     1756030   1759364   \n",
              "first             NaN       NaN                     NaN         NaN       NaN   \n",
              "last              NaN       NaN                     NaN         NaN       NaN   \n",
              "mean              NaN       NaN                     NaN         NaN       NaN   \n",
              "std               NaN       NaN                     NaN         NaN       NaN   \n",
              "min               NaN       NaN                     NaN         NaN       NaN   \n",
              "25%               NaN       NaN                     NaN         NaN       NaN   \n",
              "50%               NaN       NaN                     NaN         NaN       NaN   \n",
              "75%               NaN       NaN                     NaN         NaN       NaN   \n",
              "max               NaN       NaN                     NaN         NaN       NaN   \n",
              "\n",
              "       sindrome_de_down  \n",
              "count           1844188  \n",
              "unique                3  \n",
              "top            IGNORADO  \n",
              "freq            1758586  \n",
              "first               NaN  \n",
              "last                NaN  \n",
              "mean                NaN  \n",
              "std                 NaN  \n",
              "min                 NaN  \n",
              "25%                 NaN  \n",
              "50%                 NaN  \n",
              "75%                 NaN  \n",
              "max                 NaN  "
            ],
            "text/html": [
              "\n",
              "  <div id=\"df-5331e3ee-6e33-46b4-986c-07784651f0d3\">\n",
              "    <div class=\"colab-df-container\">\n",
              "      <div>\n",
              "<style scoped>\n",
              "    .dataframe tbody tr th:only-of-type {\n",
              "        vertical-align: middle;\n",
              "    }\n",
              "\n",
              "    .dataframe tbody tr th {\n",
              "        vertical-align: top;\n",
              "    }\n",
              "\n",
              "    .dataframe thead th {\n",
              "        text-align: right;\n",
              "    }\n",
              "</style>\n",
              "<table border=\"1\" class=\"dataframe\">\n",
              "  <thead>\n",
              "    <tr style=\"text-align: right;\">\n",
              "      <th></th>\n",
              "      <th>nome_munic</th>\n",
              "      <th>codigo_ibge</th>\n",
              "      <th>idade</th>\n",
              "      <th>cs_sexo</th>\n",
              "      <th>diagnostico_covid19</th>\n",
              "      <th>data_inicio_sintomas</th>\n",
              "      <th>obito</th>\n",
              "      <th>asma</th>\n",
              "      <th>cardiopatia</th>\n",
              "      <th>diabetes</th>\n",
              "      <th>doenca_hematologica</th>\n",
              "      <th>doenca_hepatica</th>\n",
              "      <th>doenca_neurologica</th>\n",
              "      <th>doenca_renal</th>\n",
              "      <th>imunodepressao</th>\n",
              "      <th>obesidade</th>\n",
              "      <th>outros_fatores_de_risco</th>\n",
              "      <th>pneumopatia</th>\n",
              "      <th>puerpera</th>\n",
              "      <th>sindrome_de_down</th>\n",
              "    </tr>\n",
              "  </thead>\n",
              "  <tbody>\n",
              "    <tr>\n",
              "      <th>count</th>\n",
              "      <td>1844188</td>\n",
              "      <td>1844188.00</td>\n",
              "      <td>1843023.00</td>\n",
              "      <td>1844188</td>\n",
              "      <td>1844188</td>\n",
              "      <td>1844188</td>\n",
              "      <td>1844188.00</td>\n",
              "      <td>1844188</td>\n",
              "      <td>1844188</td>\n",
              "      <td>1844188</td>\n",
              "      <td>1844188</td>\n",
              "      <td>1844188</td>\n",
              "      <td>1844188</td>\n",
              "      <td>1844188</td>\n",
              "      <td>1844188</td>\n",
              "      <td>1844188</td>\n",
              "      <td>1844188</td>\n",
              "      <td>1844188</td>\n",
              "      <td>1844188</td>\n",
              "      <td>1844188</td>\n",
              "    </tr>\n",
              "    <tr>\n",
              "      <th>unique</th>\n",
              "      <td>646</td>\n",
              "      <td>NaN</td>\n",
              "      <td>NaN</td>\n",
              "      <td>4</td>\n",
              "      <td>1</td>\n",
              "      <td>348</td>\n",
              "      <td>NaN</td>\n",
              "      <td>3</td>\n",
              "      <td>3</td>\n",
              "      <td>3</td>\n",
              "      <td>3</td>\n",
              "      <td>3</td>\n",
              "      <td>3</td>\n",
              "      <td>3</td>\n",
              "      <td>3</td>\n",
              "      <td>3</td>\n",
              "      <td>3</td>\n",
              "      <td>3</td>\n",
              "      <td>3</td>\n",
              "      <td>3</td>\n",
              "    </tr>\n",
              "    <tr>\n",
              "      <th>top</th>\n",
              "      <td>São Paulo</td>\n",
              "      <td>NaN</td>\n",
              "      <td>NaN</td>\n",
              "      <td>FEMININO</td>\n",
              "      <td>CONFIRMADO</td>\n",
              "      <td>2021-01-04 00:00:00+00:00</td>\n",
              "      <td>NaN</td>\n",
              "      <td>IGNORADO</td>\n",
              "      <td>IGNORADO</td>\n",
              "      <td>IGNORADO</td>\n",
              "      <td>IGNORADO</td>\n",
              "      <td>IGNORADO</td>\n",
              "      <td>IGNORADO</td>\n",
              "      <td>IGNORADO</td>\n",
              "      <td>IGNORADO</td>\n",
              "      <td>IGNORADO</td>\n",
              "      <td>IGNORADO</td>\n",
              "      <td>IGNORADO</td>\n",
              "      <td>IGNORADO</td>\n",
              "      <td>IGNORADO</td>\n",
              "    </tr>\n",
              "    <tr>\n",
              "      <th>freq</th>\n",
              "      <td>498959</td>\n",
              "      <td>NaN</td>\n",
              "      <td>NaN</td>\n",
              "      <td>994117</td>\n",
              "      <td>1844188</td>\n",
              "      <td>17636</td>\n",
              "      <td>NaN</td>\n",
              "      <td>1756856</td>\n",
              "      <td>1635133</td>\n",
              "      <td>1679126</td>\n",
              "      <td>1758235</td>\n",
              "      <td>1758544</td>\n",
              "      <td>1755748</td>\n",
              "      <td>1752060</td>\n",
              "      <td>1747838</td>\n",
              "      <td>1756630</td>\n",
              "      <td>1741887</td>\n",
              "      <td>1756030</td>\n",
              "      <td>1759364</td>\n",
              "      <td>1758586</td>\n",
              "    </tr>\n",
              "    <tr>\n",
              "      <th>first</th>\n",
              "      <td>NaN</td>\n",
              "      <td>NaN</td>\n",
              "      <td>NaN</td>\n",
              "      <td>NaN</td>\n",
              "      <td>NaN</td>\n",
              "      <td>2020-02-04 00:00:00+00:00</td>\n",
              "      <td>NaN</td>\n",
              "      <td>NaN</td>\n",
              "      <td>NaN</td>\n",
              "      <td>NaN</td>\n",
              "      <td>NaN</td>\n",
              "      <td>NaN</td>\n",
              "      <td>NaN</td>\n",
              "      <td>NaN</td>\n",
              "      <td>NaN</td>\n",
              "      <td>NaN</td>\n",
              "      <td>NaN</td>\n",
              "      <td>NaN</td>\n",
              "      <td>NaN</td>\n",
              "      <td>NaN</td>\n",
              "    </tr>\n",
              "    <tr>\n",
              "      <th>last</th>\n",
              "      <td>NaN</td>\n",
              "      <td>NaN</td>\n",
              "      <td>NaN</td>\n",
              "      <td>NaN</td>\n",
              "      <td>NaN</td>\n",
              "      <td>2021-01-16 00:00:00+00:00</td>\n",
              "      <td>NaN</td>\n",
              "      <td>NaN</td>\n",
              "      <td>NaN</td>\n",
              "      <td>NaN</td>\n",
              "      <td>NaN</td>\n",
              "      <td>NaN</td>\n",
              "      <td>NaN</td>\n",
              "      <td>NaN</td>\n",
              "      <td>NaN</td>\n",
              "      <td>NaN</td>\n",
              "      <td>NaN</td>\n",
              "      <td>NaN</td>\n",
              "      <td>NaN</td>\n",
              "      <td>NaN</td>\n",
              "    </tr>\n",
              "    <tr>\n",
              "      <th>mean</th>\n",
              "      <td>NaN</td>\n",
              "      <td>3535903.37</td>\n",
              "      <td>41.63</td>\n",
              "      <td>NaN</td>\n",
              "      <td>NaN</td>\n",
              "      <td>NaN</td>\n",
              "      <td>0.03</td>\n",
              "      <td>NaN</td>\n",
              "      <td>NaN</td>\n",
              "      <td>NaN</td>\n",
              "      <td>NaN</td>\n",
              "      <td>NaN</td>\n",
              "      <td>NaN</td>\n",
              "      <td>NaN</td>\n",
              "      <td>NaN</td>\n",
              "      <td>NaN</td>\n",
              "      <td>NaN</td>\n",
              "      <td>NaN</td>\n",
              "      <td>NaN</td>\n",
              "      <td>NaN</td>\n",
              "    </tr>\n",
              "    <tr>\n",
              "      <th>std</th>\n",
              "      <td>NaN</td>\n",
              "      <td>17025.66</td>\n",
              "      <td>17.43</td>\n",
              "      <td>NaN</td>\n",
              "      <td>NaN</td>\n",
              "      <td>NaN</td>\n",
              "      <td>0.18</td>\n",
              "      <td>NaN</td>\n",
              "      <td>NaN</td>\n",
              "      <td>NaN</td>\n",
              "      <td>NaN</td>\n",
              "      <td>NaN</td>\n",
              "      <td>NaN</td>\n",
              "      <td>NaN</td>\n",
              "      <td>NaN</td>\n",
              "      <td>NaN</td>\n",
              "      <td>NaN</td>\n",
              "      <td>NaN</td>\n",
              "      <td>NaN</td>\n",
              "      <td>NaN</td>\n",
              "    </tr>\n",
              "    <tr>\n",
              "      <th>min</th>\n",
              "      <td>NaN</td>\n",
              "      <td>3500105.00</td>\n",
              "      <td>0.00</td>\n",
              "      <td>NaN</td>\n",
              "      <td>NaN</td>\n",
              "      <td>NaN</td>\n",
              "      <td>0.00</td>\n",
              "      <td>NaN</td>\n",
              "      <td>NaN</td>\n",
              "      <td>NaN</td>\n",
              "      <td>NaN</td>\n",
              "      <td>NaN</td>\n",
              "      <td>NaN</td>\n",
              "      <td>NaN</td>\n",
              "      <td>NaN</td>\n",
              "      <td>NaN</td>\n",
              "      <td>NaN</td>\n",
              "      <td>NaN</td>\n",
              "      <td>NaN</td>\n",
              "      <td>NaN</td>\n",
              "    </tr>\n",
              "    <tr>\n",
              "      <th>25%</th>\n",
              "      <td>NaN</td>\n",
              "      <td>3520400.00</td>\n",
              "      <td>29.00</td>\n",
              "      <td>NaN</td>\n",
              "      <td>NaN</td>\n",
              "      <td>NaN</td>\n",
              "      <td>0.00</td>\n",
              "      <td>NaN</td>\n",
              "      <td>NaN</td>\n",
              "      <td>NaN</td>\n",
              "      <td>NaN</td>\n",
              "      <td>NaN</td>\n",
              "      <td>NaN</td>\n",
              "      <td>NaN</td>\n",
              "      <td>NaN</td>\n",
              "      <td>NaN</td>\n",
              "      <td>NaN</td>\n",
              "      <td>NaN</td>\n",
              "      <td>NaN</td>\n",
              "      <td>NaN</td>\n",
              "    </tr>\n",
              "    <tr>\n",
              "      <th>50%</th>\n",
              "      <td>NaN</td>\n",
              "      <td>3544004.00</td>\n",
              "      <td>40.00</td>\n",
              "      <td>NaN</td>\n",
              "      <td>NaN</td>\n",
              "      <td>NaN</td>\n",
              "      <td>0.00</td>\n",
              "      <td>NaN</td>\n",
              "      <td>NaN</td>\n",
              "      <td>NaN</td>\n",
              "      <td>NaN</td>\n",
              "      <td>NaN</td>\n",
              "      <td>NaN</td>\n",
              "      <td>NaN</td>\n",
              "      <td>NaN</td>\n",
              "      <td>NaN</td>\n",
              "      <td>NaN</td>\n",
              "      <td>NaN</td>\n",
              "      <td>NaN</td>\n",
              "      <td>NaN</td>\n",
              "    </tr>\n",
              "    <tr>\n",
              "      <th>75%</th>\n",
              "      <td>NaN</td>\n",
              "      <td>3550308.00</td>\n",
              "      <td>53.00</td>\n",
              "      <td>NaN</td>\n",
              "      <td>NaN</td>\n",
              "      <td>NaN</td>\n",
              "      <td>0.00</td>\n",
              "      <td>NaN</td>\n",
              "      <td>NaN</td>\n",
              "      <td>NaN</td>\n",
              "      <td>NaN</td>\n",
              "      <td>NaN</td>\n",
              "      <td>NaN</td>\n",
              "      <td>NaN</td>\n",
              "      <td>NaN</td>\n",
              "      <td>NaN</td>\n",
              "      <td>NaN</td>\n",
              "      <td>NaN</td>\n",
              "      <td>NaN</td>\n",
              "      <td>NaN</td>\n",
              "    </tr>\n",
              "    <tr>\n",
              "      <th>max</th>\n",
              "      <td>NaN</td>\n",
              "      <td>3599999.00</td>\n",
              "      <td>136.00</td>\n",
              "      <td>NaN</td>\n",
              "      <td>NaN</td>\n",
              "      <td>NaN</td>\n",
              "      <td>1.00</td>\n",
              "      <td>NaN</td>\n",
              "      <td>NaN</td>\n",
              "      <td>NaN</td>\n",
              "      <td>NaN</td>\n",
              "      <td>NaN</td>\n",
              "      <td>NaN</td>\n",
              "      <td>NaN</td>\n",
              "      <td>NaN</td>\n",
              "      <td>NaN</td>\n",
              "      <td>NaN</td>\n",
              "      <td>NaN</td>\n",
              "      <td>NaN</td>\n",
              "      <td>NaN</td>\n",
              "    </tr>\n",
              "  </tbody>\n",
              "</table>\n",
              "</div>\n",
              "      <button class=\"colab-df-convert\" onclick=\"convertToInteractive('df-5331e3ee-6e33-46b4-986c-07784651f0d3')\"\n",
              "              title=\"Convert this dataframe to an interactive table.\"\n",
              "              style=\"display:none;\">\n",
              "        \n",
              "  <svg xmlns=\"http://www.w3.org/2000/svg\" height=\"24px\"viewBox=\"0 0 24 24\"\n",
              "       width=\"24px\">\n",
              "    <path d=\"M0 0h24v24H0V0z\" fill=\"none\"/>\n",
              "    <path d=\"M18.56 5.44l.94 2.06.94-2.06 2.06-.94-2.06-.94-.94-2.06-.94 2.06-2.06.94zm-11 1L8.5 8.5l.94-2.06 2.06-.94-2.06-.94L8.5 2.5l-.94 2.06-2.06.94zm10 10l.94 2.06.94-2.06 2.06-.94-2.06-.94-.94-2.06-.94 2.06-2.06.94z\"/><path d=\"M17.41 7.96l-1.37-1.37c-.4-.4-.92-.59-1.43-.59-.52 0-1.04.2-1.43.59L10.3 9.45l-7.72 7.72c-.78.78-.78 2.05 0 2.83L4 21.41c.39.39.9.59 1.41.59.51 0 1.02-.2 1.41-.59l7.78-7.78 2.81-2.81c.8-.78.8-2.07 0-2.86zM5.41 20L4 18.59l7.72-7.72 1.47 1.35L5.41 20z\"/>\n",
              "  </svg>\n",
              "      </button>\n",
              "      \n",
              "  <style>\n",
              "    .colab-df-container {\n",
              "      display:flex;\n",
              "      flex-wrap:wrap;\n",
              "      gap: 12px;\n",
              "    }\n",
              "\n",
              "    .colab-df-convert {\n",
              "      background-color: #E8F0FE;\n",
              "      border: none;\n",
              "      border-radius: 50%;\n",
              "      cursor: pointer;\n",
              "      display: none;\n",
              "      fill: #1967D2;\n",
              "      height: 32px;\n",
              "      padding: 0 0 0 0;\n",
              "      width: 32px;\n",
              "    }\n",
              "\n",
              "    .colab-df-convert:hover {\n",
              "      background-color: #E2EBFA;\n",
              "      box-shadow: 0px 1px 2px rgba(60, 64, 67, 0.3), 0px 1px 3px 1px rgba(60, 64, 67, 0.15);\n",
              "      fill: #174EA6;\n",
              "    }\n",
              "\n",
              "    [theme=dark] .colab-df-convert {\n",
              "      background-color: #3B4455;\n",
              "      fill: #D2E3FC;\n",
              "    }\n",
              "\n",
              "    [theme=dark] .colab-df-convert:hover {\n",
              "      background-color: #434B5C;\n",
              "      box-shadow: 0px 1px 3px 1px rgba(0, 0, 0, 0.15);\n",
              "      filter: drop-shadow(0px 1px 2px rgba(0, 0, 0, 0.3));\n",
              "      fill: #FFFFFF;\n",
              "    }\n",
              "  </style>\n",
              "\n",
              "      <script>\n",
              "        const buttonEl =\n",
              "          document.querySelector('#df-5331e3ee-6e33-46b4-986c-07784651f0d3 button.colab-df-convert');\n",
              "        buttonEl.style.display =\n",
              "          google.colab.kernel.accessAllowed ? 'block' : 'none';\n",
              "\n",
              "        async function convertToInteractive(key) {\n",
              "          const element = document.querySelector('#df-5331e3ee-6e33-46b4-986c-07784651f0d3');\n",
              "          const dataTable =\n",
              "            await google.colab.kernel.invokeFunction('convertToInteractive',\n",
              "                                                     [key], {});\n",
              "          if (!dataTable) return;\n",
              "\n",
              "          const docLinkHtml = 'Like what you see? Visit the ' +\n",
              "            '<a target=\"_blank\" href=https://colab.research.google.com/notebooks/data_table.ipynb>data table notebook</a>'\n",
              "            + ' to learn more about interactive tables.';\n",
              "          element.innerHTML = '';\n",
              "          dataTable['output_type'] = 'display_data';\n",
              "          await google.colab.output.renderOutput(dataTable, element);\n",
              "          const docLink = document.createElement('div');\n",
              "          docLink.innerHTML = docLinkHtml;\n",
              "          element.appendChild(docLink);\n",
              "        }\n",
              "      </script>\n",
              "    </div>\n",
              "  </div>\n",
              "  "
            ]
          },
          "metadata": {},
          "execution_count": 14
        }
      ]
    },
    {
      "cell_type": "markdown",
      "source": [
        "Informações obtidas através do método describe():\n",
        "\n",
        "* O conjunto tem 1844188 regitros.\n",
        "* Houve mais casos de COVID-19 confirmados na cidade de São Paulo.\n",
        "* As mulheres são a maioria dos casos.\n",
        "* A média de óbitos dá uma indicação de que a maioria das pessoas da amostra não morreram."
      ],
      "metadata": {
        "id": "HN0tRmdAzo3a"
      }
    },
    {
      "cell_type": "markdown",
      "source": [
        "Vou verificar a idade máxima de 136 anos. Com certeza é um erro."
      ],
      "metadata": {
        "id": "4CL5yG-CtNpb"
      }
    },
    {
      "cell_type": "code",
      "source": [
        "df.shape"
      ],
      "metadata": {
        "id": "jyzKleImt3z8",
        "outputId": "1858ddec-4305-4856-9bc9-ff3d21e4ba44",
        "colab": {
          "base_uri": "https://localhost:8080/"
        }
      },
      "execution_count": 15,
      "outputs": [
        {
          "output_type": "execute_result",
          "data": {
            "text/plain": [
              "(1844188, 20)"
            ]
          },
          "metadata": {},
          "execution_count": 15
        }
      ]
    },
    {
      "cell_type": "code",
      "source": [
        "df.loc[df['idade'] == 136]"
      ],
      "metadata": {
        "id": "RQvDt3Z9tUSr",
        "outputId": "46e027d3-6b45-4fc4-802b-bdc29d2fca07",
        "colab": {
          "base_uri": "https://localhost:8080/",
          "height": 162
        }
      },
      "execution_count": 16,
      "outputs": [
        {
          "output_type": "execute_result",
          "data": {
            "text/plain": [
              "        nome_munic  codigo_ibge  idade    cs_sexo diagnostico_covid19  \\\n",
              "3722824    Taubaté      3554102 136.00  MASCULINO          CONFIRMADO   \n",
              "\n",
              "             data_inicio_sintomas  obito      asma cardiopatia  diabetes  \\\n",
              "3722824 2020-03-19 00:00:00+00:00      0  IGNORADO    IGNORADO  IGNORADO   \n",
              "\n",
              "        doenca_hematologica doenca_hepatica doenca_neurologica doenca_renal  \\\n",
              "3722824            IGNORADO        IGNORADO           IGNORADO     IGNORADO   \n",
              "\n",
              "        imunodepressao obesidade outros_fatores_de_risco pneumopatia  \\\n",
              "3722824       IGNORADO  IGNORADO                IGNORADO    IGNORADO   \n",
              "\n",
              "         puerpera sindrome_de_down  \n",
              "3722824  IGNORADO         IGNORADO  "
            ],
            "text/html": [
              "\n",
              "  <div id=\"df-64ee699b-5b18-4b80-a3ee-203d522891a2\">\n",
              "    <div class=\"colab-df-container\">\n",
              "      <div>\n",
              "<style scoped>\n",
              "    .dataframe tbody tr th:only-of-type {\n",
              "        vertical-align: middle;\n",
              "    }\n",
              "\n",
              "    .dataframe tbody tr th {\n",
              "        vertical-align: top;\n",
              "    }\n",
              "\n",
              "    .dataframe thead th {\n",
              "        text-align: right;\n",
              "    }\n",
              "</style>\n",
              "<table border=\"1\" class=\"dataframe\">\n",
              "  <thead>\n",
              "    <tr style=\"text-align: right;\">\n",
              "      <th></th>\n",
              "      <th>nome_munic</th>\n",
              "      <th>codigo_ibge</th>\n",
              "      <th>idade</th>\n",
              "      <th>cs_sexo</th>\n",
              "      <th>diagnostico_covid19</th>\n",
              "      <th>data_inicio_sintomas</th>\n",
              "      <th>obito</th>\n",
              "      <th>asma</th>\n",
              "      <th>cardiopatia</th>\n",
              "      <th>diabetes</th>\n",
              "      <th>doenca_hematologica</th>\n",
              "      <th>doenca_hepatica</th>\n",
              "      <th>doenca_neurologica</th>\n",
              "      <th>doenca_renal</th>\n",
              "      <th>imunodepressao</th>\n",
              "      <th>obesidade</th>\n",
              "      <th>outros_fatores_de_risco</th>\n",
              "      <th>pneumopatia</th>\n",
              "      <th>puerpera</th>\n",
              "      <th>sindrome_de_down</th>\n",
              "    </tr>\n",
              "  </thead>\n",
              "  <tbody>\n",
              "    <tr>\n",
              "      <th>3722824</th>\n",
              "      <td>Taubaté</td>\n",
              "      <td>3554102</td>\n",
              "      <td>136.00</td>\n",
              "      <td>MASCULINO</td>\n",
              "      <td>CONFIRMADO</td>\n",
              "      <td>2020-03-19 00:00:00+00:00</td>\n",
              "      <td>0</td>\n",
              "      <td>IGNORADO</td>\n",
              "      <td>IGNORADO</td>\n",
              "      <td>IGNORADO</td>\n",
              "      <td>IGNORADO</td>\n",
              "      <td>IGNORADO</td>\n",
              "      <td>IGNORADO</td>\n",
              "      <td>IGNORADO</td>\n",
              "      <td>IGNORADO</td>\n",
              "      <td>IGNORADO</td>\n",
              "      <td>IGNORADO</td>\n",
              "      <td>IGNORADO</td>\n",
              "      <td>IGNORADO</td>\n",
              "      <td>IGNORADO</td>\n",
              "    </tr>\n",
              "  </tbody>\n",
              "</table>\n",
              "</div>\n",
              "      <button class=\"colab-df-convert\" onclick=\"convertToInteractive('df-64ee699b-5b18-4b80-a3ee-203d522891a2')\"\n",
              "              title=\"Convert this dataframe to an interactive table.\"\n",
              "              style=\"display:none;\">\n",
              "        \n",
              "  <svg xmlns=\"http://www.w3.org/2000/svg\" height=\"24px\"viewBox=\"0 0 24 24\"\n",
              "       width=\"24px\">\n",
              "    <path d=\"M0 0h24v24H0V0z\" fill=\"none\"/>\n",
              "    <path d=\"M18.56 5.44l.94 2.06.94-2.06 2.06-.94-2.06-.94-.94-2.06-.94 2.06-2.06.94zm-11 1L8.5 8.5l.94-2.06 2.06-.94-2.06-.94L8.5 2.5l-.94 2.06-2.06.94zm10 10l.94 2.06.94-2.06 2.06-.94-2.06-.94-.94-2.06-.94 2.06-2.06.94z\"/><path d=\"M17.41 7.96l-1.37-1.37c-.4-.4-.92-.59-1.43-.59-.52 0-1.04.2-1.43.59L10.3 9.45l-7.72 7.72c-.78.78-.78 2.05 0 2.83L4 21.41c.39.39.9.59 1.41.59.51 0 1.02-.2 1.41-.59l7.78-7.78 2.81-2.81c.8-.78.8-2.07 0-2.86zM5.41 20L4 18.59l7.72-7.72 1.47 1.35L5.41 20z\"/>\n",
              "  </svg>\n",
              "      </button>\n",
              "      \n",
              "  <style>\n",
              "    .colab-df-container {\n",
              "      display:flex;\n",
              "      flex-wrap:wrap;\n",
              "      gap: 12px;\n",
              "    }\n",
              "\n",
              "    .colab-df-convert {\n",
              "      background-color: #E8F0FE;\n",
              "      border: none;\n",
              "      border-radius: 50%;\n",
              "      cursor: pointer;\n",
              "      display: none;\n",
              "      fill: #1967D2;\n",
              "      height: 32px;\n",
              "      padding: 0 0 0 0;\n",
              "      width: 32px;\n",
              "    }\n",
              "\n",
              "    .colab-df-convert:hover {\n",
              "      background-color: #E2EBFA;\n",
              "      box-shadow: 0px 1px 2px rgba(60, 64, 67, 0.3), 0px 1px 3px 1px rgba(60, 64, 67, 0.15);\n",
              "      fill: #174EA6;\n",
              "    }\n",
              "\n",
              "    [theme=dark] .colab-df-convert {\n",
              "      background-color: #3B4455;\n",
              "      fill: #D2E3FC;\n",
              "    }\n",
              "\n",
              "    [theme=dark] .colab-df-convert:hover {\n",
              "      background-color: #434B5C;\n",
              "      box-shadow: 0px 1px 3px 1px rgba(0, 0, 0, 0.15);\n",
              "      filter: drop-shadow(0px 1px 2px rgba(0, 0, 0, 0.3));\n",
              "      fill: #FFFFFF;\n",
              "    }\n",
              "  </style>\n",
              "\n",
              "      <script>\n",
              "        const buttonEl =\n",
              "          document.querySelector('#df-64ee699b-5b18-4b80-a3ee-203d522891a2 button.colab-df-convert');\n",
              "        buttonEl.style.display =\n",
              "          google.colab.kernel.accessAllowed ? 'block' : 'none';\n",
              "\n",
              "        async function convertToInteractive(key) {\n",
              "          const element = document.querySelector('#df-64ee699b-5b18-4b80-a3ee-203d522891a2');\n",
              "          const dataTable =\n",
              "            await google.colab.kernel.invokeFunction('convertToInteractive',\n",
              "                                                     [key], {});\n",
              "          if (!dataTable) return;\n",
              "\n",
              "          const docLinkHtml = 'Like what you see? Visit the ' +\n",
              "            '<a target=\"_blank\" href=https://colab.research.google.com/notebooks/data_table.ipynb>data table notebook</a>'\n",
              "            + ' to learn more about interactive tables.';\n",
              "          element.innerHTML = '';\n",
              "          dataTable['output_type'] = 'display_data';\n",
              "          await google.colab.output.renderOutput(dataTable, element);\n",
              "          const docLink = document.createElement('div');\n",
              "          docLink.innerHTML = docLinkHtml;\n",
              "          element.appendChild(docLink);\n",
              "        }\n",
              "      </script>\n",
              "    </div>\n",
              "  </div>\n",
              "  "
            ]
          },
          "metadata": {},
          "execution_count": 16
        }
      ]
    },
    {
      "cell_type": "markdown",
      "source": [
        "Vou excluir esse dado."
      ],
      "metadata": {
        "id": "GfcSOOEJtoKr"
      }
    },
    {
      "cell_type": "code",
      "source": [
        "indexes = df[ df['idade'] == 136 ].index\n",
        "df.drop(indexes , inplace=True)"
      ],
      "metadata": {
        "id": "QTFevnfEtuvL"
      },
      "execution_count": 17,
      "outputs": []
    },
    {
      "cell_type": "code",
      "source": [
        "df.shape"
      ],
      "metadata": {
        "id": "W_wdfamKtnDe",
        "outputId": "3fafd165-0253-4146-ddbd-24bf25ab7789",
        "colab": {
          "base_uri": "https://localhost:8080/"
        }
      },
      "execution_count": 18,
      "outputs": [
        {
          "output_type": "execute_result",
          "data": {
            "text/plain": [
              "(1844187, 20)"
            ]
          },
          "metadata": {},
          "execution_count": 18
        }
      ]
    },
    {
      "cell_type": "markdown",
      "source": [
        "## Tipo dos dados"
      ],
      "metadata": {
        "id": "8N_xlSVX4Fnr"
      }
    },
    {
      "cell_type": "code",
      "source": [
        "df.info()"
      ],
      "metadata": {
        "colab": {
          "base_uri": "https://localhost:8080/"
        },
        "id": "If1ER9pQ2H42",
        "outputId": "3b2ededc-ad29-49cd-f875-3b243b0cf7c8"
      },
      "execution_count": 19,
      "outputs": [
        {
          "output_type": "stream",
          "name": "stdout",
          "text": [
            "<class 'pandas.core.frame.DataFrame'>\n",
            "Int64Index: 1844187 entries, 13 to 5852907\n",
            "Data columns (total 20 columns):\n",
            " #   Column                   Dtype              \n",
            "---  ------                   -----              \n",
            " 0   nome_munic               object             \n",
            " 1   codigo_ibge              int64              \n",
            " 2   idade                    float64            \n",
            " 3   cs_sexo                  object             \n",
            " 4   diagnostico_covid19      object             \n",
            " 5   data_inicio_sintomas     datetime64[ns, UTC]\n",
            " 6   obito                    int64              \n",
            " 7   asma                     object             \n",
            " 8   cardiopatia              object             \n",
            " 9   diabetes                 object             \n",
            " 10  doenca_hematologica      object             \n",
            " 11  doenca_hepatica          object             \n",
            " 12  doenca_neurologica       object             \n",
            " 13  doenca_renal             object             \n",
            " 14  imunodepressao           object             \n",
            " 15  obesidade                object             \n",
            " 16  outros_fatores_de_risco  object             \n",
            " 17  pneumopatia              object             \n",
            " 18  puerpera                 object             \n",
            " 19  sindrome_de_down         object             \n",
            "dtypes: datetime64[ns, UTC](1), float64(1), int64(2), object(16)\n",
            "memory usage: 295.5+ MB\n"
          ]
        }
      ]
    },
    {
      "cell_type": "markdown",
      "source": [
        "## Dados Nulos"
      ],
      "metadata": {
        "id": "km3KE4CXeYNq"
      }
    },
    {
      "cell_type": "code",
      "source": [
        "msno.bar(df, figsize=(10, 3))"
      ],
      "metadata": {
        "colab": {
          "base_uri": "https://localhost:8080/",
          "height": 431
        },
        "id": "gDnx8gp6e6sY",
        "outputId": "0dfd001f-0c0d-4d0c-c1c5-80515cbca83e"
      },
      "execution_count": 20,
      "outputs": [
        {
          "output_type": "execute_result",
          "data": {
            "text/plain": [
              "<matplotlib.axes._subplots.AxesSubplot at 0x7f3890152510>"
            ]
          },
          "metadata": {},
          "execution_count": 20
        },
        {
          "output_type": "display_data",
          "data": {
            "text/plain": [
              "<Figure size 720x216 with 3 Axes>"
            ],
            "image/png": "[encoded data removed]"
          },
          "metadata": {
            "needs_background": "light"
          }
        }
      ]
    },
    {
      "cell_type": "code",
      "source": [
        "df.isnull().sum()"
      ],
      "metadata": {
        "colab": {
          "base_uri": "https://localhost:8080/"
        },
        "id": "aNl-YXTYecQ5",
        "outputId": "60a7fd1d-80e0-4e05-d0f3-d893c57c082a"
      },
      "execution_count": 21,
      "outputs": [
        {
          "output_type": "execute_result",
          "data": {
            "text/plain": [
              "nome_munic                    0\n",
              "codigo_ibge                   0\n",
              "idade                      1165\n",
              "cs_sexo                       0\n",
              "diagnostico_covid19           0\n",
              "data_inicio_sintomas          0\n",
              "obito                         0\n",
              "asma                          0\n",
              "cardiopatia                   0\n",
              "diabetes                      0\n",
              "doenca_hematologica           0\n",
              "doenca_hepatica               0\n",
              "doenca_neurologica            0\n",
              "doenca_renal                  0\n",
              "imunodepressao                0\n",
              "obesidade                     0\n",
              "outros_fatores_de_risco       0\n",
              "pneumopatia                   0\n",
              "puerpera                      0\n",
              "sindrome_de_down              0\n",
              "dtype: int64"
            ]
          },
          "metadata": {},
          "execution_count": 21
        }
      ]
    },
    {
      "cell_type": "markdown",
      "source": [
        "Verificamos que há dados de idades faltantes. Verificando se podemos excluir esses dados:"
      ],
      "metadata": {
        "id": "58EEMhjDfQXu"
      }
    },
    {
      "cell_type": "code",
      "source": [
        "total_nulos = df['idade'].isnull().sum()\n",
        "total_registros = df.shape[0]\n",
        "porcentagem = (total_nulos/total_registros) * 100\n",
        "print(f'{porcentagem}%')"
      ],
      "metadata": {
        "colab": {
          "base_uri": "https://localhost:8080/"
        },
        "id": "BYZrkoxWfd-T",
        "outputId": "5e942ca8-d937-425b-90ec-d55b756bbfad"
      },
      "execution_count": 22,
      "outputs": [
        {
          "output_type": "stream",
          "name": "stdout",
          "text": [
            "0.06317146796935452%\n"
          ]
        }
      ]
    },
    {
      "cell_type": "markdown",
      "source": [
        "Como os dados nulos representam apenas 0.063%, vou excluí-los."
      ],
      "metadata": {
        "id": "u8qbivkafrNf"
      }
    },
    {
      "cell_type": "code",
      "source": [
        "df.shape"
      ],
      "metadata": {
        "colab": {
          "base_uri": "https://localhost:8080/"
        },
        "id": "33PLBhhdf9tg",
        "outputId": "274b406e-6ed8-4f62-85c9-913deb7cf5b3"
      },
      "execution_count": 23,
      "outputs": [
        {
          "output_type": "execute_result",
          "data": {
            "text/plain": [
              "(1844187, 20)"
            ]
          },
          "metadata": {},
          "execution_count": 23
        }
      ]
    },
    {
      "cell_type": "code",
      "source": [
        "df.dropna(inplace=True)"
      ],
      "metadata": {
        "id": "ebqwZcp7fpvJ"
      },
      "execution_count": 24,
      "outputs": []
    },
    {
      "cell_type": "code",
      "source": [
        "df.shape"
      ],
      "metadata": {
        "colab": {
          "base_uri": "https://localhost:8080/"
        },
        "id": "TTkZ8k-WgDAy",
        "outputId": "9621527a-68e2-4150-ec78-8be4a7745b7b"
      },
      "execution_count": 25,
      "outputs": [
        {
          "output_type": "execute_result",
          "data": {
            "text/plain": [
              "(1843022, 20)"
            ]
          },
          "metadata": {},
          "execution_count": 25
        }
      ]
    },
    {
      "cell_type": "markdown",
      "source": [
        "## Idade"
      ],
      "metadata": {
        "id": "kx2NHaNDhXl-"
      }
    },
    {
      "cell_type": "markdown",
      "source": [
        "### Visualização da feature idade"
      ],
      "metadata": {
        "id": "cWHyIrEaEx8i"
      }
    },
    {
      "cell_type": "code",
      "source": [
        "%%time\n",
        "\n",
        "fig, axes = plt.subplots(4, 1, figsize = (20,20))\n",
        "fig.subplots_adjust(hspace=0.5, wspace=0.125)\n",
        "fig.suptitle('Distribuição da feature idade')\n",
        "\n",
        "#Idade\n",
        "sns.histplot(ax=axes[0],x=df['idade'], kde=True, bins=50)\n",
        "axes[0].tick_params(axis='x', rotation=90)\n",
        "axes[0].set(xlabel='Idades\\n Média: ' + str(df['idade'].mean()) + ' Mediana: ' + str(df['idade'].median()) + '\\nAssimetria: ' + str(df.idade.skew()), ylabel='Frequência')\n",
        "\n",
        "#Idade - Boxplot\n",
        "sns.boxplot(ax=axes[1],x=df['idade'])\n",
        "axes[1].tick_params(axis='x', rotation=90)\n",
        "axes[1].set(xlabel='Idades no geral\\n Média: ' + str(df['idade'].mean()) + '; Mediana: ' + str(df['idade'].median()))\n",
        "\n",
        "#Idade - Boxplot\n",
        "sns.boxplot(ax=axes[2],x=df['obito'], y=df['idade'])\n",
        "axes[2].tick_params(axis='x', rotation=90)\n",
        "axes[2].set(xlabel='Idades por Sobrevivência\\n Mediana de sobreviventes: ' + str(df.loc[df['obito'] == 0]['idade'].median()) + '\\n Mediana de óbitos: ' + str(df.loc[df['obito'] == 1]['idade'].median()))\n",
        "\n",
        "#Idade vs Óbito\n",
        "sns.scatterplot(ax=axes[3], data=df, x=\"obito\", y=\"idade\", hue=\"obito\")\n",
        "\n",
        "plt.show();"
      ],
      "metadata": {
        "id": "M5wVF4Qs4Ih8",
        "colab": {
          "base_uri": "https://localhost:8080/",
          "height": 1000
        },
        "outputId": "cc78f021-0298-4c82-80a3-fb60f76e9eea"
      },
      "execution_count": 26,
      "outputs": [
        {
          "output_type": "display_data",
          "data": {
            "text/plain": [
              "<Figure size 1440x1440 with 4 Axes>"
            ],
            "image/png": "[encoded data removed]"
          },
          "metadata": {
            "needs_background": "light"
          }
        },
        {
          "output_type": "stream",
          "name": "stdout",
          "text": [
            "CPU times: user 51.7 s, sys: 4.06 s, total: 55.7 s\n",
            "Wall time: 53.9 s\n"
          ]
        }
      ]
    },
    {
      "cell_type": "markdown",
      "source": [
        "* Há outliers acima de 90 anos muito estranhos."
      ],
      "metadata": {
        "id": "-jjouSrqHu5n"
      }
    },
    {
      "cell_type": "markdown",
      "source": [
        "Como há outliers acima de 90 anos, vou verificar se posso considerar somente dados abaixo ou igual à 90 anos."
      ],
      "metadata": {
        "id": "0yqU-QcHwhiN"
      }
    },
    {
      "cell_type": "code",
      "source": [
        "total_casos_maior_90 = df[ df['idade'] > 90].shape[0]\n",
        "total_registros = df.shape[0]\n",
        "porcentagem = (total_casos_maior_90/total_registros) * 100\n",
        "print(f'{porcentagem}%')"
      ],
      "metadata": {
        "id": "fi5d4CtNw1kE",
        "outputId": "b01ae468-ec9f-42ed-b0b7-fea86fa31f30",
        "colab": {
          "base_uri": "https://localhost:8080/"
        }
      },
      "execution_count": 27,
      "outputs": [
        {
          "output_type": "stream",
          "name": "stdout",
          "text": [
            "0.38143874571220526%\n"
          ]
        }
      ]
    },
    {
      "cell_type": "markdown",
      "source": [
        "Como representam apenas 0.38% dos dados, vou excluir registros com mais de 90 anos."
      ],
      "metadata": {
        "id": "Cp07LLf6xgcV"
      }
    },
    {
      "cell_type": "code",
      "source": [
        "df.shape"
      ],
      "metadata": {
        "id": "Rj5pU02exs5e",
        "outputId": "03577121-6f15-4a5e-9a0b-e155142d4833",
        "colab": {
          "base_uri": "https://localhost:8080/"
        }
      },
      "execution_count": 28,
      "outputs": [
        {
          "output_type": "execute_result",
          "data": {
            "text/plain": [
              "(1843022, 20)"
            ]
          },
          "metadata": {},
          "execution_count": 28
        }
      ]
    },
    {
      "cell_type": "code",
      "source": [
        "indexes2 = df[ df['idade'] > 90].index\n",
        "df.drop(indexes2 , inplace=True)"
      ],
      "metadata": {
        "id": "9OgdzI6wxnGN"
      },
      "execution_count": 29,
      "outputs": []
    },
    {
      "cell_type": "code",
      "source": [
        "df.shape"
      ],
      "metadata": {
        "id": "D46d9v1pxx_n",
        "outputId": "3a16824e-dff1-4bcf-e5d5-5c89ea8ebee8",
        "colab": {
          "base_uri": "https://localhost:8080/"
        }
      },
      "execution_count": 30,
      "outputs": [
        {
          "output_type": "execute_result",
          "data": {
            "text/plain": [
              "(1835992, 20)"
            ]
          },
          "metadata": {},
          "execution_count": 30
        }
      ]
    },
    {
      "cell_type": "markdown",
      "source": [
        "Refazendo os gráficos:"
      ],
      "metadata": {
        "id": "Ktl9x3j5yEbb"
      }
    },
    {
      "cell_type": "code",
      "source": [
        "%%time\n",
        "stat1,p1 = stats.shapiro(df['idade'].to_numpy())\n",
        "\n",
        "fig, axes = plt.subplots(4, 1, figsize = (20,20))\n",
        "fig.subplots_adjust(hspace=0.5, wspace=0.125)\n",
        "fig.suptitle('Distribuição da feature idade')\n",
        "\n",
        "#Idade\n",
        "sns.histplot(ax=axes[0],x=df['idade'], kde=True)\n",
        "axes[0].tick_params(axis='x', rotation=90)\n",
        "axes[0].set(xlabel='Idades\\n Média: ' + str(df['idade'].mean()) + ' Mediana: ' + str(df['idade'].median()) + '\\nTeste de Shapiro (p-valor): ' \n",
        "            + str(p1) + '\\nEstatística de teste: ' + str(stat1) + '\\nAssimetria: ' + str(df.idade.skew()), ylabel='Frequência')\n",
        "\n",
        "#Idade - Boxplot\n",
        "sns.boxplot(ax=axes[1],x=df['idade'])\n",
        "axes[1].tick_params(axis='x', rotation=90)\n",
        "axes[1].set(xlabel='Idades no geral\\n Média: ' + str(df['idade'].mean()) + '; Mediana: ' + str(df['idade'].median()))\n",
        "\n",
        "#Idade - Boxplot\n",
        "sns.boxplot(ax=axes[2],x=df['obito'], y=df['idade'])\n",
        "axes[2].tick_params(axis='x', rotation=90)\n",
        "axes[2].set(xlabel='Idades por Sobrevivência\\n Mediana de sobreviventes: ' + str(df.loc[df['obito'] == 0]['idade'].median()) + '\\n Mediana de óbitos: ' + str(df.loc[df['obito'] == 1]['idade'].median()))\n",
        "\n",
        "#Idade vs Óbito\n",
        "sns.scatterplot(ax=axes[3], data=df, x=\"obito\", y=\"idade\", hue=\"obito\")\n",
        "\n",
        "plt.show();"
      ],
      "metadata": {
        "id": "-SltqdXEyHhb",
        "outputId": "b2db55bc-9351-4cfc-82a2-02a25ff68d1a",
        "colab": {
          "base_uri": "https://localhost:8080/",
          "height": 1000
        }
      },
      "execution_count": 31,
      "outputs": [
        {
          "output_type": "display_data",
          "data": {
            "text/plain": [
              "<Figure size 1440x1440 with 4 Axes>"
            ],
            "image/png": "[encoded data removed]"
          },
          "metadata": {
            "needs_background": "light"
          }
        },
        {
          "output_type": "stream",
          "name": "stdout",
          "text": [
            "CPU times: user 49.8 s, sys: 3.98 s, total: 53.8 s\n",
            "Wall time: 50 s\n"
          ]
        }
      ]
    },
    {
      "cell_type": "markdown",
      "source": [
        "* A média das idades no geral é de aproximadamente 41 anos e a mediana é 40.\n",
        "* O teste de Shapiro-Wilk indica que a distribuição não é normal, pois p-value < 0.5.\n",
        "* A assimetria positiva indica que existe uma concentração levemente maior de valores na zona de idades mais baixas da amostra.\n",
        "* Os boxplots indicam que o grupo de sobreviventes tem mediana de 39 anos, e o grupo de óbitos tem mediana de 70 anos, o que indica mortalidade maior em pessoas com maior idade.\n",
        "* A dispersão dos dados indicam que os dados tem pouca variabilidade, tanto no grupos de sobreviventes quanto no de óbitos."
      ],
      "metadata": {
        "id": "YV5qmSMg7z-a"
      }
    },
    {
      "cell_type": "markdown",
      "source": [
        "### Teste de hipótese sobre a relação de idade e óbito"
      ],
      "metadata": {
        "id": "n9flUkZJhpEV"
      }
    },
    {
      "cell_type": "markdown",
      "source": [
        "Como visto anteriormente, a feature idade tem distribuição normal."
      ],
      "metadata": {
        "id": "VbFNNvIrh6pl"
      }
    },
    {
      "cell_type": "code",
      "source": [
        "stat2,p2 = stats.shapiro(df['idade'].to_numpy())"
      ],
      "metadata": {
        "id": "DF9Bx-xb9XNs"
      },
      "execution_count": 32,
      "outputs": []
    },
    {
      "cell_type": "code",
      "source": [
        "print(f'Estatística de teste: {stat2}')\n",
        "print(f'P-value: {p2}')"
      ],
      "metadata": {
        "colab": {
          "base_uri": "https://localhost:8080/"
        },
        "id": "6GIg4AMZA6Ku",
        "outputId": "4add3913-97bd-4a44-ce2e-382b6d3f338a"
      },
      "execution_count": 33,
      "outputs": [
        {
          "output_type": "stream",
          "name": "stdout",
          "text": [
            "Estatística de teste: 0.9882585406303406\n",
            "P-value: 0.0\n"
          ]
        }
      ]
    },
    {
      "cell_type": "markdown",
      "source": [
        "Por isso, vou tentar normalizar utilizando logarítmo."
      ],
      "metadata": {
        "id": "Nbt-JNz8h0mh"
      }
    },
    {
      "cell_type": "code",
      "source": [
        "def aplica_log(df):\n",
        "  '''Aplica logarítmo no dado'''\n",
        "  if df['idade'] == 0:\n",
        "    return 0\n",
        "  if df['idade'] > 0:\n",
        "    return np.log(df['idade'])"
      ],
      "metadata": {
        "id": "5T8xJlYeiTBI"
      },
      "execution_count": 34,
      "outputs": []
    },
    {
      "cell_type": "code",
      "source": [
        "df['log_idade'] = df.apply(aplica_log, axis=1)"
      ],
      "metadata": {
        "id": "NVmzb4IreS-o"
      },
      "execution_count": 35,
      "outputs": []
    },
    {
      "cell_type": "code",
      "source": [
        "\n",
        "df['log_idade'].plot.hist()"
      ],
      "metadata": {
        "colab": {
          "base_uri": "https://localhost:8080/",
          "height": 282
        },
        "id": "QFOsfXMLj-5r",
        "outputId": "8a55609c-7e28-4111-ac2a-33fd8e4d8ecf"
      },
      "execution_count": 36,
      "outputs": [
        {
          "output_type": "execute_result",
          "data": {
            "text/plain": [
              "<matplotlib.axes._subplots.AxesSubplot at 0x7f3890527b50>"
            ]
          },
          "metadata": {},
          "execution_count": 36
        },
        {
          "output_type": "display_data",
          "data": {
            "text/plain": [
              "<Figure size 432x288 with 1 Axes>"
            ],
            "image/png": "[encoded data removed]"
          },
          "metadata": {
            "needs_background": "light"
          }
        }
      ]
    },
    {
      "cell_type": "markdown",
      "source": [
        "Testando a normalidade novamente:"
      ],
      "metadata": {
        "id": "VIJgKBq_i7LY"
      }
    },
    {
      "cell_type": "code",
      "source": [
        "stat3, p3 = stats.shapiro(df['log_idade'])\n",
        "print('O valor da estatística de Shapiro-Wilk = ' + str(stat3))\n",
        "print('O valor de p de Shapiro-Wilk = ' + str(p3))"
      ],
      "metadata": {
        "colab": {
          "base_uri": "https://localhost:8080/"
        },
        "id": "zzKCz1BriMiv",
        "outputId": "ed3d1947-4f03-43bf-9d55-a2482c4867e8"
      },
      "execution_count": 37,
      "outputs": [
        {
          "output_type": "stream",
          "name": "stdout",
          "text": [
            "O valor da estatística de Shapiro-Wilk = 0.821019172668457\n",
            "O valor de p de Shapiro-Wilk = 0.0\n"
          ]
        }
      ]
    },
    {
      "cell_type": "markdown",
      "source": [
        "Continua não sendo normal. Vamos testar a raiz quadrada:"
      ],
      "metadata": {
        "id": "MHiTnH12zCM3"
      }
    },
    {
      "cell_type": "code",
      "source": [
        "def aplica_rq(df):\n",
        "  '''Aplica raiz quadrada no dado'''\n",
        "  return np.sqrt(df['idade'])"
      ],
      "metadata": {
        "id": "mDZd3XpQxIU9"
      },
      "execution_count": 51,
      "outputs": []
    },
    {
      "cell_type": "code",
      "source": [
        "df['sqrt_idade'] = df.apply(aplica_rq, axis=1)"
      ],
      "metadata": {
        "id": "vfY3IgSEzebE"
      },
      "execution_count": 52,
      "outputs": []
    },
    {
      "cell_type": "code",
      "source": [
        "df['sqrt_idade'].plot.hist()"
      ],
      "metadata": {
        "colab": {
          "base_uri": "https://localhost:8080/",
          "height": 282
        },
        "id": "2Ck4z_5DzjNe",
        "outputId": "f3d6c704-3645-4570-ed0f-19e41cbafc65"
      },
      "execution_count": 53,
      "outputs": [
        {
          "output_type": "execute_result",
          "data": {
            "text/plain": [
              "<matplotlib.axes._subplots.AxesSubplot at 0x7f386c0f8590>"
            ]
          },
          "metadata": {},
          "execution_count": 53
        },
        {
          "output_type": "display_data",
          "data": {
            "text/plain": [
              "<Figure size 432x288 with 1 Axes>"
            ],
            "image/png": "[encoded data removed]"
          },
          "metadata": {
            "needs_background": "light"
          }
        }
      ]
    },
    {
      "cell_type": "markdown",
      "source": [
        "Testando a normalidade:"
      ],
      "metadata": {
        "id": "uA2Jb7JSzqDa"
      }
    },
    {
      "cell_type": "code",
      "source": [
        "stat4, p4 = stats.shapiro(df['sqrt_idade'])\n",
        "print('O valor da estatística de Shapiro-Wilk = ' + str(stat4))\n",
        "print('O valor de p de Shapiro-Wilk = ' + str(p4))"
      ],
      "metadata": {
        "colab": {
          "base_uri": "https://localhost:8080/"
        },
        "id": "wcKnkTRszmQp",
        "outputId": "3b3309d8-87d9-4097-9486-1c37e2c9f16e"
      },
      "execution_count": 54,
      "outputs": [
        {
          "output_type": "stream",
          "name": "stdout",
          "text": [
            "O valor da estatística de Shapiro-Wilk = 0.9791151881217957\n",
            "O valor de p de Shapiro-Wilk = 0.0\n"
          ]
        }
      ]
    },
    {
      "cell_type": "markdown",
      "source": [
        "Ainda não, testando com raiz cúbica:"
      ],
      "metadata": {
        "id": "HcWW5Fbu3a1w"
      }
    },
    {
      "cell_type": "code",
      "source": [
        "def aplica_rc(df):\n",
        "  '''Aplica raiz quadrada no dado'''\n",
        "  return np.cbrt(df['idade'])"
      ],
      "metadata": {
        "id": "HsT_0lIZ3fBH"
      },
      "execution_count": 55,
      "outputs": []
    },
    {
      "cell_type": "code",
      "source": [
        "df['cbrt_idade'] = df.apply(aplica_rc, axis=1)"
      ],
      "metadata": {
        "id": "SE7tdejH3jyg"
      },
      "execution_count": 56,
      "outputs": []
    },
    {
      "cell_type": "code",
      "source": [
        "df['cbrt_idade'].plot.hist()"
      ],
      "metadata": {
        "id": "8p-qR8Zf3pL6",
        "outputId": "c5a0fb08-cff7-4620-89b9-b0e6f120c691",
        "colab": {
          "base_uri": "https://localhost:8080/",
          "height": 285
        }
      },
      "execution_count": 57,
      "outputs": [
        {
          "output_type": "execute_result",
          "data": {
            "text/plain": [
              "<matplotlib.axes._subplots.AxesSubplot at 0x7f386ca0b2d0>"
            ]
          },
          "metadata": {},
          "execution_count": 57
        },
        {
          "output_type": "display_data",
          "data": {
            "text/plain": [
              "<Figure size 432x288 with 1 Axes>"
            ],
            "image/png": "[encoded data removed]"
          },
          "metadata": {
            "needs_background": "light"
          }
        }
      ]
    },
    {
      "cell_type": "markdown",
      "source": [
        "Testando a noralidade:"
      ],
      "metadata": {
        "id": "O2BnZs-93urq"
      }
    },
    {
      "cell_type": "code",
      "source": [
        "stat5, p5 = stats.shapiro(df['cbrt_idade'])\n",
        "print('O valor da estatística de Shapiro-Wilk = ' + str(stat5))\n",
        "print('O valor de p de Shapiro-Wilk = ' + str(p5))"
      ],
      "metadata": {
        "id": "QRYkaBlO3sV0",
        "outputId": "0242557d-5bc0-4ab9-d101-1fd86463742c",
        "colab": {
          "base_uri": "https://localhost:8080/"
        }
      },
      "execution_count": 58,
      "outputs": [
        {
          "output_type": "stream",
          "name": "stdout",
          "text": [
            "O valor da estatística de Shapiro-Wilk = 0.9305524826049805\n",
            "O valor de p de Shapiro-Wilk = 0.0\n"
          ]
        }
      ]
    }
  ]
}