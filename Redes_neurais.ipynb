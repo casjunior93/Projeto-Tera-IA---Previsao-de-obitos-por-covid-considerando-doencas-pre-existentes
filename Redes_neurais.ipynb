{
  "nbformat": 4,
  "nbformat_minor": 0,
  "metadata": {
    "colab": {
      "provenance": [],
      "collapsed_sections": [],
      "authorship_tag": "ABX9TyMvWde/eQooAcg8OFc7ZYEs",
      "include_colab_link": true
    },
    "kernelspec": {
      "name": "python3",
      "display_name": "Python 3"
    },
    "language_info": {
      "name": "python"
    }
  },
  "cells": [
    {
      "cell_type": "markdown",
      "metadata": {
        "id": "view-in-github",
        "colab_type": "text"
      },
      "source": [
        "<a href=\"https://colab.research.google.com/github/casjunior93/Projeto-Tera-IA---Previsao-de-obitos-por-covid-considerando-doencas-pre-existentes/blob/main/Estudo_dos_dados_brutos_sobre_Covid_19_no_Estado_de_SP.ipynb\" target=\"_parent\"><img src=\"https://colab.research.google.com/assets/colab-badge.svg\" alt=\"Open In Colab\"/></a>"
      ]
    },
    {
      "cell_type": "markdown",
      "source": [
        "Habilitando o acesso ao Google Drive no Colab."
      ],
      "metadata": {
        "id": "Nmh82hbX_HFq"
      }
    },
    {
      "cell_type": "code",
      "source": [
        "from google.colab import drive\n",
        "drive.mount('/content/drive')"
      ],
      "metadata": {
        "colab": {
          "base_uri": "https://localhost:8080/"
        },
        "id": "JcRGzXey3iEO",
        "outputId": "33e9295d-4a25-4504-e378-6ea69a3d4b1a"
      },
      "execution_count": 1,
      "outputs": [
        {
          "output_type": "stream",
          "name": "stdout",
          "text": [
            "Drive already mounted at /content/drive; to attempt to forcibly remount, call drive.mount(\"/content/drive\", force_remount=True).\n"
          ]
        }
      ]
    },
    {
      "cell_type": "markdown",
      "source": [
        "Versão mais nova do matplotlib"
      ],
      "metadata": {
        "id": "r8Q172Q_Un56"
      }
    },
    {
      "cell_type": "code",
      "source": [
        "!pip install -U matplotlib --prefer-binary\n",
        "import matplotlib\n",
        "matplotlib.__version__"
      ],
      "metadata": {
        "id": "jsGVpDHEUnAd",
        "outputId": "5d815e4c-4761-4478-d739-7a032c9c4a78",
        "colab": {
          "base_uri": "https://localhost:8080/",
          "height": 244
        }
      },
      "execution_count": 2,
      "outputs": [
        {
          "output_type": "stream",
          "name": "stdout",
          "text": [
            "Looking in indexes: https://pypi.org/simple, https://us-python.pkg.dev/colab-wheels/public/simple/\n",
            "Requirement already satisfied: matplotlib in /usr/local/lib/python3.7/dist-packages (3.5.3)\n",
            "Requirement already satisfied: fonttools>=4.22.0 in /usr/local/lib/python3.7/dist-packages (from matplotlib) (4.37.4)\n",
            "Requirement already satisfied: numpy>=1.17 in /usr/local/lib/python3.7/dist-packages (from matplotlib) (1.21.6)\n",
            "Requirement already satisfied: cycler>=0.10 in /usr/local/lib/python3.7/dist-packages (from matplotlib) (0.11.0)\n",
            "Requirement already satisfied: packaging>=20.0 in /usr/local/lib/python3.7/dist-packages (from matplotlib) (21.3)\n",
            "Requirement already satisfied: python-dateutil>=2.7 in /usr/local/lib/python3.7/dist-packages (from matplotlib) (2.8.2)\n",
            "Requirement already satisfied: kiwisolver>=1.0.1 in /usr/local/lib/python3.7/dist-packages (from matplotlib) (1.4.4)\n",
            "Requirement already satisfied: pillow>=6.2.0 in /usr/local/lib/python3.7/dist-packages (from matplotlib) (7.1.2)\n",
            "Requirement already satisfied: pyparsing>=2.2.1 in /usr/local/lib/python3.7/dist-packages (from matplotlib) (3.0.9)\n",
            "Requirement already satisfied: typing-extensions in /usr/local/lib/python3.7/dist-packages (from kiwisolver>=1.0.1->matplotlib) (4.1.1)\n",
            "Requirement already satisfied: six>=1.5 in /usr/local/lib/python3.7/dist-packages (from python-dateutil>=2.7->matplotlib) (1.15.0)\n"
          ]
        },
        {
          "output_type": "execute_result",
          "data": {
            "text/plain": [
              "'3.5.3'"
            ],
            "application/vnd.google.colaboratory.intrinsic+json": {
              "type": "string"
            }
          },
          "metadata": {},
          "execution_count": 2
        }
      ]
    },
    {
      "cell_type": "markdown",
      "source": [
        "# Bibliotecas fundamentais"
      ],
      "metadata": {
        "id": "Kf61C8dy_BTS"
      }
    },
    {
      "cell_type": "code",
      "source": [
        "import numpy as np\n",
        "import pandas as pd\n",
        "import seaborn as sns\n",
        "import matplotlib.pyplot as plt\n",
        "import scipy.stats as stats\n",
        "import os \n",
        "import missingno as msno\n",
        "\n",
        "#Não exibir avisos de atenção\n",
        "import warnings\n",
        "warnings.filterwarnings('ignore')\n",
        "\n",
        "#Configura o pandas para não exibir resultados em notação científica\n",
        "pd.options.display.float_format = '{:.5f}'.format"
      ],
      "metadata": {
        "id": "cCZGdIar32a-"
      },
      "execution_count": 3,
      "outputs": []
    },
    {
      "cell_type": "markdown",
      "source": [
        "# 1 Obter os dados"
      ],
      "metadata": {
        "id": "YhfU4qNh9ojM"
      }
    },
    {
      "cell_type": "markdown",
      "source": [
        "Os dados utilizados são referentes à população do estado de São Paulo e serão obtidos através da página [do site](https://www.seade.gov.br/coronavirus/) da Fundação SEADE - Sistema Estadual de Análise de Dados. Eles foram obtidos no dia 13 de outubro de 2022 e apresentam dados recolhidos de 04 de fevereiro de 2020 até o dia 13 de outubro de 2022."
      ],
      "metadata": {
        "id": "OFlnA_na9w5K"
      }
    },
    {
      "cell_type": "markdown",
      "source": [
        "## 1.1 Dados de doenças pré-existentes\n",
        "\n",
        "Dicionário: https://github.com/seade-R/dados-covid-sp#dicion%C3%A1rio-para-o-arquivo-de-casos-%C3%B3bitos-e-doen%C3%A7as-pr%C3%A9-existentes\n",
        "\n",
        "Dados: https://raw.githubusercontent.com/seade-R/dados-covid-sp/master/data/casos_obitos_doencas_preexistentes.csv.zip\n",
        "\n",
        "`codigo_ibge`\tCódigo do município no IBGE (7 dígitos) de residência do paciente\n",
        "\n",
        "`nome_munic`\tNome do município de residência do paciente\n",
        "\n",
        "`idade`\tIdade do paciente\n",
        "\n",
        "`cs_sexo`\tSexo do paciente\n",
        "\n",
        "`diagnostico_covid19`\tConfirmação de COVID-19\n",
        "\n",
        "`data_inicio_sintomas`\tData de início dos sintomas\n",
        "\n",
        "`obito`\tIndica se o paciente veio a óbito por COVID-19\n",
        "\n",
        "`asma`\tPaciente apresenta esse fator de risco (asma)\n",
        "\n",
        "`cardiopatia`\tPaciente apresenta esse fator de risco (cardiopatia)\n",
        "\n",
        "`diabetes`\tPaciente apresenta esse fator de risco (diabetes)\n",
        "\n",
        "`doenca_hematologica`\tPaciente apresenta esse fator de risco (doença hematológica)\n",
        "\n",
        "`doenca_hepatica`\tPaciente apresenta esse fator de risco (doença hepática)\n",
        "\n",
        "`doenca_neurologica`\tPaciente apresenta esse fator de risco (doença neurológica)\n",
        "\n",
        "`doenca_renal`\tPaciente apresenta esse fator de risco (doença renal)\n",
        "\n",
        "`imunodepressao`\tPaciente apresenta esse fator de risco (imunodepressão)\n",
        "\n",
        "`obesidade`\tPaciente apresenta esse fator de risco (obesidade)\n",
        "\n",
        "`outros_fatores_de_risco`\tPaciente apresenta outros fatores de risco\n",
        "\n",
        "`pneumopatia`\tPaciente apresenta esse fator de risco (pneumopatia)\n",
        "\n",
        "`puerpera`\tPaciente se encontra nesse estágio (puérpera)\n",
        "\n",
        "`sindrome_de_down`\tPaciente apresenta esse fator de risco (síndrome de down)"
      ],
      "metadata": {
        "id": "L0wP5kmH9109"
      }
    },
    {
      "cell_type": "markdown",
      "source": [
        "## 1.2 Dados de doenças pré-existentes com cor e raça\n",
        "\n",
        "Dicionário: https://github.com/seade-R/dados-covid-sp#casos-%C3%B3bitos-por-ra%C3%A7acor-e-munic%C3%ADpio-1\n",
        "\n",
        "Dados: https://raw.githubusercontent.com/seade-R/dados-covid-sp/master/data/casos_obitos_raca_cor.csv.zip\n",
        "\n",
        "`codigo_ibge`\tCódigo do município no IBGE (7 dígitos) de residência do paciente\n",
        "\n",
        "`nome_munic`\tNome do município de residência do paciente\n",
        "\n",
        "`idade`\tIdade do paciente\n",
        "\n",
        "`nome_drs`\tNome do Dpto. Regional de Saúde de residência do paciente\n",
        "\n",
        "`raca_cor`\tCor ou raça do paciente\n",
        "\n",
        "`cs_sexo`\tSexo do paciente\n",
        "\n",
        "`diagnostico_covid19`\tConfirmação de COVID-19\n",
        "\n",
        "`data_inicio_sintomas`\tData de início dos sintomas\n",
        "\n",
        "`obito`\tIndica se o paciente veio a óbito por COVID-19\n",
        "\n",
        "`asma`\tPaciente apresenta esse fator de risco (asma)\n",
        "\n",
        "`cardiopatia`\tPaciente apresenta esse fator de risco (cardiopatia)\n",
        "\n",
        "`diabetes`\tPaciente apresenta esse fator de risco (diabetes)\n",
        "\n",
        "`doenca_hematologica`\tPaciente apresenta esse fator de risco (doença hematológica)\n",
        "\n",
        "`doenca_hepatica`\tPaciente apresenta esse fator de risco (doença hepática)\n",
        "\n",
        "`doenca_neurologica`\tPaciente apresenta esse fator de risco (doença neurológica)\n",
        "\n",
        "`doenca_renal`\tPaciente apresenta esse fator de risco (doença renal)\n",
        "\n",
        "`imunodepressao`\tPaciente apresenta esse fator de risco (imunodepressão)\n",
        "\n",
        "`obesidade`\tPaciente apresenta esse fator de risco (obesidade)\n",
        "\n",
        "`outros_fatores_de_risco`\tPaciente apresenta outros fatores de risco\n",
        "\n",
        "`pneumopatia`\tPaciente apresenta esse fator de risco (pneumopatia)\n",
        "\n",
        "`puerpera`\tPaciente se encontra nesse estágio (puérpera)\n",
        "\n",
        "`sindrome_de_down`\tPaciente apresenta esse fator de risco (síndrome de down)"
      ],
      "metadata": {
        "id": "hN0N0xflUzyr"
      }
    },
    {
      "cell_type": "markdown",
      "source": [
        "## 1.3 Casos e óbitos de Covid-19 em São Paulo\n",
        "\n",
        "Dicionário: https://github.com/seade-R/dados-covid-sp#dicion%C3%A1rio-para-o-arquivo-de-casos-e-%C3%B3bitos\n",
        "\n",
        "Dados: https://raw.githubusercontent.com/seade-R/dados-covid-sp/master/data/dados_covid_sp.csv\n",
        "\n",
        "`codigo_ibge`\tCódigo do município no IBGE (7 dígitos) de residência do paciente\n",
        "\n",
        "`nome_munic`\tNome do município de residência do paciente\n",
        "\n",
        "`datahora`  Data no formato YYYY-MM-DD\n",
        "\n",
        "`casos`  Casos totais registrados até a data\n",
        "\n",
        "`casos_novos` Casos novos registrados na data\n",
        "\n",
        "`casos_pc`  Casos totais por 100 mil habitantes\n",
        "\n",
        "`casos_mm7d` Média móvel dos últimos 7 dias dos novos casos\n",
        "\n",
        "`obitos`  Óbitos totais registrados até a data\n",
        "\n",
        "`obitos_novos`  Óbitos novos registrados na data\n",
        "\n",
        "`obitos_pc`  Óbitos totais por 100 mil habitantes\n",
        "\n",
        "`obitos_mm7d` Média móvel dos últimos 7 dias dos novos óbitos\n",
        "\n",
        "`letalidade`  casos / obitos\n",
        "\n",
        "`nome_drs`  Nome do Dpto. Regional de Saúde\n",
        "\n",
        "`cod_drs`  Código do Dpto. Regional de Saúde\n",
        "\n",
        "`pop`  População Estimada (fonte: SEADE)\n",
        "\n",
        "`semana_epidem` Semana Epidemológica"
      ],
      "metadata": {
        "id": "S13JLezWW2DN"
      }
    },
    {
      "cell_type": "markdown",
      "source": [
        "## 1.4 Leitos e internações no estado de São Paulo\n",
        "\n",
        "Dicionário: https://github.com/seade-R/dados-covid-sp#dicion%C3%A1rio-para-o-arquivo-de-leitos-e-interna%C3%A7%C3%B5es\n",
        "\n",
        "Dados: https://raw.githubusercontent.com/seade-R/dados-covid-sp/master/data/plano_sp_leitos_internacoes_serie_nova_variacao_semanal.csv\n",
        "\n",
        "`datahora` Data no formato YYYY-MM-DD\n",
        "\n",
        "`nome_drs` DRS ou região da Grande São Paulo\n",
        "\n",
        "`pacientes_uti_mm7d` Média móvel para 7 dias do Pacientes Internados em Leitos de UTI Destinados para COVID-19 no dia\n",
        "\n",
        "`total_covid_uti_mm7d`  Média móvel para 7 dias do Total de Leitos de UTI Destinados para COVID-19 no dia\n",
        "\n",
        "`ocupacao_leitos`  Ocupação de leitos de UTI destinados para COVID-19 (pacientes_uti_mm7d / total_covid_uti_mm7d)\n",
        "\n",
        "`pop`  População da DRS ou região da Grande São Paulo (Fonte: SEADE)\n",
        "\n",
        "`leitos_pc`  Leitos Covid-19 UTI por 100 mil habitantes (total_covid_uti_mm7d / pop)\n",
        "\n",
        "`internacoes_28d`  Número de novas internações (UTI e Enfermaria) de pacientes confirmados ou com suspeita de COVID-19 nos últimos 28 dias\n",
        "\n",
        "`internacoes_28d_I`  Número de novas internações (UTI e Enfermaria) de pacientes confirmados ou com suspeita de COVID-19 nos 28 dias anteriores \n",
        "\n",
        "`internacoes_28v28`  Variação no número de novas internações ((internacoes_28d - internacoes_28d_l) / internacoes_28d_l)\n",
        "\n",
        "`internacoes_ultimo_dia`  Número de novas internações (UTI e Enfermaria) de pacientes confirmados ou com suspeita de COVID-19 no último dia\n",
        "\n",
        "`pacientes_enf_mm7d`  Média móvel para 7 dias do Pacientes Internados em Leitos de Enfermaria Destinados para COVID-19 no dia\n",
        "\n",
        "`total_covid_enf_mm7d`  Média móvel para 7 dias do Total de Leitos de Enfermaria Destinados para COVID-19 no dia\n",
        "\n",
        "`pacientes_enf_ultimo_dia`  Pacientes Internados em Leitos de Enfermaria Destinados para COVID-19 no último dia\n",
        "\n",
        "`total_covid_enf_ultimos_dia`  Total de Leitos de Enfermaria Destinados para COVID-19 no último dia\n",
        "\n",
        "\n"
      ],
      "metadata": {
        "id": "ILEftV58ZHiN"
      }
    },
    {
      "cell_type": "code",
      "source": [],
      "metadata": {
        "id": "AToNMcb4Yn9M"
      },
      "execution_count": null,
      "outputs": []
    }
  ]
}